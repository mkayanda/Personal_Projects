{
  "nbformat": 4,
  "nbformat_minor": 0,
  "metadata": {
    "colab": {
      "name": "Pair_question_classification.ipynb",
      "provenance": [],
      "include_colab_link": true
    },
    "kernelspec": {
      "display_name": "Python 3",
      "name": "python3"
    },
    "accelerator": "GPU"
  },
  "cells": [
    {
      "cell_type": "markdown",
      "metadata": {
        "id": "view-in-github",
        "colab_type": "text"
      },
      "source": [
        "<a href=\"https://colab.research.google.com/github/mkayanda/moses/blob/master/Pair_question_classification.ipynb\" target=\"_parent\"><img src=\"https://colab.research.google.com/assets/colab-badge.svg\" alt=\"Open In Colab\"/></a>"
      ]
    },
    {
      "cell_type": "code",
      "metadata": {
        "id": "9Cd8LT_wo2Hc"
      },
      "source": [
        "# https://thepythonguru.com/python-how-to-read-and-write-csv-files/\n",
        "import pandas as pd\n",
        "import csv\n",
        "TRAIN = 'https://dl.fbaipublicfiles.com/senteval/senteval_data/msr_paraphrase_train.txt'\n",
        "TEST = 'https://dl.fbaipublicfiles.com/senteval/senteval_data/msr_paraphrase_test.txt'\n",
        "train_df = pd.read_csv(TRAIN, delimiter='\\t', quoting=csv.QUOTE_NONE )\n",
        "test_df = pd.read_csv(TEST, delimiter='\\t', quoting=csv.QUOTE_NONE)"
      ],
      "execution_count": null,
      "outputs": []
    },
    {
      "cell_type": "code",
      "metadata": {
        "colab": {
          "base_uri": "https://localhost:8080/",
          "height": 289
        },
        "id": "sTTIGM6-o6yn",
        "outputId": "fcb5295f-53a6-4318-8229-1224a667c67e"
      },
      "source": [
        "train_df.head()"
      ],
      "execution_count": null,
      "outputs": [
        {
          "output_type": "execute_result",
          "data": {
            "text/html": [
              "<div>\n",
              "<style scoped>\n",
              "    .dataframe tbody tr th:only-of-type {\n",
              "        vertical-align: middle;\n",
              "    }\n",
              "\n",
              "    .dataframe tbody tr th {\n",
              "        vertical-align: top;\n",
              "    }\n",
              "\n",
              "    .dataframe thead th {\n",
              "        text-align: right;\n",
              "    }\n",
              "</style>\n",
              "<table border=\"1\" class=\"dataframe\">\n",
              "  <thead>\n",
              "    <tr style=\"text-align: right;\">\n",
              "      <th></th>\n",
              "      <th>Quality</th>\n",
              "      <th>#1 ID</th>\n",
              "      <th>#2 ID</th>\n",
              "      <th>#1 String</th>\n",
              "      <th>#2 String</th>\n",
              "    </tr>\n",
              "  </thead>\n",
              "  <tbody>\n",
              "    <tr>\n",
              "      <th>0</th>\n",
              "      <td>1</td>\n",
              "      <td>702876</td>\n",
              "      <td>702977</td>\n",
              "      <td>Amrozi accused his brother , whom he called \" ...</td>\n",
              "      <td>Referring to him as only \" the witness \" , Amr...</td>\n",
              "    </tr>\n",
              "    <tr>\n",
              "      <th>1</th>\n",
              "      <td>0</td>\n",
              "      <td>2108705</td>\n",
              "      <td>2108831</td>\n",
              "      <td>Yucaipa owned Dominick 's before selling the c...</td>\n",
              "      <td>Yucaipa bought Dominick 's in 1995 for $ 693 m...</td>\n",
              "    </tr>\n",
              "    <tr>\n",
              "      <th>2</th>\n",
              "      <td>1</td>\n",
              "      <td>1330381</td>\n",
              "      <td>1330521</td>\n",
              "      <td>They had published an advertisement on the Int...</td>\n",
              "      <td>On June 10 , the ship 's owners had published ...</td>\n",
              "    </tr>\n",
              "    <tr>\n",
              "      <th>3</th>\n",
              "      <td>0</td>\n",
              "      <td>3344667</td>\n",
              "      <td>3344648</td>\n",
              "      <td>Around 0335 GMT , Tab shares were up 19 cents ...</td>\n",
              "      <td>Tab shares jumped 20 cents , or 4.6 % , to set...</td>\n",
              "    </tr>\n",
              "    <tr>\n",
              "      <th>4</th>\n",
              "      <td>1</td>\n",
              "      <td>1236820</td>\n",
              "      <td>1236712</td>\n",
              "      <td>The stock rose $ 2.11 , or about 11 percent , ...</td>\n",
              "      <td>PG &amp; E Corp. shares jumped $ 1.63 or 8 percent...</td>\n",
              "    </tr>\n",
              "  </tbody>\n",
              "</table>\n",
              "</div>"
            ],
            "text/plain": [
              "   Quality  ...                                          #2 String\n",
              "0        1  ...  Referring to him as only \" the witness \" , Amr...\n",
              "1        0  ...  Yucaipa bought Dominick 's in 1995 for $ 693 m...\n",
              "2        1  ...  On June 10 , the ship 's owners had published ...\n",
              "3        0  ...  Tab shares jumped 20 cents , or 4.6 % , to set...\n",
              "4        1  ...  PG & E Corp. shares jumped $ 1.63 or 8 percent...\n",
              "\n",
              "[5 rows x 5 columns]"
            ]
          },
          "metadata": {
            "tags": []
          },
          "execution_count": 3
        }
      ]
    },
    {
      "cell_type": "code",
      "metadata": {
        "colab": {
          "base_uri": "https://localhost:8080/",
          "height": 54
        },
        "id": "cie64mB1sGqw",
        "outputId": "987492a2-5348-4ed7-f68f-27f04ed154fe"
      },
      "source": [
        "train_df['#1 String'][0]"
      ],
      "execution_count": null,
      "outputs": [
        {
          "output_type": "execute_result",
          "data": {
            "application/vnd.google.colaboratory.intrinsic+json": {
              "type": "string"
            },
            "text/plain": [
              "'Amrozi accused his brother , whom he called \" the witness \" , of deliberately distorting his evidence .'"
            ]
          },
          "metadata": {
            "tags": []
          },
          "execution_count": 8
        }
      ]
    },
    {
      "cell_type": "code",
      "metadata": {
        "id": "Z6dm9dBXqsZA"
      },
      "source": [
        "# .value changes the rows to arrays Ktrain expected the dataset in tuples. \n",
        "x_train = train_df[['#1 String', '#2 String']].values\n",
        "y_train = train_df['Quality'].values\n",
        "x_test = test_df[['#1 String', '#2 String']].values\n",
        "y_test = test_df['Quality'].values\n",
        "\n"
      ],
      "execution_count": null,
      "outputs": []
    },
    {
      "cell_type": "code",
      "metadata": {
        "colab": {
          "base_uri": "https://localhost:8080/"
        },
        "id": "19EveTEJqwO4",
        "outputId": "03aa97a0-5dcd-444f-da16-2f7f5ed2bb78"
      },
      "source": [
        "x_train"
      ],
      "execution_count": null,
      "outputs": [
        {
          "output_type": "execute_result",
          "data": {
            "text/plain": [
              "array([['Amrozi accused his brother , whom he called \" the witness \" , of deliberately distorting his evidence .',\n",
              "        'Referring to him as only \" the witness \" , Amrozi accused his brother of deliberately distorting his evidence .'],\n",
              "       [\"Yucaipa owned Dominick 's before selling the chain to Safeway in 1998 for $ 2.5 billion .\",\n",
              "        \"Yucaipa bought Dominick 's in 1995 for $ 693 million and sold it to Safeway for $ 1.8 billion in 1998 .\"],\n",
              "       ['They had published an advertisement on the Internet on June 10 , offering the cargo for sale , he added .',\n",
              "        \"On June 10 , the ship 's owners had published an advertisement on the Internet , offering the explosives for sale .\"],\n",
              "       ...,\n",
              "       ['\" We have concluded that the outlook for price stability over the medium term has improved significantly since our last decision to lower interest rates , \" Duisenberg said .',\n",
              "        'In a statement , the ECB said the outlook for price stability over the medium term had \" improved significantly \" since its last decision to lower interest rates in March .'],\n",
              "       ['The notification was first reported Friday by MSNBC .',\n",
              "        'MSNBC.com first reported the CIA request on Friday .'],\n",
              "       [\"The 30-year bond US30YT = RR rose 22 / 32 for a yield of 4.31 percent , versus 4.35 percent at Wednesday 's close .\",\n",
              "        'The 30-year bond US30YT = RR grew 1-3 / 32 for a yield of 4.30 percent , down from 4.35 percent late Wednesday .']],\n",
              "      dtype=object)"
            ]
          },
          "metadata": {
            "tags": []
          },
          "execution_count": 10
        }
      ]
    },
    {
      "cell_type": "code",
      "metadata": {
        "id": "pKRWBDRsB9lJ"
      },
      "source": [
        "# IMPORTANT: data format for sentence pair classification is list of tuples of form (str, str)\n",
        "x_train = list(map(tuple, x_train))\n",
        "x_test = list(map(tuple, x_test))"
      ],
      "execution_count": null,
      "outputs": []
    },
    {
      "cell_type": "code",
      "metadata": {
        "colab": {
          "base_uri": "https://localhost:8080/"
        },
        "id": "wRO9CdbYCDr1",
        "outputId": "28075217-878b-4176-d3a9-05d928061657"
      },
      "source": [
        "print(x_train[0])\n",
        "print(y_train[0])"
      ],
      "execution_count": null,
      "outputs": [
        {
          "output_type": "stream",
          "text": [
            "('Amrozi accused his brother , whom he called \" the witness \" , of deliberately distorting his evidence .', 'Referring to him as only \" the witness \" , Amrozi accused his brother of deliberately distorting his evidence .')\n",
            "1\n"
          ],
          "name": "stdout"
        }
      ]
    },
    {
      "cell_type": "code",
      "metadata": {
        "colab": {
          "base_uri": "https://localhost:8080/"
        },
        "id": "3EdqQ6fqCt4R",
        "outputId": "c07c5c5d-8fb6-494a-bf18-cac8edf70e9c"
      },
      "source": [
        "!pip install ktrain"
      ],
      "execution_count": null,
      "outputs": [
        {
          "output_type": "stream",
          "text": [
            "Collecting ktrain\n",
            "\u001b[?25l  Downloading https://files.pythonhosted.org/packages/13/63/261305e5393181acc4ddbbed982f578d54d820c6b79d51a26eda2c0377c4/ktrain-0.25.1.tar.gz (25.3MB)\n",
            "\u001b[K     |████████████████████████████████| 25.3MB 131kB/s \n",
            "\u001b[?25hRequirement already satisfied: scikit-learn>=0.21.3 in /usr/local/lib/python3.6/dist-packages (from ktrain) (0.22.2.post1)\n",
            "Requirement already satisfied: matplotlib>=3.0.0 in /usr/local/lib/python3.6/dist-packages (from ktrain) (3.2.2)\n",
            "Requirement already satisfied: pandas>=1.0.1 in /usr/local/lib/python3.6/dist-packages (from ktrain) (1.1.4)\n",
            "Requirement already satisfied: fastprogress>=0.1.21 in /usr/local/lib/python3.6/dist-packages (from ktrain) (1.0.0)\n",
            "Requirement already satisfied: requests in /usr/local/lib/python3.6/dist-packages (from ktrain) (2.23.0)\n",
            "Requirement already satisfied: joblib in /usr/local/lib/python3.6/dist-packages (from ktrain) (0.17.0)\n",
            "Requirement already satisfied: packaging in /usr/local/lib/python3.6/dist-packages (from ktrain) (20.4)\n",
            "Requirement already satisfied: ipython in /usr/local/lib/python3.6/dist-packages (from ktrain) (5.5.0)\n",
            "Collecting langdetect\n",
            "\u001b[?25l  Downloading https://files.pythonhosted.org/packages/56/a3/8407c1e62d5980188b4acc45ef3d94b933d14a2ebc9ef3505f22cf772570/langdetect-1.0.8.tar.gz (981kB)\n",
            "\u001b[K     |████████████████████████████████| 983kB 55.2MB/s \n",
            "\u001b[?25hRequirement already satisfied: jieba in /usr/local/lib/python3.6/dist-packages (from ktrain) (0.42.1)\n",
            "Collecting cchardet\n",
            "\u001b[?25l  Downloading https://files.pythonhosted.org/packages/a0/e5/a0b9edd8664ea3b0d3270c451ebbf86655ed9fc4c3e4c45b9afae9c2e382/cchardet-2.1.7-cp36-cp36m-manylinux2010_x86_64.whl (263kB)\n",
            "\u001b[K     |████████████████████████████████| 266kB 51.7MB/s \n",
            "\u001b[?25hCollecting syntok\n",
            "  Downloading https://files.pythonhosted.org/packages/8c/76/a49e73a04b3e3a14ce232e8e28a1587f8108baa665644fe8c40e307e792e/syntok-1.3.1.tar.gz\n",
            "Collecting seqeval==0.0.19\n",
            "  Downloading https://files.pythonhosted.org/packages/93/e5/b7705156a77f742cfe4fc6f22d0c71591edb2d243328dff2f8fc0f933ab6/seqeval-0.0.19.tar.gz\n",
            "Collecting transformers<4.0,>=3.1.0\n",
            "\u001b[?25l  Downloading https://files.pythonhosted.org/packages/3a/83/e74092e7f24a08d751aa59b37a9fc572b2e4af3918cb66f7766c3affb1b4/transformers-3.5.1-py3-none-any.whl (1.3MB)\n",
            "\u001b[K     |████████████████████████████████| 1.3MB 47.9MB/s \n",
            "\u001b[?25hCollecting sentencepiece\n",
            "\u001b[?25l  Downloading https://files.pythonhosted.org/packages/e5/2d/6d4ca4bef9a67070fa1cac508606328329152b1df10bdf31fb6e4e727894/sentencepiece-0.1.94-cp36-cp36m-manylinux2014_x86_64.whl (1.1MB)\n",
            "\u001b[K     |████████████████████████████████| 1.1MB 46.1MB/s \n",
            "\u001b[?25hCollecting keras_bert>=0.86.0\n",
            "  Downloading https://files.pythonhosted.org/packages/e2/7f/95fabd29f4502924fa3f09ff6538c5a7d290dfef2c2fe076d3d1a16e08f0/keras-bert-0.86.0.tar.gz\n",
            "Requirement already satisfied: networkx>=2.3 in /usr/local/lib/python3.6/dist-packages (from ktrain) (2.5)\n",
            "Collecting whoosh\n",
            "\u001b[?25l  Downloading https://files.pythonhosted.org/packages/ba/19/24d0f1f454a2c1eb689ca28d2f178db81e5024f42d82729a4ff6771155cf/Whoosh-2.7.4-py2.py3-none-any.whl (468kB)\n",
            "\u001b[K     |████████████████████████████████| 471kB 46.2MB/s \n",
            "\u001b[?25hRequirement already satisfied: scipy>=0.17.0 in /usr/local/lib/python3.6/dist-packages (from scikit-learn>=0.21.3->ktrain) (1.4.1)\n",
            "Requirement already satisfied: numpy>=1.11.0 in /usr/local/lib/python3.6/dist-packages (from scikit-learn>=0.21.3->ktrain) (1.18.5)\n",
            "Requirement already satisfied: kiwisolver>=1.0.1 in /usr/local/lib/python3.6/dist-packages (from matplotlib>=3.0.0->ktrain) (1.3.1)\n",
            "Requirement already satisfied: python-dateutil>=2.1 in /usr/local/lib/python3.6/dist-packages (from matplotlib>=3.0.0->ktrain) (2.8.1)\n",
            "Requirement already satisfied: cycler>=0.10 in /usr/local/lib/python3.6/dist-packages (from matplotlib>=3.0.0->ktrain) (0.10.0)\n",
            "Requirement already satisfied: pyparsing!=2.0.4,!=2.1.2,!=2.1.6,>=2.0.1 in /usr/local/lib/python3.6/dist-packages (from matplotlib>=3.0.0->ktrain) (2.4.7)\n",
            "Requirement already satisfied: pytz>=2017.2 in /usr/local/lib/python3.6/dist-packages (from pandas>=1.0.1->ktrain) (2018.9)\n",
            "Requirement already satisfied: urllib3!=1.25.0,!=1.25.1,<1.26,>=1.21.1 in /usr/local/lib/python3.6/dist-packages (from requests->ktrain) (1.24.3)\n",
            "Requirement already satisfied: idna<3,>=2.5 in /usr/local/lib/python3.6/dist-packages (from requests->ktrain) (2.10)\n",
            "Requirement already satisfied: certifi>=2017.4.17 in /usr/local/lib/python3.6/dist-packages (from requests->ktrain) (2020.11.8)\n",
            "Requirement already satisfied: chardet<4,>=3.0.2 in /usr/local/lib/python3.6/dist-packages (from requests->ktrain) (3.0.4)\n",
            "Requirement already satisfied: six in /usr/local/lib/python3.6/dist-packages (from packaging->ktrain) (1.15.0)\n",
            "Requirement already satisfied: decorator in /usr/local/lib/python3.6/dist-packages (from ipython->ktrain) (4.4.2)\n",
            "Requirement already satisfied: pygments in /usr/local/lib/python3.6/dist-packages (from ipython->ktrain) (2.6.1)\n",
            "Requirement already satisfied: prompt-toolkit<2.0.0,>=1.0.4 in /usr/local/lib/python3.6/dist-packages (from ipython->ktrain) (1.0.18)\n",
            "Requirement already satisfied: traitlets>=4.2 in /usr/local/lib/python3.6/dist-packages (from ipython->ktrain) (4.3.3)\n",
            "Requirement already satisfied: pickleshare in /usr/local/lib/python3.6/dist-packages (from ipython->ktrain) (0.7.5)\n",
            "Requirement already satisfied: pexpect; sys_platform != \"win32\" in /usr/local/lib/python3.6/dist-packages (from ipython->ktrain) (4.8.0)\n",
            "Requirement already satisfied: setuptools>=18.5 in /usr/local/lib/python3.6/dist-packages (from ipython->ktrain) (50.3.2)\n",
            "Requirement already satisfied: simplegeneric>0.8 in /usr/local/lib/python3.6/dist-packages (from ipython->ktrain) (0.8.1)\n",
            "Requirement already satisfied: regex in /usr/local/lib/python3.6/dist-packages (from syntok->ktrain) (2019.12.20)\n",
            "Requirement already satisfied: Keras>=2.2.4 in /usr/local/lib/python3.6/dist-packages (from seqeval==0.0.19->ktrain) (2.4.3)\n",
            "Requirement already satisfied: filelock in /usr/local/lib/python3.6/dist-packages (from transformers<4.0,>=3.1.0->ktrain) (3.0.12)\n",
            "Requirement already satisfied: tqdm>=4.27 in /usr/local/lib/python3.6/dist-packages (from transformers<4.0,>=3.1.0->ktrain) (4.41.1)\n",
            "Collecting tokenizers==0.9.3\n",
            "\u001b[?25l  Downloading https://files.pythonhosted.org/packages/4c/34/b39eb9994bc3c999270b69c9eea40ecc6f0e97991dba28282b9fd32d44ee/tokenizers-0.9.3-cp36-cp36m-manylinux1_x86_64.whl (2.9MB)\n",
            "\u001b[K     |████████████████████████████████| 2.9MB 52.4MB/s \n",
            "\u001b[?25hCollecting sacremoses\n",
            "\u001b[?25l  Downloading https://files.pythonhosted.org/packages/7d/34/09d19aff26edcc8eb2a01bed8e98f13a1537005d31e95233fd48216eed10/sacremoses-0.0.43.tar.gz (883kB)\n",
            "\u001b[K     |████████████████████████████████| 890kB 44.3MB/s \n",
            "\u001b[?25hRequirement already satisfied: dataclasses; python_version < \"3.7\" in /usr/local/lib/python3.6/dist-packages (from transformers<4.0,>=3.1.0->ktrain) (0.8)\n",
            "Requirement already satisfied: protobuf in /usr/local/lib/python3.6/dist-packages (from transformers<4.0,>=3.1.0->ktrain) (3.12.4)\n",
            "Collecting keras-transformer>=0.38.0\n",
            "  Downloading https://files.pythonhosted.org/packages/89/6c/d6f0c164f4cc16fbc0d0fea85f5526e87a7d2df7b077809e422a7e626150/keras-transformer-0.38.0.tar.gz\n",
            "Requirement already satisfied: wcwidth in /usr/local/lib/python3.6/dist-packages (from prompt-toolkit<2.0.0,>=1.0.4->ipython->ktrain) (0.2.5)\n",
            "Requirement already satisfied: ipython-genutils in /usr/local/lib/python3.6/dist-packages (from traitlets>=4.2->ipython->ktrain) (0.2.0)\n",
            "Requirement already satisfied: ptyprocess>=0.5 in /usr/local/lib/python3.6/dist-packages (from pexpect; sys_platform != \"win32\"->ipython->ktrain) (0.6.0)\n",
            "Requirement already satisfied: h5py in /usr/local/lib/python3.6/dist-packages (from Keras>=2.2.4->seqeval==0.0.19->ktrain) (2.10.0)\n",
            "Requirement already satisfied: pyyaml in /usr/local/lib/python3.6/dist-packages (from Keras>=2.2.4->seqeval==0.0.19->ktrain) (3.13)\n",
            "Requirement already satisfied: click in /usr/local/lib/python3.6/dist-packages (from sacremoses->transformers<4.0,>=3.1.0->ktrain) (7.1.2)\n",
            "Collecting keras-pos-embd>=0.11.0\n",
            "  Downloading https://files.pythonhosted.org/packages/09/70/b63ed8fc660da2bb6ae29b9895401c628da5740c048c190b5d7107cadd02/keras-pos-embd-0.11.0.tar.gz\n",
            "Collecting keras-multi-head>=0.27.0\n",
            "  Downloading https://files.pythonhosted.org/packages/e6/32/45adf2549450aca7867deccfa04af80a0ab1ca139af44b16bc669e0e09cd/keras-multi-head-0.27.0.tar.gz\n",
            "Collecting keras-layer-normalization>=0.14.0\n",
            "  Downloading https://files.pythonhosted.org/packages/a4/0e/d1078df0494bac9ce1a67954e5380b6e7569668f0f3b50a9531c62c1fc4a/keras-layer-normalization-0.14.0.tar.gz\n",
            "Collecting keras-position-wise-feed-forward>=0.6.0\n",
            "  Downloading https://files.pythonhosted.org/packages/e3/59/f0faa1037c033059e7e9e7758e6c23b4d1c0772cd48de14c4b6fd4033ad5/keras-position-wise-feed-forward-0.6.0.tar.gz\n",
            "Collecting keras-embed-sim>=0.8.0\n",
            "  Downloading https://files.pythonhosted.org/packages/57/ef/61a1e39082c9e1834a2d09261d4a0b69f7c818b359216d4e1912b20b1c86/keras-embed-sim-0.8.0.tar.gz\n",
            "Collecting keras-self-attention==0.46.0\n",
            "  Downloading https://files.pythonhosted.org/packages/15/6b/c804924a056955fa1f3ff767945187103cfc851ba9bd0fc5a6c6bc18e2eb/keras-self-attention-0.46.0.tar.gz\n",
            "Building wheels for collected packages: ktrain, langdetect, syntok, seqeval, keras-bert, sacremoses, keras-transformer, keras-pos-embd, keras-multi-head, keras-layer-normalization, keras-position-wise-feed-forward, keras-embed-sim, keras-self-attention\n",
            "  Building wheel for ktrain (setup.py) ... \u001b[?25l\u001b[?25hdone\n",
            "  Created wheel for ktrain: filename=ktrain-0.25.1-cp36-none-any.whl size=25276126 sha256=2c449bcc8ad822b0a59e5ef53c5607fd45160687c98d18ab8aed00a0861f1862\n",
            "  Stored in directory: /root/.cache/pip/wheels/4c/af/2a/3b4aa379166bc910a4132ecb83f795c854b2a4293f83f0b736\n",
            "  Building wheel for langdetect (setup.py) ... \u001b[?25l\u001b[?25hdone\n",
            "  Created wheel for langdetect: filename=langdetect-1.0.8-cp36-none-any.whl size=993195 sha256=2229791fca114e2fec4864e373ba1da0ecc83d2073539e2bc93507831ba06d70\n",
            "  Stored in directory: /root/.cache/pip/wheels/8d/b3/aa/6d99de9f3841d7d3d40a60ea06e6d669e8e5012e6c8b947a57\n",
            "  Building wheel for syntok (setup.py) ... \u001b[?25l\u001b[?25hdone\n",
            "  Created wheel for syntok: filename=syntok-1.3.1-cp36-none-any.whl size=20919 sha256=e22980aab0d6ef177e1263e00c3bdef746003da9988105da933a0d70e24f8808\n",
            "  Stored in directory: /root/.cache/pip/wheels/51/c6/a4/be1920586c49469846bcd2888200bdecfe109ec421dab9be2d\n",
            "  Building wheel for seqeval (setup.py) ... \u001b[?25l\u001b[?25hdone\n",
            "  Created wheel for seqeval: filename=seqeval-0.0.19-cp36-none-any.whl size=9919 sha256=36dd13aefadd69d6b15c98c96ebf10f5b0b3823357ecdb8328096a5beed252bf\n",
            "  Stored in directory: /root/.cache/pip/wheels/8d/1f/bf/1198beceed805a2099060975f6281d1b01046dd279e19c97be\n",
            "  Building wheel for keras-bert (setup.py) ... \u001b[?25l\u001b[?25hdone\n",
            "  Created wheel for keras-bert: filename=keras_bert-0.86.0-cp36-none-any.whl size=34145 sha256=657ebf4d36b69ec65c442a7a34e020f1c765fca01ade48abc3b2cdf6d8d6ac9f\n",
            "  Stored in directory: /root/.cache/pip/wheels/66/f0/b1/748128b58562fc9e31b907bb5e2ab6a35eb37695e83911236b\n",
            "  Building wheel for sacremoses (setup.py) ... \u001b[?25l\u001b[?25hdone\n",
            "  Created wheel for sacremoses: filename=sacremoses-0.0.43-cp36-none-any.whl size=893257 sha256=0a60f517565d35872ae34695646f3f5f3a9a275366f731c1fff0d19ed49c8af8\n",
            "  Stored in directory: /root/.cache/pip/wheels/29/3c/fd/7ce5c3f0666dab31a50123635e6fb5e19ceb42ce38d4e58f45\n",
            "  Building wheel for keras-transformer (setup.py) ... \u001b[?25l\u001b[?25hdone\n",
            "  Created wheel for keras-transformer: filename=keras_transformer-0.38.0-cp36-none-any.whl size=12942 sha256=ad9c7b958d0b86880750c1bc2309d101cfedb032895ba9459611681865514f3f\n",
            "  Stored in directory: /root/.cache/pip/wheels/e5/fb/3a/37b2b9326c799aa010ae46a04ddb04f320d8c77c0b7e837f4e\n",
            "  Building wheel for keras-pos-embd (setup.py) ... \u001b[?25l\u001b[?25hdone\n",
            "  Created wheel for keras-pos-embd: filename=keras_pos_embd-0.11.0-cp36-none-any.whl size=7554 sha256=0aeba8199d42d841918783223903954e3a6a03065341e3443c79364dab8606e4\n",
            "  Stored in directory: /root/.cache/pip/wheels/5b/a1/a0/ce6b1d49ba1a9a76f592e70cf297b05c96bc9f418146761032\n",
            "  Building wheel for keras-multi-head (setup.py) ... \u001b[?25l\u001b[?25hdone\n",
            "  Created wheel for keras-multi-head: filename=keras_multi_head-0.27.0-cp36-none-any.whl size=15612 sha256=b8d11a6b3c9f08d368085147e58b9e53bc81dc8c68b6d77346b58a47bd41dfc0\n",
            "  Stored in directory: /root/.cache/pip/wheels/b5/b4/49/0a0c27dcb93c13af02fea254ff51d1a43a924dd4e5b7a7164d\n",
            "  Building wheel for keras-layer-normalization (setup.py) ... \u001b[?25l\u001b[?25hdone\n",
            "  Created wheel for keras-layer-normalization: filename=keras_layer_normalization-0.14.0-cp36-none-any.whl size=5268 sha256=128cfdab913ba8622265e949084ec0a778ac5ff784ad5e5590681dfa5a88de1a\n",
            "  Stored in directory: /root/.cache/pip/wheels/54/80/22/a638a7d406fd155e507aa33d703e3fa2612b9eb7bb4f4fe667\n",
            "  Building wheel for keras-position-wise-feed-forward (setup.py) ... \u001b[?25l\u001b[?25hdone\n",
            "  Created wheel for keras-position-wise-feed-forward: filename=keras_position_wise_feed_forward-0.6.0-cp36-none-any.whl size=5626 sha256=cca82cdb95d87e9e2e2ea0fe3a29568cf5dce977db733ace87254a0e083d4fe8\n",
            "  Stored in directory: /root/.cache/pip/wheels/39/e2/e2/3514fef126a00574b13bc0b9e23891800158df3a3c19c96e3b\n",
            "  Building wheel for keras-embed-sim (setup.py) ... \u001b[?25l\u001b[?25hdone\n",
            "  Created wheel for keras-embed-sim: filename=keras_embed_sim-0.8.0-cp36-none-any.whl size=4559 sha256=66afd8bbdcd4398da8cfd2f89f2ffde27b7256b7323a93fa510d314d64b55e90\n",
            "  Stored in directory: /root/.cache/pip/wheels/49/45/8b/c111f6cc8bec253e984677de73a6f4f5d2f1649f42aac191c8\n",
            "  Building wheel for keras-self-attention (setup.py) ... \u001b[?25l\u001b[?25hdone\n",
            "  Created wheel for keras-self-attention: filename=keras_self_attention-0.46.0-cp36-none-any.whl size=17278 sha256=5bb0e157a0dff829aad6a9a38d946b424b16e0e4fa393defaaaa3d48805327b8\n",
            "  Stored in directory: /root/.cache/pip/wheels/d2/2e/80/fec4c05eb23c8e13b790e26d207d6e0ffe8013fad8c6bdd4d2\n",
            "Successfully built ktrain langdetect syntok seqeval keras-bert sacremoses keras-transformer keras-pos-embd keras-multi-head keras-layer-normalization keras-position-wise-feed-forward keras-embed-sim keras-self-attention\n",
            "\u001b[31mERROR: transformers 3.5.1 has requirement sentencepiece==0.1.91, but you'll have sentencepiece 0.1.94 which is incompatible.\u001b[0m\n",
            "Installing collected packages: langdetect, cchardet, syntok, seqeval, tokenizers, sentencepiece, sacremoses, transformers, keras-pos-embd, keras-self-attention, keras-multi-head, keras-layer-normalization, keras-position-wise-feed-forward, keras-embed-sim, keras-transformer, keras-bert, whoosh, ktrain\n",
            "Successfully installed cchardet-2.1.7 keras-bert-0.86.0 keras-embed-sim-0.8.0 keras-layer-normalization-0.14.0 keras-multi-head-0.27.0 keras-pos-embd-0.11.0 keras-position-wise-feed-forward-0.6.0 keras-self-attention-0.46.0 keras-transformer-0.38.0 ktrain-0.25.1 langdetect-1.0.8 sacremoses-0.0.43 sentencepiece-0.1.94 seqeval-0.0.19 syntok-1.3.1 tokenizers-0.9.3 transformers-3.5.1 whoosh-2.7.4\n"
          ],
          "name": "stdout"
        }
      ]
    },
    {
      "cell_type": "code",
      "metadata": {
        "colab": {
          "base_uri": "https://localhost:8080/",
          "height": 1000
        },
        "id": "3y7jp9EFCaGi",
        "outputId": "285a640b-89d7-40a7-c49f-798c82f1c8f0"
      },
      "source": [
        "import ktrain\n",
        "from ktrain import text\n",
        "# https://nbviewer.jupyter.org/github/amaiya/ktrain/blob/master/tutorials/tutorial-A3-hugging_face_transformers.ipynb\n",
        "# https://huggingface.co/models\n",
        "MODEL_NAME = 'distilbert-base-uncased'\n",
        "t = text.Transformer(MODEL_NAME, maxlen=128, class_names=['not paraphrase', 'paraphrase'])\n",
        "trn = t.preprocess_train(x_train, y_train)\n",
        "val = t.preprocess_test(x_test, y_test)\n",
        "model = t.get_classifier()\n",
        "learner = ktrain.get_learner(model, train_data=trn, val_data=val, batch_size=32) # lower bs if OOM occurs\n",
        "learner.fit_onecycle(5e-5, 36)"
      ],
      "execution_count": null,
      "outputs": [
        {
          "output_type": "stream",
          "text": [
            "preprocessing train...\n",
            "language: en\n",
            "sentence pairs detected\n"
          ],
          "name": "stdout"
        },
        {
          "output_type": "display_data",
          "data": {
            "text/html": [
              ""
            ],
            "text/plain": [
              "<IPython.core.display.HTML object>"
            ]
          },
          "metadata": {
            "tags": []
          }
        },
        {
          "output_type": "stream",
          "text": [
            "Is Multi-Label? False\n",
            "preprocessing test...\n",
            "language: en\n",
            "sentence pairs detected\n"
          ],
          "name": "stdout"
        },
        {
          "output_type": "display_data",
          "data": {
            "text/html": [
              ""
            ],
            "text/plain": [
              "<IPython.core.display.HTML object>"
            ]
          },
          "metadata": {
            "tags": []
          }
        },
        {
          "output_type": "stream",
          "text": [
            "\n",
            "\n",
            "begin training using onecycle policy with max lr of 5e-05...\n",
            "Epoch 1/36\n",
            "128/128 [==============================] - 56s 434ms/step - loss: 0.6147 - accuracy: 0.6762 - val_loss: 0.5853 - val_accuracy: 0.6794\n",
            "Epoch 2/36\n",
            "128/128 [==============================] - 56s 435ms/step - loss: 0.5152 - accuracy: 0.7343 - val_loss: 0.4391 - val_accuracy: 0.7930\n",
            "Epoch 3/36\n",
            "128/128 [==============================] - 57s 443ms/step - loss: 0.3668 - accuracy: 0.8376 - val_loss: 0.4066 - val_accuracy: 0.8122\n",
            "Epoch 4/36\n",
            "128/128 [==============================] - 58s 449ms/step - loss: 0.2353 - accuracy: 0.9129 - val_loss: 0.4172 - val_accuracy: 0.8278\n",
            "Epoch 5/36\n",
            "128/128 [==============================] - 58s 453ms/step - loss: 0.1410 - accuracy: 0.9512 - val_loss: 0.4713 - val_accuracy: 0.8209\n",
            "Epoch 6/36\n",
            "128/128 [==============================] - 58s 454ms/step - loss: 0.0924 - accuracy: 0.9728 - val_loss: 0.7333 - val_accuracy: 0.8035\n",
            "Epoch 7/36\n",
            "128/128 [==============================] - 58s 453ms/step - loss: 0.0740 - accuracy: 0.9769 - val_loss: 0.6392 - val_accuracy: 0.8145\n",
            "Epoch 8/36\n",
            "128/128 [==============================] - 58s 454ms/step - loss: 0.0542 - accuracy: 0.9831 - val_loss: 0.7284 - val_accuracy: 0.8064\n",
            "Epoch 9/36\n",
            "128/128 [==============================] - 58s 453ms/step - loss: 0.0504 - accuracy: 0.9870 - val_loss: 0.6171 - val_accuracy: 0.8186\n",
            "Epoch 10/36\n",
            "128/128 [==============================] - 58s 453ms/step - loss: 0.0313 - accuracy: 0.9902 - val_loss: 0.7465 - val_accuracy: 0.8157\n",
            "Epoch 11/36\n",
            "128/128 [==============================] - 58s 454ms/step - loss: 0.0323 - accuracy: 0.9897 - val_loss: 0.8128 - val_accuracy: 0.8151\n",
            "Epoch 12/36\n",
            "128/128 [==============================] - 58s 453ms/step - loss: 0.0320 - accuracy: 0.9909 - val_loss: 0.7321 - val_accuracy: 0.7971\n",
            "Epoch 13/36\n",
            "128/128 [==============================] - 58s 453ms/step - loss: 0.0315 - accuracy: 0.9904 - val_loss: 0.8092 - val_accuracy: 0.8139\n",
            "Epoch 14/36\n",
            "128/128 [==============================] - 58s 453ms/step - loss: 0.0404 - accuracy: 0.9865 - val_loss: 0.7852 - val_accuracy: 0.8174\n",
            "Epoch 15/36\n",
            "128/128 [==============================] - 58s 453ms/step - loss: 0.0333 - accuracy: 0.9890 - val_loss: 0.8440 - val_accuracy: 0.8139\n",
            "Epoch 16/36\n",
            "128/128 [==============================] - 58s 453ms/step - loss: 0.0231 - accuracy: 0.9924 - val_loss: 0.7357 - val_accuracy: 0.8186\n",
            "Epoch 17/36\n",
            "128/128 [==============================] - 58s 453ms/step - loss: 0.0273 - accuracy: 0.9902 - val_loss: 0.8283 - val_accuracy: 0.7965\n",
            "Epoch 18/36\n",
            "128/128 [==============================] - 58s 452ms/step - loss: 0.0330 - accuracy: 0.9902 - val_loss: 0.8875 - val_accuracy: 0.8081\n",
            "Epoch 19/36\n",
            "128/128 [==============================] - 58s 452ms/step - loss: 0.0207 - accuracy: 0.9926 - val_loss: 0.8380 - val_accuracy: 0.8209\n",
            "Epoch 20/36\n",
            "128/128 [==============================] - 58s 452ms/step - loss: 0.0123 - accuracy: 0.9971 - val_loss: 1.0428 - val_accuracy: 0.8122\n",
            "Epoch 21/36\n",
            "128/128 [==============================] - 58s 454ms/step - loss: 0.0126 - accuracy: 0.9963 - val_loss: 0.8848 - val_accuracy: 0.8186\n",
            "Epoch 22/36\n",
            "128/128 [==============================] - 58s 454ms/step - loss: 0.0110 - accuracy: 0.9971 - val_loss: 0.9069 - val_accuracy: 0.8174\n",
            "Epoch 23/36\n",
            "128/128 [==============================] - 58s 453ms/step - loss: 0.0142 - accuracy: 0.9958 - val_loss: 0.8756 - val_accuracy: 0.8133\n",
            "Epoch 24/36\n",
            "128/128 [==============================] - 58s 453ms/step - loss: 0.0131 - accuracy: 0.9953 - val_loss: 0.8449 - val_accuracy: 0.8249\n",
            "Epoch 25/36\n",
            "128/128 [==============================] - 58s 453ms/step - loss: 0.0040 - accuracy: 0.9983 - val_loss: 0.9064 - val_accuracy: 0.8186\n",
            "Epoch 26/36\n",
            "128/128 [==============================] - 58s 452ms/step - loss: 0.0050 - accuracy: 0.9990 - val_loss: 1.0514 - val_accuracy: 0.8249\n",
            "Epoch 27/36\n",
            "128/128 [==============================] - 58s 453ms/step - loss: 0.0050 - accuracy: 0.9985 - val_loss: 1.0198 - val_accuracy: 0.8238\n",
            "Epoch 28/36\n",
            "128/128 [==============================] - 58s 453ms/step - loss: 0.0012 - accuracy: 0.9993 - val_loss: 1.0714 - val_accuracy: 0.8226\n",
            "Epoch 29/36\n",
            "128/128 [==============================] - 58s 453ms/step - loss: 0.0038 - accuracy: 0.9988 - val_loss: 1.0525 - val_accuracy: 0.8226\n",
            "Epoch 30/36\n",
            "128/128 [==============================] - 58s 453ms/step - loss: 0.0050 - accuracy: 0.9985 - val_loss: 0.9923 - val_accuracy: 0.8186\n",
            "Epoch 31/36\n",
            "128/128 [==============================] - 58s 453ms/step - loss: 8.2677e-04 - accuracy: 0.9998 - val_loss: 0.9901 - val_accuracy: 0.8197\n",
            "Epoch 32/36\n",
            "128/128 [==============================] - 58s 454ms/step - loss: 0.0015 - accuracy: 0.9998 - val_loss: 1.1158 - val_accuracy: 0.8162\n",
            "Epoch 33/36\n",
            "128/128 [==============================] - 58s 453ms/step - loss: 8.1449e-04 - accuracy: 0.9998 - val_loss: 1.0661 - val_accuracy: 0.8214\n",
            "Epoch 34/36\n",
            "128/128 [==============================] - 58s 452ms/step - loss: 0.0013 - accuracy: 0.9995 - val_loss: 1.0359 - val_accuracy: 0.8243\n",
            "Epoch 35/36\n",
            "128/128 [==============================] - 58s 453ms/step - loss: 0.0012 - accuracy: 0.9998 - val_loss: 1.1372 - val_accuracy: 0.8186\n",
            "Epoch 36/36\n",
            "128/128 [==============================] - 58s 453ms/step - loss: 0.0015 - accuracy: 0.9995 - val_loss: 1.1155 - val_accuracy: 0.8180\n"
          ],
          "name": "stdout"
        },
        {
          "output_type": "execute_result",
          "data": {
            "text/plain": [
              "<tensorflow.python.keras.callbacks.History at 0x7f4c1e074978>"
            ]
          },
          "metadata": {
            "tags": []
          },
          "execution_count": 16
        }
      ]
    },
    {
      "cell_type": "code",
      "metadata": {
        "id": "q-lUVSiGVFo2"
      },
      "source": [
        ""
      ],
      "execution_count": null,
      "outputs": []
    }
  ]
}