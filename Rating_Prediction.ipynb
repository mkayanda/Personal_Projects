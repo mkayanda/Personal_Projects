{
  "nbformat": 4,
  "nbformat_minor": 0,
  "metadata": {
    "colab": {
      "name": "Rating_Prediction.ipynb",
      "provenance": [],
      "mount_file_id": "1quVWxE8DK1i0qvCyijsqRfwv3v_s9Z2i",
      "authorship_tag": "ABX9TyPsBpH0cFM7apNcNnt+cMLB",
      "include_colab_link": true
    },
    "kernelspec": {
      "name": "python3",
      "display_name": "Python 3"
    },
    "language_info": {
      "name": "python"
    },
    "accelerator": "GPU"
  },
  "cells": [
    {
      "cell_type": "markdown",
      "metadata": {
        "id": "view-in-github",
        "colab_type": "text"
      },
      "source": [
        "<a href=\"https://colab.research.google.com/github/mkayanda/Personal_Projects/blob/master/Rating_Prediction.ipynb\" target=\"_parent\"><img src=\"https://colab.research.google.com/assets/colab-badge.svg\" alt=\"Open In Colab\"/></a>"
      ]
    },
    {
      "cell_type": "code",
      "metadata": {
        "id": "agznEHFrT867"
      },
      "source": [
        "import pandas as pd\n",
        "import numpy as np\n",
        "import json \n",
        "import seaborn as sns\n",
        "import matplotlib.pyplot as plt\n",
        "import os\n",
        "\n",
        "from sklearn import linear_model\n",
        "from sklearn import preprocessing\n",
        "from sklearn.metrics import mean_squared_error, r2_score, accuracy_score, precision_score, recall_score, f1_score\n",
        "from sklearn.model_selection import train_test_split, GridSearchCV\n",
        "from sklearn.ensemble import GradientBoostingRegressor, GradientBoostingClassifier\n",
        "from sklearn.ensemble.partial_dependence import plot_partial_dependence\n",
        "\n",
        "pd.options.display.max_columns = None\n",
        "pd.options.display.max_rows = None\n",
        "pd.options.display.max_colwidth = 1000"
      ],
      "execution_count": 3,
      "outputs": []
    },
    {
      "cell_type": "code",
      "metadata": {
        "id": "LYlZRjqXUDLU",
        "colab": {
          "base_uri": "https://localhost:8080/"
        },
        "outputId": "4a74f6e6-16de-4fdb-8bbe-892181165074"
      },
      "source": [
        "from google.colab import drive\n",
        "drive.mount('/gdrive')\n",
        "%cd /gdrive"
      ],
      "execution_count": 7,
      "outputs": [
        {
          "output_type": "stream",
          "name": "stdout",
          "text": [
            "Drive already mounted at /gdrive; to attempt to forcibly remount, call drive.mount(\"/gdrive\", force_remount=True).\n",
            "/gdrive\n"
          ]
        }
      ]
    },
    {
      "cell_type": "code",
      "metadata": {
        "id": "iaHsqgw2nl2r"
      },
      "source": [
        "root_path = '/content/drive/MyDrive/googleplaystore.csv' "
      ],
      "execution_count": 1,
      "outputs": []
    },
    {
      "cell_type": "code",
      "metadata": {
        "id": "xxcMBBYIUTjH"
      },
      "source": [
        "google_play_raw = pd.read_csv(root_path)"
      ],
      "execution_count": 4,
      "outputs": []
    },
    {
      "cell_type": "code",
      "metadata": {
        "colab": {
          "base_uri": "https://localhost:8080/",
          "height": 564
        },
        "id": "pJLrldJ5UHKE",
        "outputId": "95a84fbe-cbb8-4624-aa85-1789fa304bf4"
      },
      "source": [
        "google_play_raw.head()"
      ],
      "execution_count": 6,
      "outputs": [
        {
          "output_type": "execute_result",
          "data": {
            "text/html": [
              "<div>\n",
              "<style scoped>\n",
              "    .dataframe tbody tr th:only-of-type {\n",
              "        vertical-align: middle;\n",
              "    }\n",
              "\n",
              "    .dataframe tbody tr th {\n",
              "        vertical-align: top;\n",
              "    }\n",
              "\n",
              "    .dataframe thead th {\n",
              "        text-align: right;\n",
              "    }\n",
              "</style>\n",
              "<table border=\"1\" class=\"dataframe\">\n",
              "  <thead>\n",
              "    <tr style=\"text-align: right;\">\n",
              "      <th></th>\n",
              "      <th>App</th>\n",
              "      <th>Category</th>\n",
              "      <th>Rating</th>\n",
              "      <th>Reviews</th>\n",
              "      <th>Size</th>\n",
              "      <th>Installs</th>\n",
              "      <th>Type</th>\n",
              "      <th>Price</th>\n",
              "      <th>Content Rating</th>\n",
              "      <th>Genres</th>\n",
              "      <th>Last Updated</th>\n",
              "      <th>Current Ver</th>\n",
              "      <th>Android Ver</th>\n",
              "    </tr>\n",
              "  </thead>\n",
              "  <tbody>\n",
              "    <tr>\n",
              "      <th>0</th>\n",
              "      <td>Photo Editor &amp; Candy Camera &amp; Grid &amp; ScrapBook</td>\n",
              "      <td>ART_AND_DESIGN</td>\n",
              "      <td>4.1</td>\n",
              "      <td>159</td>\n",
              "      <td>19M</td>\n",
              "      <td>10,000+</td>\n",
              "      <td>Free</td>\n",
              "      <td>0</td>\n",
              "      <td>Everyone</td>\n",
              "      <td>Art &amp; Design</td>\n",
              "      <td>January 7, 2018</td>\n",
              "      <td>1.0.0</td>\n",
              "      <td>4.0.3 and up</td>\n",
              "    </tr>\n",
              "    <tr>\n",
              "      <th>1</th>\n",
              "      <td>Coloring book moana</td>\n",
              "      <td>ART_AND_DESIGN</td>\n",
              "      <td>3.9</td>\n",
              "      <td>967</td>\n",
              "      <td>14M</td>\n",
              "      <td>500,000+</td>\n",
              "      <td>Free</td>\n",
              "      <td>0</td>\n",
              "      <td>Everyone</td>\n",
              "      <td>Art &amp; Design;Pretend Play</td>\n",
              "      <td>January 15, 2018</td>\n",
              "      <td>2.0.0</td>\n",
              "      <td>4.0.3 and up</td>\n",
              "    </tr>\n",
              "    <tr>\n",
              "      <th>2</th>\n",
              "      <td>U Launcher Lite – FREE Live Cool Themes, Hide Apps</td>\n",
              "      <td>ART_AND_DESIGN</td>\n",
              "      <td>4.7</td>\n",
              "      <td>87510</td>\n",
              "      <td>8.7M</td>\n",
              "      <td>5,000,000+</td>\n",
              "      <td>Free</td>\n",
              "      <td>0</td>\n",
              "      <td>Everyone</td>\n",
              "      <td>Art &amp; Design</td>\n",
              "      <td>August 1, 2018</td>\n",
              "      <td>1.2.4</td>\n",
              "      <td>4.0.3 and up</td>\n",
              "    </tr>\n",
              "    <tr>\n",
              "      <th>3</th>\n",
              "      <td>Sketch - Draw &amp; Paint</td>\n",
              "      <td>ART_AND_DESIGN</td>\n",
              "      <td>4.5</td>\n",
              "      <td>215644</td>\n",
              "      <td>25M</td>\n",
              "      <td>50,000,000+</td>\n",
              "      <td>Free</td>\n",
              "      <td>0</td>\n",
              "      <td>Teen</td>\n",
              "      <td>Art &amp; Design</td>\n",
              "      <td>June 8, 2018</td>\n",
              "      <td>Varies with device</td>\n",
              "      <td>4.2 and up</td>\n",
              "    </tr>\n",
              "    <tr>\n",
              "      <th>4</th>\n",
              "      <td>Pixel Draw - Number Art Coloring Book</td>\n",
              "      <td>ART_AND_DESIGN</td>\n",
              "      <td>4.3</td>\n",
              "      <td>967</td>\n",
              "      <td>2.8M</td>\n",
              "      <td>100,000+</td>\n",
              "      <td>Free</td>\n",
              "      <td>0</td>\n",
              "      <td>Everyone</td>\n",
              "      <td>Art &amp; Design;Creativity</td>\n",
              "      <td>June 20, 2018</td>\n",
              "      <td>1.1</td>\n",
              "      <td>4.4 and up</td>\n",
              "    </tr>\n",
              "  </tbody>\n",
              "</table>\n",
              "</div>"
            ],
            "text/plain": [
              "                                                  App        Category  Rating  \\\n",
              "0      Photo Editor & Candy Camera & Grid & ScrapBook  ART_AND_DESIGN     4.1   \n",
              "1                                 Coloring book moana  ART_AND_DESIGN     3.9   \n",
              "2  U Launcher Lite – FREE Live Cool Themes, Hide Apps  ART_AND_DESIGN     4.7   \n",
              "3                               Sketch - Draw & Paint  ART_AND_DESIGN     4.5   \n",
              "4               Pixel Draw - Number Art Coloring Book  ART_AND_DESIGN     4.3   \n",
              "\n",
              "  Reviews  Size     Installs  Type Price Content Rating  \\\n",
              "0     159   19M      10,000+  Free     0       Everyone   \n",
              "1     967   14M     500,000+  Free     0       Everyone   \n",
              "2   87510  8.7M   5,000,000+  Free     0       Everyone   \n",
              "3  215644   25M  50,000,000+  Free     0           Teen   \n",
              "4     967  2.8M     100,000+  Free     0       Everyone   \n",
              "\n",
              "                      Genres      Last Updated         Current Ver  \\\n",
              "0               Art & Design   January 7, 2018               1.0.0   \n",
              "1  Art & Design;Pretend Play  January 15, 2018               2.0.0   \n",
              "2               Art & Design    August 1, 2018               1.2.4   \n",
              "3               Art & Design      June 8, 2018  Varies with device   \n",
              "4    Art & Design;Creativity     June 20, 2018                 1.1   \n",
              "\n",
              "    Android Ver  \n",
              "0  4.0.3 and up  \n",
              "1  4.0.3 and up  \n",
              "2  4.0.3 and up  \n",
              "3    4.2 and up  \n",
              "4    4.4 and up  "
            ]
          },
          "metadata": {},
          "execution_count": 6
        }
      ]
    },
    {
      "cell_type": "code",
      "metadata": {
        "id": "s902PgovUKJM",
        "colab": {
          "base_uri": "https://localhost:8080/"
        },
        "outputId": "e8c08e46-b993-4c01-8616-7a9ae9502800"
      },
      "source": [
        "google_play_raw.info()"
      ],
      "execution_count": 7,
      "outputs": [
        {
          "output_type": "stream",
          "name": "stdout",
          "text": [
            "<class 'pandas.core.frame.DataFrame'>\n",
            "RangeIndex: 10841 entries, 0 to 10840\n",
            "Data columns (total 13 columns):\n",
            " #   Column          Non-Null Count  Dtype  \n",
            "---  ------          --------------  -----  \n",
            " 0   App             10841 non-null  object \n",
            " 1   Category        10841 non-null  object \n",
            " 2   Rating          9367 non-null   float64\n",
            " 3   Reviews         10841 non-null  object \n",
            " 4   Size            10841 non-null  object \n",
            " 5   Installs        10841 non-null  object \n",
            " 6   Type            10840 non-null  object \n",
            " 7   Price           10841 non-null  object \n",
            " 8   Content Rating  10840 non-null  object \n",
            " 9   Genres          10841 non-null  object \n",
            " 10  Last Updated    10841 non-null  object \n",
            " 11  Current Ver     10833 non-null  object \n",
            " 12  Android Ver     10838 non-null  object \n",
            "dtypes: float64(1), object(12)\n",
            "memory usage: 1.1+ MB\n"
          ]
        }
      ]
    },
    {
      "cell_type": "code",
      "metadata": {
        "colab": {
          "base_uri": "https://localhost:8080/"
        },
        "id": "WPQHmRjboXeq",
        "outputId": "ec96824d-6e5e-4053-cea1-b4578b188c2b"
      },
      "source": [
        "google_play_raw['Category'].value_counts()"
      ],
      "execution_count": 8,
      "outputs": [
        {
          "output_type": "execute_result",
          "data": {
            "text/plain": [
              "FAMILY                 1972\n",
              "GAME                   1144\n",
              "TOOLS                   843\n",
              "MEDICAL                 463\n",
              "BUSINESS                460\n",
              "PRODUCTIVITY            424\n",
              "PERSONALIZATION         392\n",
              "COMMUNICATION           387\n",
              "SPORTS                  384\n",
              "LIFESTYLE               382\n",
              "FINANCE                 366\n",
              "HEALTH_AND_FITNESS      341\n",
              "PHOTOGRAPHY             335\n",
              "SOCIAL                  295\n",
              "NEWS_AND_MAGAZINES      283\n",
              "SHOPPING                260\n",
              "TRAVEL_AND_LOCAL        258\n",
              "DATING                  234\n",
              "BOOKS_AND_REFERENCE     231\n",
              "VIDEO_PLAYERS           175\n",
              "EDUCATION               156\n",
              "ENTERTAINMENT           149\n",
              "MAPS_AND_NAVIGATION     137\n",
              "FOOD_AND_DRINK          127\n",
              "HOUSE_AND_HOME           88\n",
              "LIBRARIES_AND_DEMO       85\n",
              "AUTO_AND_VEHICLES        85\n",
              "WEATHER                  82\n",
              "ART_AND_DESIGN           65\n",
              "EVENTS                   64\n",
              "PARENTING                60\n",
              "COMICS                   60\n",
              "BEAUTY                   53\n",
              "1.9                       1\n",
              "Name: Category, dtype: int64"
            ]
          },
          "metadata": {},
          "execution_count": 8
        }
      ]
    },
    {
      "cell_type": "code",
      "metadata": {
        "colab": {
          "base_uri": "https://localhost:8080/"
        },
        "id": "2MVvgFJVou0M",
        "outputId": "8d0d6d7d-3318-45cd-c65c-b07bb29a584e"
      },
      "source": [
        "google_play_raw['Genres'].value_counts().head(20)"
      ],
      "execution_count": 9,
      "outputs": [
        {
          "output_type": "execute_result",
          "data": {
            "text/plain": [
              "Tools                842\n",
              "Entertainment        623\n",
              "Education            549\n",
              "Medical              463\n",
              "Business             460\n",
              "Productivity         424\n",
              "Sports               398\n",
              "Personalization      392\n",
              "Communication        387\n",
              "Lifestyle            381\n",
              "Finance              366\n",
              "Action               365\n",
              "Health & Fitness     341\n",
              "Photography          335\n",
              "Social               295\n",
              "News & Magazines     283\n",
              "Shopping             260\n",
              "Travel & Local       257\n",
              "Dating               234\n",
              "Books & Reference    231\n",
              "Name: Genres, dtype: int64"
            ]
          },
          "metadata": {},
          "execution_count": 9
        }
      ]
    },
    {
      "cell_type": "code",
      "metadata": {
        "colab": {
          "base_uri": "https://localhost:8080/"
        },
        "id": "0liIRAI_o7lk",
        "outputId": "3041461b-3414-410a-f17d-10262b10552d"
      },
      "source": [
        "google_play_raw['Genres'].nunique()"
      ],
      "execution_count": 10,
      "outputs": [
        {
          "output_type": "execute_result",
          "data": {
            "text/plain": [
              "120"
            ]
          },
          "metadata": {},
          "execution_count": 10
        }
      ]
    },
    {
      "cell_type": "code",
      "metadata": {
        "id": "PiQAwYC6pUiq"
      },
      "source": [
        "filtered_columns = ['App','text','Rating','Reviews','Installs']\n",
        "googleplay_filtered = google_play_raw.reindex(columns = filtered_columns)\n",
        "googleplay_filtered = googleplay_filtered[googleplay_filtered['Rating'] == 5]"
      ],
      "execution_count": 11,
      "outputs": []
    },
    {
      "cell_type": "code",
      "metadata": {
        "colab": {
          "base_uri": "https://localhost:8080/",
          "height": 204
        },
        "id": "4_NTXdM3pe85",
        "outputId": "a00d1512-60d7-4a91-96f5-12faa6728c34"
      },
      "source": [
        "googleplay_filtered.head()"
      ],
      "execution_count": 12,
      "outputs": [
        {
          "output_type": "execute_result",
          "data": {
            "text/html": [
              "<div>\n",
              "<style scoped>\n",
              "    .dataframe tbody tr th:only-of-type {\n",
              "        vertical-align: middle;\n",
              "    }\n",
              "\n",
              "    .dataframe tbody tr th {\n",
              "        vertical-align: top;\n",
              "    }\n",
              "\n",
              "    .dataframe thead th {\n",
              "        text-align: right;\n",
              "    }\n",
              "</style>\n",
              "<table border=\"1\" class=\"dataframe\">\n",
              "  <thead>\n",
              "    <tr style=\"text-align: right;\">\n",
              "      <th></th>\n",
              "      <th>App</th>\n",
              "      <th>text</th>\n",
              "      <th>Rating</th>\n",
              "      <th>Reviews</th>\n",
              "      <th>Installs</th>\n",
              "    </tr>\n",
              "  </thead>\n",
              "  <tbody>\n",
              "    <tr>\n",
              "      <th>329</th>\n",
              "      <td>Hojiboy Tojiboyev Life Hacks</td>\n",
              "      <td>NaN</td>\n",
              "      <td>5.0</td>\n",
              "      <td>15</td>\n",
              "      <td>1,000+</td>\n",
              "    </tr>\n",
              "    <tr>\n",
              "      <th>612</th>\n",
              "      <td>American Girls Mobile Numbers</td>\n",
              "      <td>NaN</td>\n",
              "      <td>5.0</td>\n",
              "      <td>5</td>\n",
              "      <td>1,000+</td>\n",
              "    </tr>\n",
              "    <tr>\n",
              "      <th>615</th>\n",
              "      <td>Awake Dating</td>\n",
              "      <td>NaN</td>\n",
              "      <td>5.0</td>\n",
              "      <td>2</td>\n",
              "      <td>100+</td>\n",
              "    </tr>\n",
              "    <tr>\n",
              "      <th>633</th>\n",
              "      <td>Spine- The dating app</td>\n",
              "      <td>NaN</td>\n",
              "      <td>5.0</td>\n",
              "      <td>5</td>\n",
              "      <td>500+</td>\n",
              "    </tr>\n",
              "    <tr>\n",
              "      <th>636</th>\n",
              "      <td>Girls Live Talk - Free Text and Video Chat</td>\n",
              "      <td>NaN</td>\n",
              "      <td>5.0</td>\n",
              "      <td>6</td>\n",
              "      <td>100+</td>\n",
              "    </tr>\n",
              "  </tbody>\n",
              "</table>\n",
              "</div>"
            ],
            "text/plain": [
              "                                            App  text  Rating Reviews Installs\n",
              "329                Hojiboy Tojiboyev Life Hacks   NaN     5.0      15   1,000+\n",
              "612               American Girls Mobile Numbers   NaN     5.0       5   1,000+\n",
              "615                                Awake Dating   NaN     5.0       2     100+\n",
              "633                       Spine- The dating app   NaN     5.0       5     500+\n",
              "636  Girls Live Talk - Free Text and Video Chat   NaN     5.0       6     100+"
            ]
          },
          "metadata": {},
          "execution_count": 12
        }
      ]
    },
    {
      "cell_type": "code",
      "metadata": {
        "colab": {
          "base_uri": "https://localhost:8080/"
        },
        "id": "rlvq8h7esXKK",
        "outputId": "497c3a5d-92ea-445b-e783-fc9745d7b86b"
      },
      "source": [
        "len(googleplay_filtered)"
      ],
      "execution_count": 13,
      "outputs": [
        {
          "output_type": "execute_result",
          "data": {
            "text/plain": [
              "274"
            ]
          },
          "metadata": {},
          "execution_count": 13
        }
      ]
    },
    {
      "cell_type": "code",
      "metadata": {
        "colab": {
          "base_uri": "https://localhost:8080/",
          "height": 185
        },
        "id": "rf5ZbceBsb9t",
        "outputId": "80ec2389-d5e1-4a9b-dc7c-291bc8b167de"
      },
      "source": [
        "# Check if there's any app has rating over 5, which means the data might be noisy \n",
        "google_play_raw.loc[google_play_raw[\"Rating\"] > 5]"
      ],
      "execution_count": 14,
      "outputs": [
        {
          "output_type": "execute_result",
          "data": {
            "text/html": [
              "<div>\n",
              "<style scoped>\n",
              "    .dataframe tbody tr th:only-of-type {\n",
              "        vertical-align: middle;\n",
              "    }\n",
              "\n",
              "    .dataframe tbody tr th {\n",
              "        vertical-align: top;\n",
              "    }\n",
              "\n",
              "    .dataframe thead th {\n",
              "        text-align: right;\n",
              "    }\n",
              "</style>\n",
              "<table border=\"1\" class=\"dataframe\">\n",
              "  <thead>\n",
              "    <tr style=\"text-align: right;\">\n",
              "      <th></th>\n",
              "      <th>App</th>\n",
              "      <th>Category</th>\n",
              "      <th>Rating</th>\n",
              "      <th>Reviews</th>\n",
              "      <th>Size</th>\n",
              "      <th>Installs</th>\n",
              "      <th>Type</th>\n",
              "      <th>Price</th>\n",
              "      <th>Content Rating</th>\n",
              "      <th>Genres</th>\n",
              "      <th>Last Updated</th>\n",
              "      <th>Current Ver</th>\n",
              "      <th>Android Ver</th>\n",
              "    </tr>\n",
              "  </thead>\n",
              "  <tbody>\n",
              "    <tr>\n",
              "      <th>10472</th>\n",
              "      <td>Life Made WI-Fi Touchscreen Photo Frame</td>\n",
              "      <td>1.9</td>\n",
              "      <td>19.0</td>\n",
              "      <td>3.0M</td>\n",
              "      <td>1,000+</td>\n",
              "      <td>Free</td>\n",
              "      <td>0</td>\n",
              "      <td>Everyone</td>\n",
              "      <td>NaN</td>\n",
              "      <td>February 11, 2018</td>\n",
              "      <td>1.0.19</td>\n",
              "      <td>4.0 and up</td>\n",
              "      <td>NaN</td>\n",
              "    </tr>\n",
              "  </tbody>\n",
              "</table>\n",
              "</div>"
            ],
            "text/plain": [
              "                                           App Category  Rating Reviews  \\\n",
              "10472  Life Made WI-Fi Touchscreen Photo Frame      1.9    19.0    3.0M   \n",
              "\n",
              "         Size Installs Type     Price Content Rating             Genres  \\\n",
              "10472  1,000+     Free    0  Everyone            NaN  February 11, 2018   \n",
              "\n",
              "      Last Updated Current Ver Android Ver  \n",
              "10472       1.0.19  4.0 and up         NaN  "
            ]
          },
          "metadata": {},
          "execution_count": 14
        }
      ]
    },
    {
      "cell_type": "code",
      "metadata": {
        "id": "ei-xz9Uyshts"
      },
      "source": [
        "#drop all nulls\n",
        "google_play_cleaned = google_play_raw.loc[google_play_raw[\"Rating\"].notnull()]"
      ],
      "execution_count": 15,
      "outputs": []
    },
    {
      "cell_type": "code",
      "metadata": {
        "id": "IhOX2EV_sxzV"
      },
      "source": [
        "#grab only observation of 5 and below\n",
        "google_play_cleaned = google_play_cleaned.loc[google_play_cleaned[\"Rating\"] <= 5]"
      ],
      "execution_count": 16,
      "outputs": []
    },
    {
      "cell_type": "code",
      "metadata": {
        "colab": {
          "base_uri": "https://localhost:8080/"
        },
        "id": "fLpsGfTGtPHa",
        "outputId": "d0ccd625-1ae7-43a5-e895-942fe34e55e2"
      },
      "source": [
        "#Price is now as a object type, we'll need to drop the dollar sign\n",
        "\n",
        "google_play_cleaned['Price'].unique()"
      ],
      "execution_count": 17,
      "outputs": [
        {
          "output_type": "execute_result",
          "data": {
            "text/plain": [
              "array(['0', '$4.99', '$3.99', '$6.99', '$7.99', '$5.99', '$2.99', '$3.49',\n",
              "       '$1.99', '$9.99', '$7.49', '$0.99', '$9.00', '$5.49', '$10.00',\n",
              "       '$24.99', '$11.99', '$79.99', '$16.99', '$14.99', '$29.99',\n",
              "       '$12.99', '$2.49', '$10.99', '$1.50', '$19.99', '$15.99', '$33.99',\n",
              "       '$39.99', '$3.95', '$4.49', '$1.70', '$8.99', '$1.49', '$3.88',\n",
              "       '$399.99', '$17.99', '$400.00', '$3.02', '$1.76', '$4.84', '$4.77',\n",
              "       '$1.61', '$2.50', '$1.59', '$6.49', '$1.29', '$299.99', '$379.99',\n",
              "       '$37.99', '$18.99', '$389.99', '$8.49', '$1.75', '$14.00', '$2.00',\n",
              "       '$3.08', '$2.59', '$19.40', '$3.90', '$4.59', '$15.46', '$3.04',\n",
              "       '$13.99', '$4.29', '$3.28', '$4.60', '$1.00', '$2.95', '$2.90',\n",
              "       '$1.97', '$2.56', '$1.20'], dtype=object)"
            ]
          },
          "metadata": {},
          "execution_count": 17
        }
      ]
    },
    {
      "cell_type": "code",
      "metadata": {
        "id": "tOAxzEFqtVNs"
      },
      "source": [
        "google_play_cleaned[\"Price\"] = google_play_cleaned[\"Price\"].apply(lambda x: x.replace('$', ''))"
      ],
      "execution_count": 18,
      "outputs": []
    },
    {
      "cell_type": "code",
      "metadata": {
        "colab": {
          "base_uri": "https://localhost:8080/"
        },
        "id": "-vJOAyt7t2vV",
        "outputId": "857575eb-ba07-4f44-9894-5b8eaed4e980"
      },
      "source": [
        "google_play_cleaned['Price'].unique()"
      ],
      "execution_count": 19,
      "outputs": [
        {
          "output_type": "execute_result",
          "data": {
            "text/plain": [
              "array(['0', '4.99', '3.99', '6.99', '7.99', '5.99', '2.99', '3.49',\n",
              "       '1.99', '9.99', '7.49', '0.99', '9.00', '5.49', '10.00', '24.99',\n",
              "       '11.99', '79.99', '16.99', '14.99', '29.99', '12.99', '2.49',\n",
              "       '10.99', '1.50', '19.99', '15.99', '33.99', '39.99', '3.95',\n",
              "       '4.49', '1.70', '8.99', '1.49', '3.88', '399.99', '17.99',\n",
              "       '400.00', '3.02', '1.76', '4.84', '4.77', '1.61', '2.50', '1.59',\n",
              "       '6.49', '1.29', '299.99', '379.99', '37.99', '18.99', '389.99',\n",
              "       '8.49', '1.75', '14.00', '2.00', '3.08', '2.59', '19.40', '3.90',\n",
              "       '4.59', '15.46', '3.04', '13.99', '4.29', '3.28', '4.60', '1.00',\n",
              "       '2.95', '2.90', '1.97', '2.56', '1.20'], dtype=object)"
            ]
          },
          "metadata": {},
          "execution_count": 19
        }
      ]
    },
    {
      "cell_type": "code",
      "metadata": {
        "id": "U5Y3lF9lt5xE"
      },
      "source": [
        "google_play_cleaned['Price'] = google_play_cleaned['Price'].astype(float, errors = 'raise')"
      ],
      "execution_count": 20,
      "outputs": []
    },
    {
      "cell_type": "code",
      "metadata": {
        "colab": {
          "base_uri": "https://localhost:8080/"
        },
        "id": "8Tz1inqMuX3b",
        "outputId": "6bb9734c-44f5-4019-b574-b10316ad8efa"
      },
      "source": [
        "google_play_cleaned.info()"
      ],
      "execution_count": 21,
      "outputs": [
        {
          "output_type": "stream",
          "name": "stdout",
          "text": [
            "<class 'pandas.core.frame.DataFrame'>\n",
            "Int64Index: 9366 entries, 0 to 10840\n",
            "Data columns (total 13 columns):\n",
            " #   Column          Non-Null Count  Dtype  \n",
            "---  ------          --------------  -----  \n",
            " 0   App             9366 non-null   object \n",
            " 1   Category        9366 non-null   object \n",
            " 2   Rating          9366 non-null   float64\n",
            " 3   Reviews         9366 non-null   object \n",
            " 4   Size            9366 non-null   object \n",
            " 5   Installs        9366 non-null   object \n",
            " 6   Type            9366 non-null   object \n",
            " 7   Price           9366 non-null   float64\n",
            " 8   Content Rating  9366 non-null   object \n",
            " 9   Genres          9366 non-null   object \n",
            " 10  Last Updated    9366 non-null   object \n",
            " 11  Current Ver     9362 non-null   object \n",
            " 12  Android Ver     9364 non-null   object \n",
            "dtypes: float64(2), object(11)\n",
            "memory usage: 1.0+ MB\n"
          ]
        }
      ]
    },
    {
      "cell_type": "code",
      "metadata": {
        "id": "SbGgxdLvubSh"
      },
      "source": [
        "top30_genres = google_play_cleaned[\"Genres\"].value_counts().head(30).index"
      ],
      "execution_count": 22,
      "outputs": []
    },
    {
      "cell_type": "code",
      "metadata": {
        "colab": {
          "base_uri": "https://localhost:8080/"
        },
        "id": "kHGjEMhoue5T",
        "outputId": "8ba3b620-02ca-413f-fc81-a880817e637a"
      },
      "source": [
        "top30_genres"
      ],
      "execution_count": 23,
      "outputs": [
        {
          "output_type": "execute_result",
          "data": {
            "text/plain": [
              "Index(['Tools', 'Entertainment', 'Education', 'Action', 'Productivity',\n",
              "       'Medical', 'Sports', 'Communication', 'Finance', 'Photography',\n",
              "       'Personalization', 'Lifestyle', 'Business', 'Health & Fitness',\n",
              "       'Social', 'Shopping', 'News & Magazines', 'Travel & Local', 'Arcade',\n",
              "       'Dating', 'Simulation', 'Casual', 'Books & Reference',\n",
              "       'Video Players & Editors', 'Maps & Navigation', 'Puzzle',\n",
              "       'Food & Drink', 'Role Playing', 'Strategy', 'Racing'],\n",
              "      dtype='object')"
            ]
          },
          "metadata": {},
          "execution_count": 23
        }
      ]
    },
    {
      "cell_type": "code",
      "metadata": {
        "id": "6pZck1REugSx"
      },
      "source": [
        "google_play_cleaned[\"Genres\"] = google_play_cleaned[\"Genres\"].apply(lambda x: x if x in top30_genres else \"Other\")\n"
      ],
      "execution_count": 24,
      "outputs": []
    },
    {
      "cell_type": "code",
      "metadata": {
        "colab": {
          "base_uri": "https://localhost:8080/"
        },
        "id": "-VpECiQOuocM",
        "outputId": "2a13b057-2543-41f3-e90f-077e39b624a9"
      },
      "source": [
        "google_play_cleaned[\"Genres\"].unique()"
      ],
      "execution_count": 25,
      "outputs": [
        {
          "output_type": "execute_result",
          "data": {
            "text/plain": [
              "array(['Other', 'Books & Reference', 'Business', 'Communication',\n",
              "       'Dating', 'Education', 'Entertainment', 'Finance', 'Food & Drink',\n",
              "       'Health & Fitness', 'Lifestyle', 'Arcade', 'Casual', 'Action',\n",
              "       'Strategy', 'Puzzle', 'Sports', 'Racing', 'Simulation',\n",
              "       'Role Playing', 'Medical', 'Social', 'Shopping', 'Photography',\n",
              "       'Travel & Local', 'Tools', 'Personalization', 'Productivity',\n",
              "       'Video Players & Editors', 'News & Magazines', 'Maps & Navigation'],\n",
              "      dtype=object)"
            ]
          },
          "metadata": {},
          "execution_count": 25
        }
      ]
    },
    {
      "cell_type": "code",
      "metadata": {
        "id": "FqoeHtvyvLnt"
      },
      "source": [
        "def value_to_float(x):\n",
        "    \"\"\"\n",
        "    Convert the string feature into float.\n",
        "    If there is 'K' or 'M' in the string, convert it to the corresponding number (1000 or 1000000). \n",
        "    \"\"\"\n",
        "    if type(x) == float or type(x) == int:\n",
        "        return x\n",
        "    if 'K' in x:\n",
        "        if len(x) > 1:\n",
        "            return float(x.replace('K', '')) * 10**3\n",
        "        return 1000.0\n",
        "    if 'M' in x:\n",
        "        if len(x) > 1:\n",
        "            return float(x.replace('M', '')) * 10**6\n",
        "        return 1000000.0\n",
        "    \n",
        "    # If the string cannot be converted, return 0 instead\n",
        "    try:\n",
        "        parsed_val = float(x)\n",
        "    except ValueError:\n",
        "        parsed_val = 0.0\n",
        "    return parsed_val"
      ],
      "execution_count": 26,
      "outputs": []
    },
    {
      "cell_type": "code",
      "metadata": {
        "id": "covyT-H1usDI"
      },
      "source": [
        "str_cols = [\"Reviews\", \"Size\", \"Price\"]\n",
        "\n",
        "for col in str_cols:\n",
        "    google_play_cleaned[[col]] = google_play_cleaned[[col]].fillna(value=\"\")\n",
        "    google_play_cleaned[col] = google_play_cleaned[col].apply(value_to_float)"
      ],
      "execution_count": 27,
      "outputs": []
    },
    {
      "cell_type": "code",
      "metadata": {
        "colab": {
          "base_uri": "https://localhost:8080/",
          "height": 173
        },
        "id": "gZCcXuMzvFeA",
        "outputId": "23a522b4-7fce-46c3-c438-ac597bb5c682"
      },
      "source": [
        "google_play_cleaned.describe().T"
      ],
      "execution_count": 28,
      "outputs": [
        {
          "output_type": "execute_result",
          "data": {
            "text/html": [
              "<div>\n",
              "<style scoped>\n",
              "    .dataframe tbody tr th:only-of-type {\n",
              "        vertical-align: middle;\n",
              "    }\n",
              "\n",
              "    .dataframe tbody tr th {\n",
              "        vertical-align: top;\n",
              "    }\n",
              "\n",
              "    .dataframe thead th {\n",
              "        text-align: right;\n",
              "    }\n",
              "</style>\n",
              "<table border=\"1\" class=\"dataframe\">\n",
              "  <thead>\n",
              "    <tr style=\"text-align: right;\">\n",
              "      <th></th>\n",
              "      <th>count</th>\n",
              "      <th>mean</th>\n",
              "      <th>std</th>\n",
              "      <th>min</th>\n",
              "      <th>25%</th>\n",
              "      <th>50%</th>\n",
              "      <th>75%</th>\n",
              "      <th>max</th>\n",
              "    </tr>\n",
              "  </thead>\n",
              "  <tbody>\n",
              "    <tr>\n",
              "      <th>Rating</th>\n",
              "      <td>9366.0</td>\n",
              "      <td>4.191757e+00</td>\n",
              "      <td>5.152189e-01</td>\n",
              "      <td>1.0</td>\n",
              "      <td>4.00</td>\n",
              "      <td>4.3</td>\n",
              "      <td>4.50</td>\n",
              "      <td>5.0</td>\n",
              "    </tr>\n",
              "    <tr>\n",
              "      <th>Reviews</th>\n",
              "      <td>9366.0</td>\n",
              "      <td>5.140498e+05</td>\n",
              "      <td>3.144042e+06</td>\n",
              "      <td>1.0</td>\n",
              "      <td>186.25</td>\n",
              "      <td>5930.5</td>\n",
              "      <td>81532.75</td>\n",
              "      <td>78158306.0</td>\n",
              "    </tr>\n",
              "    <tr>\n",
              "      <th>Size</th>\n",
              "      <td>9366.0</td>\n",
              "      <td>1.893322e+07</td>\n",
              "      <td>2.302330e+07</td>\n",
              "      <td>0.0</td>\n",
              "      <td>2400000.00</td>\n",
              "      <td>9500000.0</td>\n",
              "      <td>27000000.00</td>\n",
              "      <td>100000000.0</td>\n",
              "    </tr>\n",
              "    <tr>\n",
              "      <th>Price</th>\n",
              "      <td>9366.0</td>\n",
              "      <td>9.609278e-01</td>\n",
              "      <td>1.581658e+01</td>\n",
              "      <td>0.0</td>\n",
              "      <td>0.00</td>\n",
              "      <td>0.0</td>\n",
              "      <td>0.00</td>\n",
              "      <td>400.0</td>\n",
              "    </tr>\n",
              "  </tbody>\n",
              "</table>\n",
              "</div>"
            ],
            "text/plain": [
              "          count          mean           std  min         25%        50%  \\\n",
              "Rating   9366.0  4.191757e+00  5.152189e-01  1.0        4.00        4.3   \n",
              "Reviews  9366.0  5.140498e+05  3.144042e+06  1.0      186.25     5930.5   \n",
              "Size     9366.0  1.893322e+07  2.302330e+07  0.0  2400000.00  9500000.0   \n",
              "Price    9366.0  9.609278e-01  1.581658e+01  0.0        0.00        0.0   \n",
              "\n",
              "                 75%          max  \n",
              "Rating          4.50          5.0  \n",
              "Reviews     81532.75   78158306.0  \n",
              "Size     27000000.00  100000000.0  \n",
              "Price           0.00        400.0  "
            ]
          },
          "metadata": {},
          "execution_count": 28
        }
      ]
    },
    {
      "cell_type": "code",
      "metadata": {
        "colab": {
          "base_uri": "https://localhost:8080/",
          "height": 1000
        },
        "id": "x0nci8gKvRza",
        "outputId": "a9ebd6f7-a540-46e3-9551-9ec56989382e"
      },
      "source": [
        "# To get a brief idea about the apps whose prices are higher than $50\n",
        "google_play_cleaned.loc[google_play_cleaned[\"Price\"] > 50]"
      ],
      "execution_count": 29,
      "outputs": [
        {
          "output_type": "execute_result",
          "data": {
            "text/html": [
              "<div>\n",
              "<style scoped>\n",
              "    .dataframe tbody tr th:only-of-type {\n",
              "        vertical-align: middle;\n",
              "    }\n",
              "\n",
              "    .dataframe tbody tr th {\n",
              "        vertical-align: top;\n",
              "    }\n",
              "\n",
              "    .dataframe thead th {\n",
              "        text-align: right;\n",
              "    }\n",
              "</style>\n",
              "<table border=\"1\" class=\"dataframe\">\n",
              "  <thead>\n",
              "    <tr style=\"text-align: right;\">\n",
              "      <th></th>\n",
              "      <th>App</th>\n",
              "      <th>Category</th>\n",
              "      <th>Rating</th>\n",
              "      <th>Reviews</th>\n",
              "      <th>Size</th>\n",
              "      <th>Installs</th>\n",
              "      <th>Type</th>\n",
              "      <th>Price</th>\n",
              "      <th>Content Rating</th>\n",
              "      <th>Genres</th>\n",
              "      <th>Last Updated</th>\n",
              "      <th>Current Ver</th>\n",
              "      <th>Android Ver</th>\n",
              "    </tr>\n",
              "  </thead>\n",
              "  <tbody>\n",
              "    <tr>\n",
              "      <th>2253</th>\n",
              "      <td>Vargo Anesthesia Mega App</td>\n",
              "      <td>MEDICAL</td>\n",
              "      <td>4.6</td>\n",
              "      <td>92.0</td>\n",
              "      <td>32000000.0</td>\n",
              "      <td>1,000+</td>\n",
              "      <td>Paid</td>\n",
              "      <td>79.99</td>\n",
              "      <td>Everyone</td>\n",
              "      <td>Medical</td>\n",
              "      <td>June 18, 2018</td>\n",
              "      <td>19.0</td>\n",
              "      <td>4.0.3 and up</td>\n",
              "    </tr>\n",
              "    <tr>\n",
              "      <th>2365</th>\n",
              "      <td>Vargo Anesthesia Mega App</td>\n",
              "      <td>MEDICAL</td>\n",
              "      <td>4.6</td>\n",
              "      <td>92.0</td>\n",
              "      <td>32000000.0</td>\n",
              "      <td>1,000+</td>\n",
              "      <td>Paid</td>\n",
              "      <td>79.99</td>\n",
              "      <td>Everyone</td>\n",
              "      <td>Medical</td>\n",
              "      <td>June 18, 2018</td>\n",
              "      <td>19.0</td>\n",
              "      <td>4.0.3 and up</td>\n",
              "    </tr>\n",
              "    <tr>\n",
              "      <th>4197</th>\n",
              "      <td>most expensive app (H)</td>\n",
              "      <td>FAMILY</td>\n",
              "      <td>4.3</td>\n",
              "      <td>6.0</td>\n",
              "      <td>1500000.0</td>\n",
              "      <td>100+</td>\n",
              "      <td>Paid</td>\n",
              "      <td>399.99</td>\n",
              "      <td>Everyone</td>\n",
              "      <td>Entertainment</td>\n",
              "      <td>July 16, 2018</td>\n",
              "      <td>1.0</td>\n",
              "      <td>7.0 and up</td>\n",
              "    </tr>\n",
              "    <tr>\n",
              "      <th>4362</th>\n",
              "      <td>💎 I'm rich</td>\n",
              "      <td>LIFESTYLE</td>\n",
              "      <td>3.8</td>\n",
              "      <td>718.0</td>\n",
              "      <td>26000000.0</td>\n",
              "      <td>10,000+</td>\n",
              "      <td>Paid</td>\n",
              "      <td>399.99</td>\n",
              "      <td>Everyone</td>\n",
              "      <td>Lifestyle</td>\n",
              "      <td>March 11, 2018</td>\n",
              "      <td>1.0.0</td>\n",
              "      <td>4.4 and up</td>\n",
              "    </tr>\n",
              "    <tr>\n",
              "      <th>4367</th>\n",
              "      <td>I'm Rich - Trump Edition</td>\n",
              "      <td>LIFESTYLE</td>\n",
              "      <td>3.6</td>\n",
              "      <td>275.0</td>\n",
              "      <td>7300000.0</td>\n",
              "      <td>10,000+</td>\n",
              "      <td>Paid</td>\n",
              "      <td>400.00</td>\n",
              "      <td>Everyone</td>\n",
              "      <td>Lifestyle</td>\n",
              "      <td>May 3, 2018</td>\n",
              "      <td>1.0.1</td>\n",
              "      <td>4.1 and up</td>\n",
              "    </tr>\n",
              "    <tr>\n",
              "      <th>5351</th>\n",
              "      <td>I am rich</td>\n",
              "      <td>LIFESTYLE</td>\n",
              "      <td>3.8</td>\n",
              "      <td>3547.0</td>\n",
              "      <td>1800000.0</td>\n",
              "      <td>100,000+</td>\n",
              "      <td>Paid</td>\n",
              "      <td>399.99</td>\n",
              "      <td>Everyone</td>\n",
              "      <td>Lifestyle</td>\n",
              "      <td>January 12, 2018</td>\n",
              "      <td>2.0</td>\n",
              "      <td>4.0.3 and up</td>\n",
              "    </tr>\n",
              "    <tr>\n",
              "      <th>5354</th>\n",
              "      <td>I am Rich Plus</td>\n",
              "      <td>FAMILY</td>\n",
              "      <td>4.0</td>\n",
              "      <td>856.0</td>\n",
              "      <td>8700000.0</td>\n",
              "      <td>10,000+</td>\n",
              "      <td>Paid</td>\n",
              "      <td>399.99</td>\n",
              "      <td>Everyone</td>\n",
              "      <td>Entertainment</td>\n",
              "      <td>May 19, 2018</td>\n",
              "      <td>3.0</td>\n",
              "      <td>4.4 and up</td>\n",
              "    </tr>\n",
              "    <tr>\n",
              "      <th>5355</th>\n",
              "      <td>I am rich VIP</td>\n",
              "      <td>LIFESTYLE</td>\n",
              "      <td>3.8</td>\n",
              "      <td>411.0</td>\n",
              "      <td>2600000.0</td>\n",
              "      <td>10,000+</td>\n",
              "      <td>Paid</td>\n",
              "      <td>299.99</td>\n",
              "      <td>Everyone</td>\n",
              "      <td>Lifestyle</td>\n",
              "      <td>July 21, 2018</td>\n",
              "      <td>1.1.1</td>\n",
              "      <td>4.3 and up</td>\n",
              "    </tr>\n",
              "    <tr>\n",
              "      <th>5356</th>\n",
              "      <td>I Am Rich Premium</td>\n",
              "      <td>FINANCE</td>\n",
              "      <td>4.1</td>\n",
              "      <td>1867.0</td>\n",
              "      <td>4700000.0</td>\n",
              "      <td>50,000+</td>\n",
              "      <td>Paid</td>\n",
              "      <td>399.99</td>\n",
              "      <td>Everyone</td>\n",
              "      <td>Finance</td>\n",
              "      <td>November 12, 2017</td>\n",
              "      <td>1.6</td>\n",
              "      <td>4.0 and up</td>\n",
              "    </tr>\n",
              "    <tr>\n",
              "      <th>5357</th>\n",
              "      <td>I am extremely Rich</td>\n",
              "      <td>LIFESTYLE</td>\n",
              "      <td>2.9</td>\n",
              "      <td>41.0</td>\n",
              "      <td>2900000.0</td>\n",
              "      <td>1,000+</td>\n",
              "      <td>Paid</td>\n",
              "      <td>379.99</td>\n",
              "      <td>Everyone</td>\n",
              "      <td>Lifestyle</td>\n",
              "      <td>July 1, 2018</td>\n",
              "      <td>1.0</td>\n",
              "      <td>4.0 and up</td>\n",
              "    </tr>\n",
              "    <tr>\n",
              "      <th>5358</th>\n",
              "      <td>I am Rich!</td>\n",
              "      <td>FINANCE</td>\n",
              "      <td>3.8</td>\n",
              "      <td>93.0</td>\n",
              "      <td>22000000.0</td>\n",
              "      <td>1,000+</td>\n",
              "      <td>Paid</td>\n",
              "      <td>399.99</td>\n",
              "      <td>Everyone</td>\n",
              "      <td>Finance</td>\n",
              "      <td>December 11, 2017</td>\n",
              "      <td>1.0</td>\n",
              "      <td>4.1 and up</td>\n",
              "    </tr>\n",
              "    <tr>\n",
              "      <th>5359</th>\n",
              "      <td>I am rich(premium)</td>\n",
              "      <td>FINANCE</td>\n",
              "      <td>3.5</td>\n",
              "      <td>472.0</td>\n",
              "      <td>0.0</td>\n",
              "      <td>5,000+</td>\n",
              "      <td>Paid</td>\n",
              "      <td>399.99</td>\n",
              "      <td>Everyone</td>\n",
              "      <td>Finance</td>\n",
              "      <td>May 1, 2017</td>\n",
              "      <td>3.4</td>\n",
              "      <td>4.4 and up</td>\n",
              "    </tr>\n",
              "    <tr>\n",
              "      <th>5362</th>\n",
              "      <td>I Am Rich Pro</td>\n",
              "      <td>FAMILY</td>\n",
              "      <td>4.4</td>\n",
              "      <td>201.0</td>\n",
              "      <td>2700000.0</td>\n",
              "      <td>5,000+</td>\n",
              "      <td>Paid</td>\n",
              "      <td>399.99</td>\n",
              "      <td>Everyone</td>\n",
              "      <td>Entertainment</td>\n",
              "      <td>May 30, 2017</td>\n",
              "      <td>1.54</td>\n",
              "      <td>1.6 and up</td>\n",
              "    </tr>\n",
              "    <tr>\n",
              "      <th>5364</th>\n",
              "      <td>I am rich (Most expensive app)</td>\n",
              "      <td>FINANCE</td>\n",
              "      <td>4.1</td>\n",
              "      <td>129.0</td>\n",
              "      <td>2700000.0</td>\n",
              "      <td>1,000+</td>\n",
              "      <td>Paid</td>\n",
              "      <td>399.99</td>\n",
              "      <td>Teen</td>\n",
              "      <td>Finance</td>\n",
              "      <td>December 6, 2017</td>\n",
              "      <td>2</td>\n",
              "      <td>4.0.3 and up</td>\n",
              "    </tr>\n",
              "    <tr>\n",
              "      <th>5366</th>\n",
              "      <td>I Am Rich</td>\n",
              "      <td>FAMILY</td>\n",
              "      <td>3.6</td>\n",
              "      <td>217.0</td>\n",
              "      <td>4900000.0</td>\n",
              "      <td>10,000+</td>\n",
              "      <td>Paid</td>\n",
              "      <td>389.99</td>\n",
              "      <td>Everyone</td>\n",
              "      <td>Entertainment</td>\n",
              "      <td>June 22, 2018</td>\n",
              "      <td>1.5</td>\n",
              "      <td>4.2 and up</td>\n",
              "    </tr>\n",
              "    <tr>\n",
              "      <th>5369</th>\n",
              "      <td>I am Rich</td>\n",
              "      <td>FINANCE</td>\n",
              "      <td>4.3</td>\n",
              "      <td>180.0</td>\n",
              "      <td>3800000.0</td>\n",
              "      <td>5,000+</td>\n",
              "      <td>Paid</td>\n",
              "      <td>399.99</td>\n",
              "      <td>Everyone</td>\n",
              "      <td>Finance</td>\n",
              "      <td>March 22, 2018</td>\n",
              "      <td>1.0</td>\n",
              "      <td>4.2 and up</td>\n",
              "    </tr>\n",
              "    <tr>\n",
              "      <th>5373</th>\n",
              "      <td>I AM RICH PRO PLUS</td>\n",
              "      <td>FINANCE</td>\n",
              "      <td>4.0</td>\n",
              "      <td>36.0</td>\n",
              "      <td>41000000.0</td>\n",
              "      <td>1,000+</td>\n",
              "      <td>Paid</td>\n",
              "      <td>399.99</td>\n",
              "      <td>Everyone</td>\n",
              "      <td>Finance</td>\n",
              "      <td>June 25, 2018</td>\n",
              "      <td>1.0.2</td>\n",
              "      <td>4.1 and up</td>\n",
              "    </tr>\n",
              "  </tbody>\n",
              "</table>\n",
              "</div>"
            ],
            "text/plain": [
              "                                 App   Category  Rating  Reviews        Size  \\\n",
              "2253       Vargo Anesthesia Mega App    MEDICAL     4.6     92.0  32000000.0   \n",
              "2365       Vargo Anesthesia Mega App    MEDICAL     4.6     92.0  32000000.0   \n",
              "4197          most expensive app (H)     FAMILY     4.3      6.0   1500000.0   \n",
              "4362                      💎 I'm rich  LIFESTYLE     3.8    718.0  26000000.0   \n",
              "4367        I'm Rich - Trump Edition  LIFESTYLE     3.6    275.0   7300000.0   \n",
              "5351                       I am rich  LIFESTYLE     3.8   3547.0   1800000.0   \n",
              "5354                  I am Rich Plus     FAMILY     4.0    856.0   8700000.0   \n",
              "5355                   I am rich VIP  LIFESTYLE     3.8    411.0   2600000.0   \n",
              "5356               I Am Rich Premium    FINANCE     4.1   1867.0   4700000.0   \n",
              "5357             I am extremely Rich  LIFESTYLE     2.9     41.0   2900000.0   \n",
              "5358                      I am Rich!    FINANCE     3.8     93.0  22000000.0   \n",
              "5359              I am rich(premium)    FINANCE     3.5    472.0         0.0   \n",
              "5362                   I Am Rich Pro     FAMILY     4.4    201.0   2700000.0   \n",
              "5364  I am rich (Most expensive app)    FINANCE     4.1    129.0   2700000.0   \n",
              "5366                       I Am Rich     FAMILY     3.6    217.0   4900000.0   \n",
              "5369                       I am Rich    FINANCE     4.3    180.0   3800000.0   \n",
              "5373              I AM RICH PRO PLUS    FINANCE     4.0     36.0  41000000.0   \n",
              "\n",
              "      Installs  Type   Price Content Rating         Genres       Last Updated  \\\n",
              "2253    1,000+  Paid   79.99       Everyone        Medical      June 18, 2018   \n",
              "2365    1,000+  Paid   79.99       Everyone        Medical      June 18, 2018   \n",
              "4197      100+  Paid  399.99       Everyone  Entertainment      July 16, 2018   \n",
              "4362   10,000+  Paid  399.99       Everyone      Lifestyle     March 11, 2018   \n",
              "4367   10,000+  Paid  400.00       Everyone      Lifestyle        May 3, 2018   \n",
              "5351  100,000+  Paid  399.99       Everyone      Lifestyle   January 12, 2018   \n",
              "5354   10,000+  Paid  399.99       Everyone  Entertainment       May 19, 2018   \n",
              "5355   10,000+  Paid  299.99       Everyone      Lifestyle      July 21, 2018   \n",
              "5356   50,000+  Paid  399.99       Everyone        Finance  November 12, 2017   \n",
              "5357    1,000+  Paid  379.99       Everyone      Lifestyle       July 1, 2018   \n",
              "5358    1,000+  Paid  399.99       Everyone        Finance  December 11, 2017   \n",
              "5359    5,000+  Paid  399.99       Everyone        Finance        May 1, 2017   \n",
              "5362    5,000+  Paid  399.99       Everyone  Entertainment       May 30, 2017   \n",
              "5364    1,000+  Paid  399.99           Teen        Finance   December 6, 2017   \n",
              "5366   10,000+  Paid  389.99       Everyone  Entertainment      June 22, 2018   \n",
              "5369    5,000+  Paid  399.99       Everyone        Finance     March 22, 2018   \n",
              "5373    1,000+  Paid  399.99       Everyone        Finance      June 25, 2018   \n",
              "\n",
              "     Current Ver   Android Ver  \n",
              "2253        19.0  4.0.3 and up  \n",
              "2365        19.0  4.0.3 and up  \n",
              "4197         1.0    7.0 and up  \n",
              "4362       1.0.0    4.4 and up  \n",
              "4367       1.0.1    4.1 and up  \n",
              "5351         2.0  4.0.3 and up  \n",
              "5354         3.0    4.4 and up  \n",
              "5355       1.1.1    4.3 and up  \n",
              "5356         1.6    4.0 and up  \n",
              "5357         1.0    4.0 and up  \n",
              "5358         1.0    4.1 and up  \n",
              "5359         3.4    4.4 and up  \n",
              "5362        1.54    1.6 and up  \n",
              "5364           2  4.0.3 and up  \n",
              "5366         1.5    4.2 and up  \n",
              "5369         1.0    4.2 and up  \n",
              "5373       1.0.2    4.1 and up  "
            ]
          },
          "metadata": {},
          "execution_count": 29
        }
      ]
    },
    {
      "cell_type": "code",
      "metadata": {
        "colab": {
          "base_uri": "https://localhost:8080/",
          "height": 419
        },
        "id": "0g3AEgtDvdmh",
        "outputId": "e5df4cfe-38d8-4d10-d77d-9ddd434efbf0"
      },
      "source": [
        "# Perform Exploratory Data Analysis (EDA)\n",
        "%pylab inline\n",
        "\n",
        "fig = sns.displot(google_play_cleaned[\"Rating\"], bins=20)   \n",
        "fig.set_xlabels('Ratings')\n",
        "plt.title('Rating Distribution')"
      ],
      "execution_count": 30,
      "outputs": [
        {
          "output_type": "stream",
          "name": "stdout",
          "text": [
            "Populating the interactive namespace from numpy and matplotlib\n"
          ]
        },
        {
          "output_type": "execute_result",
          "data": {
            "text/plain": [
              "Text(0.5, 1.0, 'Rating Distribution')"
            ]
          },
          "metadata": {},
          "execution_count": 30
        },
        {
          "output_type": "display_data",
          "data": {
            "image/png": "[encoded data removed]",
            "text/plain": [
              "<Figure size 360x360 with 1 Axes>"
            ]
          },
          "metadata": {
            "needs_background": "light"
          }
        }
      ]
    },
    {
      "cell_type": "code",
      "metadata": {
        "id": "tICy3aiKvjFH"
      },
      "source": [
        "top10_category = google_play_cleaned[\"Category\"].value_counts().head(10).index\n",
        "df_top10_category = google_play_cleaned.loc[google_play_cleaned[\"Category\"].isin(top10_category)]"
      ],
      "execution_count": 31,
      "outputs": []
    },
    {
      "cell_type": "code",
      "metadata": {
        "colab": {
          "base_uri": "https://localhost:8080/",
          "height": 395
        },
        "id": "JVtEPQruvrDy",
        "outputId": "2ce04981-5338-464c-a4bf-02a9a8fdd560"
      },
      "source": [
        "fig = sns.countplot(x=\"Category\", data=df_top10_category)\n",
        "fig.set_xlabel('Category')\n",
        "\n",
        "plt.xticks(rotation=90)\n",
        "plt.title('Categories and the App Count')\n",
        "plt.ylabel('App Count')"
      ],
      "execution_count": 32,
      "outputs": [
        {
          "output_type": "execute_result",
          "data": {
            "text/plain": [
              "Text(0, 0.5, 'App Count')"
            ]
          },
          "metadata": {},
          "execution_count": 32
        },
        {
          "output_type": "display_data",
          "data": {
            "image/png": "[encoded data removed]",
            "text/plain": [
              "<Figure size 432x288 with 1 Axes>"
            ]
          },
          "metadata": {
            "needs_background": "light"
          }
        }
      ]
    },
    {
      "cell_type": "code",
      "metadata": {
        "colab": {
          "base_uri": "https://localhost:8080/",
          "height": 402
        },
        "id": "GQPYoN4IvwXg",
        "outputId": "fdc57521-c41d-4739-bd42-645d9113b85b"
      },
      "source": [
        "fig = sns.displot(google_play_cleaned.loc[google_play_cleaned[\"Reviews\"] < 5000, \"Reviews\"], bins=20)\n",
        "fig.set_axis_labels(x_var=\"Reviews\", y_var=\"Number of Reviews\")\n",
        "plt.title('Review Distribution')"
      ],
      "execution_count": 33,
      "outputs": [
        {
          "output_type": "execute_result",
          "data": {
            "text/plain": [
              "Text(0.5, 1.0, 'Review Distribution')"
            ]
          },
          "metadata": {},
          "execution_count": 33
        },
        {
          "output_type": "display_data",
          "data": {
            "image/png": "[encoded data removed]",
            "text/plain": [
              "<Figure size 360x360 with 1 Axes>"
            ]
          },
          "metadata": {
            "needs_background": "light"
          }
        }
      ]
    },
    {
      "cell_type": "code",
      "metadata": {
        "colab": {
          "base_uri": "https://localhost:8080/",
          "height": 402
        },
        "id": "vgYxI8zQwkBD",
        "outputId": "f89d2864-d345-4cb1-f047-a9dc9905529f"
      },
      "source": [
        "fig = sns.displot(google_play_cleaned[\"Size\"], bins=20)\n",
        "fig.set_xlabels('Size')\n",
        "plt.title('Size Distribution')"
      ],
      "execution_count": 34,
      "outputs": [
        {
          "output_type": "execute_result",
          "data": {
            "text/plain": [
              "Text(0.5, 1.0, 'Size Distribution')"
            ]
          },
          "metadata": {},
          "execution_count": 34
        },
        {
          "output_type": "display_data",
          "data": {
            "image/png": "[encoded data removed]",
            "text/plain": [
              "<Figure size 360x360 with 1 Axes>"
            ]
          },
          "metadata": {
            "needs_background": "light"
          }
        }
      ]
    },
    {
      "cell_type": "code",
      "metadata": {
        "colab": {
          "base_uri": "https://localhost:8080/",
          "height": 402
        },
        "id": "3isbTcraxzgz",
        "outputId": "2fa12602-7718-4f17-c948-0661543ff290"
      },
      "source": [
        "fig = sns.displot(google_play_cleaned[\"Price\"], bins=20, )\n",
        "fig.set_xlabels('Price')\n",
        "plt.title('Price Distribution')"
      ],
      "execution_count": 35,
      "outputs": [
        {
          "output_type": "execute_result",
          "data": {
            "text/plain": [
              "Text(0.5, 1.0, 'Price Distribution')"
            ]
          },
          "metadata": {},
          "execution_count": 35
        },
        {
          "output_type": "display_data",
          "data": {
            "image/png": "[encoded data removed]",
            "text/plain": [
              "<Figure size 360x360 with 1 Axes>"
            ]
          },
          "metadata": {
            "needs_background": "light"
          }
        }
      ]
    },
    {
      "cell_type": "code",
      "metadata": {
        "colab": {
          "base_uri": "https://localhost:8080/",
          "height": 383
        },
        "id": "ua5mG82OyRVa",
        "outputId": "ec7ec28f-175b-4137-b8f3-005afc5d831f"
      },
      "source": [
        "fig = sns.countplot(x=\"Installs\", data=google_play_cleaned, order=google_play_cleaned['Installs'].value_counts().index)\n",
        "fig.set_xlabel('Installs')\n",
        "\n",
        "plt.xticks(rotation=90)\n",
        "plt.title('App Install Count')\n",
        "plt.ylabel('App Count')"
      ],
      "execution_count": 36,
      "outputs": [
        {
          "output_type": "execute_result",
          "data": {
            "text/plain": [
              "Text(0, 0.5, 'App Count')"
            ]
          },
          "metadata": {},
          "execution_count": 36
        },
        {
          "output_type": "display_data",
          "data": {
            "image/png": "[encoded data removed]",
            "text/plain": [
              "<Figure size 432x288 with 1 Axes>"
            ]
          },
          "metadata": {
            "needs_background": "light"
          }
        }
      ]
    },
    {
      "cell_type": "code",
      "metadata": {
        "colab": {
          "base_uri": "https://localhost:8080/",
          "height": 312
        },
        "id": "i-OHE2cYz385",
        "outputId": "44761766-e98d-4971-b31e-284b7c635b9d"
      },
      "source": [
        "fig = sns.countplot(x=\"Type\", data=google_play_cleaned)\n",
        "fig.set_xlabel('Type')\n",
        "plt.title('App Type Count')\n",
        "plt.ylabel('App Count')"
      ],
      "execution_count": 37,
      "outputs": [
        {
          "output_type": "execute_result",
          "data": {
            "text/plain": [
              "Text(0, 0.5, 'App Count')"
            ]
          },
          "metadata": {},
          "execution_count": 37
        },
        {
          "output_type": "display_data",
          "data": {
            "image/png": "[encoded data removed]",
            "text/plain": [
              "<Figure size 432x288 with 1 Axes>"
            ]
          },
          "metadata": {
            "needs_background": "light"
          }
        }
      ]
    },
    {
      "cell_type": "code",
      "metadata": {
        "colab": {
          "base_uri": "https://localhost:8080/",
          "height": 366
        },
        "id": "XYjMmer80FBw",
        "outputId": "9dc23159-010d-408c-984f-fbab934fd436"
      },
      "source": [
        "fig = sns.countplot(x=\"Content Rating\", data=google_play_cleaned)\n",
        "fig.set_xlabel('Content Rating')\n",
        "plt.xticks(rotation=45)\n",
        "plt.title('Content Rating Count')\n",
        "plt.ylabel('App Count')"
      ],
      "execution_count": 38,
      "outputs": [
        {
          "output_type": "execute_result",
          "data": {
            "text/plain": [
              "Text(0, 0.5, 'App Count')"
            ]
          },
          "metadata": {},
          "execution_count": 38
        },
        {
          "output_type": "display_data",
          "data": {
            "image/png": "[encoded data removed]",
            "text/plain": [
              "<Figure size 432x288 with 1 Axes>"
            ]
          },
          "metadata": {
            "needs_background": "light"
          }
        }
      ]
    },
    {
      "cell_type": "code",
      "metadata": {
        "id": "vJTsnSKZ0MGv"
      },
      "source": [
        "top10_genres = google_play_cleaned[\"Genres\"].value_counts().head(10).index\n",
        "df_top10_genres = google_play_cleaned.loc[google_play_cleaned[\"Genres\"].isin(top10_genres)]"
      ],
      "execution_count": 39,
      "outputs": []
    },
    {
      "cell_type": "code",
      "metadata": {
        "colab": {
          "base_uri": "https://localhost:8080/",
          "height": 445
        },
        "id": "o9lqRohy0RlC",
        "outputId": "a1b62cc3-aa25-4878-df87-fdf9003653c2"
      },
      "source": [
        "df_top10_category.head()"
      ],
      "execution_count": 40,
      "outputs": [
        {
          "output_type": "execute_result",
          "data": {
            "text/html": [
              "<div>\n",
              "<style scoped>\n",
              "    .dataframe tbody tr th:only-of-type {\n",
              "        vertical-align: middle;\n",
              "    }\n",
              "\n",
              "    .dataframe tbody tr th {\n",
              "        vertical-align: top;\n",
              "    }\n",
              "\n",
              "    .dataframe thead th {\n",
              "        text-align: right;\n",
              "    }\n",
              "</style>\n",
              "<table border=\"1\" class=\"dataframe\">\n",
              "  <thead>\n",
              "    <tr style=\"text-align: right;\">\n",
              "      <th></th>\n",
              "      <th>App</th>\n",
              "      <th>Category</th>\n",
              "      <th>Rating</th>\n",
              "      <th>Reviews</th>\n",
              "      <th>Size</th>\n",
              "      <th>Installs</th>\n",
              "      <th>Type</th>\n",
              "      <th>Price</th>\n",
              "      <th>Content Rating</th>\n",
              "      <th>Genres</th>\n",
              "      <th>Last Updated</th>\n",
              "      <th>Current Ver</th>\n",
              "      <th>Android Ver</th>\n",
              "    </tr>\n",
              "  </thead>\n",
              "  <tbody>\n",
              "    <tr>\n",
              "      <th>335</th>\n",
              "      <td>Messenger – Text and Video Chat for Free</td>\n",
              "      <td>COMMUNICATION</td>\n",
              "      <td>4.0</td>\n",
              "      <td>56642847.0</td>\n",
              "      <td>0.0</td>\n",
              "      <td>1,000,000,000+</td>\n",
              "      <td>Free</td>\n",
              "      <td>0.0</td>\n",
              "      <td>Everyone</td>\n",
              "      <td>Communication</td>\n",
              "      <td>August 1, 2018</td>\n",
              "      <td>Varies with device</td>\n",
              "      <td>Varies with device</td>\n",
              "    </tr>\n",
              "    <tr>\n",
              "      <th>336</th>\n",
              "      <td>WhatsApp Messenger</td>\n",
              "      <td>COMMUNICATION</td>\n",
              "      <td>4.4</td>\n",
              "      <td>69119316.0</td>\n",
              "      <td>0.0</td>\n",
              "      <td>1,000,000,000+</td>\n",
              "      <td>Free</td>\n",
              "      <td>0.0</td>\n",
              "      <td>Everyone</td>\n",
              "      <td>Communication</td>\n",
              "      <td>August 3, 2018</td>\n",
              "      <td>Varies with device</td>\n",
              "      <td>Varies with device</td>\n",
              "    </tr>\n",
              "    <tr>\n",
              "      <th>337</th>\n",
              "      <td>Messenger for SMS</td>\n",
              "      <td>COMMUNICATION</td>\n",
              "      <td>4.3</td>\n",
              "      <td>125257.0</td>\n",
              "      <td>17000000.0</td>\n",
              "      <td>10,000,000+</td>\n",
              "      <td>Free</td>\n",
              "      <td>0.0</td>\n",
              "      <td>Teen</td>\n",
              "      <td>Communication</td>\n",
              "      <td>June 6, 2018</td>\n",
              "      <td>1.8.9</td>\n",
              "      <td>4.1 and up</td>\n",
              "    </tr>\n",
              "    <tr>\n",
              "      <th>338</th>\n",
              "      <td>Google Chrome: Fast &amp; Secure</td>\n",
              "      <td>COMMUNICATION</td>\n",
              "      <td>4.3</td>\n",
              "      <td>9642995.0</td>\n",
              "      <td>0.0</td>\n",
              "      <td>1,000,000,000+</td>\n",
              "      <td>Free</td>\n",
              "      <td>0.0</td>\n",
              "      <td>Everyone</td>\n",
              "      <td>Communication</td>\n",
              "      <td>August 1, 2018</td>\n",
              "      <td>Varies with device</td>\n",
              "      <td>Varies with device</td>\n",
              "    </tr>\n",
              "    <tr>\n",
              "      <th>339</th>\n",
              "      <td>Messenger Lite: Free Calls &amp; Messages</td>\n",
              "      <td>COMMUNICATION</td>\n",
              "      <td>4.4</td>\n",
              "      <td>1429035.0</td>\n",
              "      <td>0.0</td>\n",
              "      <td>100,000,000+</td>\n",
              "      <td>Free</td>\n",
              "      <td>0.0</td>\n",
              "      <td>Everyone</td>\n",
              "      <td>Communication</td>\n",
              "      <td>July 25, 2018</td>\n",
              "      <td>37.0.0.7.163</td>\n",
              "      <td>2.3 and up</td>\n",
              "    </tr>\n",
              "  </tbody>\n",
              "</table>\n",
              "</div>"
            ],
            "text/plain": [
              "                                          App       Category  Rating  \\\n",
              "335  Messenger – Text and Video Chat for Free  COMMUNICATION     4.0   \n",
              "336                        WhatsApp Messenger  COMMUNICATION     4.4   \n",
              "337                         Messenger for SMS  COMMUNICATION     4.3   \n",
              "338              Google Chrome: Fast & Secure  COMMUNICATION     4.3   \n",
              "339     Messenger Lite: Free Calls & Messages  COMMUNICATION     4.4   \n",
              "\n",
              "        Reviews        Size        Installs  Type  Price Content Rating  \\\n",
              "335  56642847.0         0.0  1,000,000,000+  Free    0.0       Everyone   \n",
              "336  69119316.0         0.0  1,000,000,000+  Free    0.0       Everyone   \n",
              "337    125257.0  17000000.0     10,000,000+  Free    0.0           Teen   \n",
              "338   9642995.0         0.0  1,000,000,000+  Free    0.0       Everyone   \n",
              "339   1429035.0         0.0    100,000,000+  Free    0.0       Everyone   \n",
              "\n",
              "            Genres    Last Updated         Current Ver         Android Ver  \n",
              "335  Communication  August 1, 2018  Varies with device  Varies with device  \n",
              "336  Communication  August 3, 2018  Varies with device  Varies with device  \n",
              "337  Communication    June 6, 2018               1.8.9          4.1 and up  \n",
              "338  Communication  August 1, 2018  Varies with device  Varies with device  \n",
              "339  Communication   July 25, 2018        37.0.0.7.163          2.3 and up  "
            ]
          },
          "metadata": {},
          "execution_count": 40
        }
      ]
    },
    {
      "cell_type": "code",
      "metadata": {
        "colab": {
          "base_uri": "https://localhost:8080/"
        },
        "id": "1Jr__oqT0V2n",
        "outputId": "5b0e13a1-f068-49be-cbc0-73d9a960a657"
      },
      "source": [
        "len(df_top10_category)"
      ],
      "execution_count": 41,
      "outputs": [
        {
          "output_type": "execute_result",
          "data": {
            "text/plain": [
              "5880"
            ]
          },
          "metadata": {},
          "execution_count": 41
        }
      ]
    },
    {
      "cell_type": "code",
      "metadata": {
        "colab": {
          "base_uri": "https://localhost:8080/",
          "height": 365
        },
        "id": "9uOMw2Un0ale",
        "outputId": "069a8b72-5e0e-4628-ff49-1075d0039cde"
      },
      "source": [
        "fig = sns.countplot(x=\"Genres\", data=df_top10_genres)\n",
        "fig.set_xlabel('Genres')\n",
        "\n",
        "plt.xticks(rotation=45)\n",
        "plt.title('Top 10 Genres and the App Count')\n",
        "plt.ylabel('App Count')"
      ],
      "execution_count": 42,
      "outputs": [
        {
          "output_type": "execute_result",
          "data": {
            "text/plain": [
              "Text(0, 0.5, 'App Count')"
            ]
          },
          "metadata": {},
          "execution_count": 42
        },
        {
          "output_type": "display_data",
          "data": {
            "image/png": "[encoded data removed]",
            "text/plain": [
              "<Figure size 432x288 with 1 Axes>"
            ]
          },
          "metadata": {
            "needs_background": "light"
          }
        }
      ]
    },
    {
      "cell_type": "code",
      "metadata": {
        "id": "I8bHL_g20dc3"
      },
      "source": [
        "top10_android = google_play_cleaned[\"Android Ver\"].value_counts().head(10).index\n",
        "df_top10_android = google_play_cleaned.loc[google_play_cleaned[\"Android Ver\"].isin(top10_android)]"
      ],
      "execution_count": 43,
      "outputs": []
    },
    {
      "cell_type": "code",
      "metadata": {
        "colab": {
          "base_uri": "https://localhost:8080/",
          "height": 374
        },
        "id": "y5KKBAcv1GC3",
        "outputId": "875aff1e-ba41-49b4-b2c2-bb744b378ab5"
      },
      "source": [
        "fig = sns.countplot(x=\"Android Ver\", data=df_top10_android)\n",
        "fig.set_xlabel('Android Version')\n",
        "\n",
        "plt.xticks(rotation=45)\n",
        "plt.title('Top 10 Android Version and the App Count')\n",
        "plt.ylabel('App Count')"
      ],
      "execution_count": 44,
      "outputs": [
        {
          "output_type": "execute_result",
          "data": {
            "text/plain": [
              "Text(0, 0.5, 'App Count')"
            ]
          },
          "metadata": {},
          "execution_count": 44
        },
        {
          "output_type": "display_data",
          "data": {
            "image/png": "[encoded data removed]",
            "text/plain": [
              "<Figure size 432x288 with 1 Axes>"
            ]
          },
          "metadata": {
            "needs_background": "light"
          }
        }
      ]
    },
    {
      "cell_type": "code",
      "metadata": {
        "colab": {
          "base_uri": "https://localhost:8080/"
        },
        "id": "lRqPrSdK1H3m",
        "outputId": "6d31867b-776d-4f7f-9f93-c2d76c562e2b"
      },
      "source": [
        "google_play_cleaned.info()"
      ],
      "execution_count": 45,
      "outputs": [
        {
          "output_type": "stream",
          "name": "stdout",
          "text": [
            "<class 'pandas.core.frame.DataFrame'>\n",
            "Int64Index: 9366 entries, 0 to 10840\n",
            "Data columns (total 13 columns):\n",
            " #   Column          Non-Null Count  Dtype  \n",
            "---  ------          --------------  -----  \n",
            " 0   App             9366 non-null   object \n",
            " 1   Category        9366 non-null   object \n",
            " 2   Rating          9366 non-null   float64\n",
            " 3   Reviews         9366 non-null   float64\n",
            " 4   Size            9366 non-null   float64\n",
            " 5   Installs        9366 non-null   object \n",
            " 6   Type            9366 non-null   object \n",
            " 7   Price           9366 non-null   float64\n",
            " 8   Content Rating  9366 non-null   object \n",
            " 9   Genres          9366 non-null   object \n",
            " 10  Last Updated    9366 non-null   object \n",
            " 11  Current Ver     9362 non-null   object \n",
            " 12  Android Ver     9364 non-null   object \n",
            "dtypes: float64(4), object(9)\n",
            "memory usage: 1.3+ MB\n"
          ]
        }
      ]
    },
    {
      "cell_type": "code",
      "metadata": {
        "id": "Xf-m0dsM1Mwm"
      },
      "source": [
        "# Create one-hot encoding for categorical features\n",
        "categorical_feeatures = [\"Category\", \"Installs\", \"Type\", \"Content Rating\", \"Genres\", \"Android Ver\"]\n",
        "\n",
        "for col in categorical_feeatures:\n",
        "    one_hot = pd.get_dummies(google_play_cleaned[col], prefix=col+\"_\")\n",
        "    google_play_cleaned = google_play_cleaned.drop(col, axis=1)\n",
        "    google_play_cleaned = google_play_cleaned.join(one_hot)\n",
        "    \n",
        "google_play_cleaned = google_play_cleaned.drop([\"App\", \"Last Updated\", \"Current Ver\"], axis=1)"
      ],
      "execution_count": 46,
      "outputs": []
    },
    {
      "cell_type": "code",
      "metadata": {
        "id": "JArF7EA61WWe"
      },
      "source": [
        "features = google_play_cleaned.drop(\"Rating\", axis=1)\n",
        "labels = google_play_cleaned[\"Rating\"].values"
      ],
      "execution_count": 47,
      "outputs": []
    },
    {
      "cell_type": "code",
      "metadata": {
        "id": "nk06DdST1ZJQ"
      },
      "source": [
        "# Split training/test data\n",
        "X_train, X_test, y_train, y_test = train_test_split(features, labels, test_size=0.1, random_state=42)"
      ],
      "execution_count": 48,
      "outputs": []
    },
    {
      "cell_type": "code",
      "metadata": {
        "id": "XhcSQRJH1cBl"
      },
      "source": [
        "# Scale the features to make sure they are in similar ranges\n",
        "min_max_scaler = preprocessing.MinMaxScaler()\n",
        "X_train_scaled = min_max_scaler.fit_transform(X_train)\n",
        "X_test_scaled = min_max_scaler.transform(X_test)"
      ],
      "execution_count": 49,
      "outputs": []
    },
    {
      "cell_type": "code",
      "metadata": {
        "colab": {
          "base_uri": "https://localhost:8080/"
        },
        "id": "MZmkF0mg1fny",
        "outputId": "cc1030d2-03b6-41a7-e40b-200b8a875a0f"
      },
      "source": [
        "# Create linear regression object\n",
        "regr = linear_model.LinearRegression()\n",
        "\n",
        "# Train the model using the training sets\n",
        "regr.fit(X_train_scaled, y_train)\n",
        "\n",
        "# Make predictions using the train/testing set\n",
        "y_pred_train = regr.predict(X_train_scaled)\n",
        "y_pred_test = regr.predict(X_test_scaled)\n",
        "\n",
        "# The coefficients\n",
        "print('Coefficients: \\n', regr.coef_)\n",
        "\n",
        "# The mean squared error\n",
        "print(\"Mean squared error (train): %.2f\"\n",
        "      % mean_squared_error(y_train, y_pred_train))\n",
        "print(\"Mean squared error (test): %.2f\"\n",
        "      % mean_squared_error(y_test, y_pred_test))\n",
        "\n",
        "# R-squared on training set: 1 is perfect prediction\n",
        "print('R-squared (train): %.2f' % r2_score(y_train, y_pred_train))\n",
        "# R-squared on test set: 1 is perfect prediction\n",
        "print('R-squared (test): %.2f' % r2_score(y_test, y_pred_test))"
      ],
      "execution_count": 50,
      "outputs": [
        {
          "output_type": "stream",
          "name": "stdout",
          "text": [
            "Coefficients: \n",
            " [ 3.72540922e-01 -1.55432013e-02 -3.92766488e-01  4.45964425e+10\n",
            "  4.45964425e+10  4.45964425e+10  8.91043508e+10  1.73686434e+11\n",
            "  4.45964425e+10 -8.99280984e+10  1.65485674e+10  4.45964425e+10\n",
            "  4.45964425e+10  4.45964425e+10  4.45964425e+10  1.89385994e+10\n",
            "  2.46081708e+10  4.45964425e+10  6.98155697e+10  4.45964425e+10\n",
            "  4.45964425e+10  4.45964425e+10  1.57854762e+10  3.73426866e+10\n",
            "  3.83263245e+10  4.45964425e+10  2.83429960e+10  1.61085572e+10\n",
            "  9.35631159e+10  1.57634323e+10 -2.04317126e+09  4.45964425e+10\n",
            "  4.45964425e+10  4.45964425e+10  4.45964425e+10  4.45964425e+10\n",
            " -7.60749623e+10 -7.60749623e+10 -7.60749623e+10 -7.60749623e+10\n",
            " -7.60749623e+10 -7.60749623e+10 -7.60749623e+10 -7.60749623e+10\n",
            " -7.60749623e+10 -7.60749623e+10 -7.60749623e+10 -7.60749623e+10\n",
            " -7.60749623e+10 -7.60749623e+10 -7.60749623e+10 -7.60749623e+10\n",
            " -7.60749623e+10 -7.60749623e+10 -7.60749623e+10  1.70910896e+11\n",
            "  1.70910896e+11 -2.59749875e+10 -2.59749875e+10 -2.59749875e+10\n",
            " -2.59749875e+10 -2.59749875e+10 -2.59749875e+10  2.75550660e+10\n",
            "  2.75550660e+10 -1.69528423e+10 -1.01534925e+11  2.75550660e+10\n",
            "  1.62079607e+11  5.56029411e+10  2.75550660e+10  2.75550660e+10\n",
            "  5.32129090e+10  4.75433376e+10  2.33593866e+09  2.75550660e+10\n",
            "  5.63660323e+10  3.48088218e+10  3.38251839e+10  2.75550660e+10\n",
            "  4.38085125e+10  5.60429512e+10 -2.14116075e+10  2.75550660e+10\n",
            "  2.75550660e+10  2.75550660e+10  5.63880761e+10  2.75550660e+10\n",
            "  7.41946797e+10  2.75550660e+10  2.75550660e+10  2.75550660e+10\n",
            "  2.75550660e+10  2.75550660e+10  7.44242668e-02 -3.29755783e-01\n",
            " -2.70825028e-01 -1.54991150e-02 -2.67263412e-01 -2.64007449e-01\n",
            " -3.66735458e-01 -2.85682678e-01 -3.16095352e-01 -2.65266418e-01\n",
            " -3.00690055e-01 -3.51745605e-01 -2.04322815e-01 -2.47685969e-01\n",
            " -1.45408630e-01 -2.77027130e-01 -1.54251099e-01 -1.75466537e-01\n",
            " -3.36733818e-01 -2.29629517e-01  6.40840530e-02  1.48749530e-01\n",
            "  3.01761627e-02 -2.00866699e-01 -4.24833298e-02 -4.02262688e-01\n",
            "  1.33710861e-01 -3.05159569e-01 -4.10190582e-01 -5.40231705e-01\n",
            " -1.90719604e-01]\n",
            "Mean squared error (train): 0.24\n",
            "Mean squared error (test): 0.22\n",
            "R-squared (train): 0.11\n",
            "R-squared (test): 0.05\n"
          ]
        }
      ]
    },
    {
      "cell_type": "code",
      "metadata": {
        "colab": {
          "base_uri": "https://localhost:8080/"
        },
        "id": "qROZNBUx1lbK",
        "outputId": "18fd37da-0a84-42ef-9e23-efbf282a713e"
      },
      "source": [
        "# Set the parameters by cross-validation\n",
        "tuned_parameters = [\n",
        "    {\n",
        "        'max_depth': [2, 3, 4, 5], \n",
        "        'learning_rate': [0.2, 0.1, 0.05, 0.01],\n",
        "        'subsample': [1.0, 0.9, 0.8]\n",
        "    }\n",
        "]\n",
        "\n",
        "print(\"# Tuning hyper-parameters\")\n",
        "\n",
        "# Train a GBDT regressor\n",
        "clf = GridSearchCV(GradientBoostingRegressor(), tuned_parameters, cv=5, scoring=\"neg_mean_squared_error\")\n",
        "clf.fit(X_train, y_train)"
      ],
      "execution_count": 51,
      "outputs": [
        {
          "output_type": "stream",
          "name": "stdout",
          "text": [
            "# Tuning hyper-parameters\n"
          ]
        },
        {
          "output_type": "execute_result",
          "data": {
            "text/plain": [
              "GridSearchCV(cv=5, error_score=nan,\n",
              "             estimator=GradientBoostingRegressor(alpha=0.9, ccp_alpha=0.0,\n",
              "                                                 criterion='friedman_mse',\n",
              "                                                 init=None, learning_rate=0.1,\n",
              "                                                 loss='ls', max_depth=3,\n",
              "                                                 max_features=None,\n",
              "                                                 max_leaf_nodes=None,\n",
              "                                                 min_impurity_decrease=0.0,\n",
              "                                                 min_impurity_split=None,\n",
              "                                                 min_samples_leaf=1,\n",
              "                                                 min_samples_split=2,\n",
              "                                                 min_weight_fraction_leaf=0.0,\n",
              "                                                 n_estimators=100,\n",
              "                                                 n_iter_n...ne,\n",
              "                                                 presort='deprecated',\n",
              "                                                 random_state=None,\n",
              "                                                 subsample=1.0, tol=0.0001,\n",
              "                                                 validation_fraction=0.1,\n",
              "                                                 verbose=0, warm_start=False),\n",
              "             iid='deprecated', n_jobs=None,\n",
              "             param_grid=[{'learning_rate': [0.2, 0.1, 0.05, 0.01],\n",
              "                          'max_depth': [2, 3, 4, 5],\n",
              "                          'subsample': [1.0, 0.9, 0.8]}],\n",
              "             pre_dispatch='2*n_jobs', refit=True, return_train_score=False,\n",
              "             scoring='neg_mean_squared_error', verbose=0)"
            ]
          },
          "metadata": {},
          "execution_count": 51
        }
      ]
    },
    {
      "cell_type": "code",
      "metadata": {
        "colab": {
          "base_uri": "https://localhost:8080/"
        },
        "id": "YUGJyTp01qJG",
        "outputId": "954c215f-0c0a-4fa3-f418-06ae780bbf0a"
      },
      "source": [
        "print(\"Best parameters set found on training set:\")\n",
        "print(clf.best_params_)"
      ],
      "execution_count": 52,
      "outputs": [
        {
          "output_type": "stream",
          "name": "stdout",
          "text": [
            "Best parameters set found on training set:\n",
            "{'learning_rate': 0.05, 'max_depth': 5, 'subsample': 0.8}\n"
          ]
        }
      ]
    },
    {
      "cell_type": "code",
      "metadata": {
        "colab": {
          "base_uri": "https://localhost:8080/"
        },
        "id": "oYjaIWOO1xZw",
        "outputId": "5a192084-e7bf-4335-9297-91c451dd3e77"
      },
      "source": [
        "means = clf.cv_results_['mean_test_score']\n",
        "stds = clf.cv_results_['std_test_score']\n",
        "for mean, std, params in zip(means, stds, clf.cv_results_['params']):\n",
        "    print(\"Mean squared error = %0.3f for %r\" % (-mean, params))"
      ],
      "execution_count": 53,
      "outputs": [
        {
          "output_type": "stream",
          "name": "stdout",
          "text": [
            "Mean squared error = 0.234 for {'learning_rate': 0.2, 'max_depth': 2, 'subsample': 1.0}\n",
            "Mean squared error = 0.233 for {'learning_rate': 0.2, 'max_depth': 2, 'subsample': 0.9}\n",
            "Mean squared error = 0.235 for {'learning_rate': 0.2, 'max_depth': 2, 'subsample': 0.8}\n",
            "Mean squared error = 0.233 for {'learning_rate': 0.2, 'max_depth': 3, 'subsample': 1.0}\n",
            "Mean squared error = 0.231 for {'learning_rate': 0.2, 'max_depth': 3, 'subsample': 0.9}\n",
            "Mean squared error = 0.232 for {'learning_rate': 0.2, 'max_depth': 3, 'subsample': 0.8}\n",
            "Mean squared error = 0.231 for {'learning_rate': 0.2, 'max_depth': 4, 'subsample': 1.0}\n",
            "Mean squared error = 0.232 for {'learning_rate': 0.2, 'max_depth': 4, 'subsample': 0.9}\n",
            "Mean squared error = 0.236 for {'learning_rate': 0.2, 'max_depth': 4, 'subsample': 0.8}\n",
            "Mean squared error = 0.235 for {'learning_rate': 0.2, 'max_depth': 5, 'subsample': 1.0}\n",
            "Mean squared error = 0.237 for {'learning_rate': 0.2, 'max_depth': 5, 'subsample': 0.9}\n",
            "Mean squared error = 0.237 for {'learning_rate': 0.2, 'max_depth': 5, 'subsample': 0.8}\n",
            "Mean squared error = 0.239 for {'learning_rate': 0.1, 'max_depth': 2, 'subsample': 1.0}\n",
            "Mean squared error = 0.238 for {'learning_rate': 0.1, 'max_depth': 2, 'subsample': 0.9}\n",
            "Mean squared error = 0.236 for {'learning_rate': 0.1, 'max_depth': 2, 'subsample': 0.8}\n",
            "Mean squared error = 0.236 for {'learning_rate': 0.1, 'max_depth': 3, 'subsample': 1.0}\n",
            "Mean squared error = 0.234 for {'learning_rate': 0.1, 'max_depth': 3, 'subsample': 0.9}\n",
            "Mean squared error = 0.233 for {'learning_rate': 0.1, 'max_depth': 3, 'subsample': 0.8}\n",
            "Mean squared error = 0.232 for {'learning_rate': 0.1, 'max_depth': 4, 'subsample': 1.0}\n",
            "Mean squared error = 0.232 for {'learning_rate': 0.1, 'max_depth': 4, 'subsample': 0.9}\n",
            "Mean squared error = 0.230 for {'learning_rate': 0.1, 'max_depth': 4, 'subsample': 0.8}\n",
            "Mean squared error = 0.231 for {'learning_rate': 0.1, 'max_depth': 5, 'subsample': 1.0}\n",
            "Mean squared error = 0.232 for {'learning_rate': 0.1, 'max_depth': 5, 'subsample': 0.9}\n",
            "Mean squared error = 0.230 for {'learning_rate': 0.1, 'max_depth': 5, 'subsample': 0.8}\n",
            "Mean squared error = 0.243 for {'learning_rate': 0.05, 'max_depth': 2, 'subsample': 1.0}\n",
            "Mean squared error = 0.242 for {'learning_rate': 0.05, 'max_depth': 2, 'subsample': 0.9}\n",
            "Mean squared error = 0.242 for {'learning_rate': 0.05, 'max_depth': 2, 'subsample': 0.8}\n",
            "Mean squared error = 0.238 for {'learning_rate': 0.05, 'max_depth': 3, 'subsample': 1.0}\n",
            "Mean squared error = 0.237 for {'learning_rate': 0.05, 'max_depth': 3, 'subsample': 0.9}\n",
            "Mean squared error = 0.237 for {'learning_rate': 0.05, 'max_depth': 3, 'subsample': 0.8}\n",
            "Mean squared error = 0.236 for {'learning_rate': 0.05, 'max_depth': 4, 'subsample': 1.0}\n",
            "Mean squared error = 0.234 for {'learning_rate': 0.05, 'max_depth': 4, 'subsample': 0.9}\n",
            "Mean squared error = 0.232 for {'learning_rate': 0.05, 'max_depth': 4, 'subsample': 0.8}\n",
            "Mean squared error = 0.234 for {'learning_rate': 0.05, 'max_depth': 5, 'subsample': 1.0}\n",
            "Mean squared error = 0.230 for {'learning_rate': 0.05, 'max_depth': 5, 'subsample': 0.9}\n",
            "Mean squared error = 0.229 for {'learning_rate': 0.05, 'max_depth': 5, 'subsample': 0.8}\n",
            "Mean squared error = 0.252 for {'learning_rate': 0.01, 'max_depth': 2, 'subsample': 1.0}\n",
            "Mean squared error = 0.252 for {'learning_rate': 0.01, 'max_depth': 2, 'subsample': 0.9}\n",
            "Mean squared error = 0.252 for {'learning_rate': 0.01, 'max_depth': 2, 'subsample': 0.8}\n",
            "Mean squared error = 0.249 for {'learning_rate': 0.01, 'max_depth': 3, 'subsample': 1.0}\n",
            "Mean squared error = 0.249 for {'learning_rate': 0.01, 'max_depth': 3, 'subsample': 0.9}\n",
            "Mean squared error = 0.248 for {'learning_rate': 0.01, 'max_depth': 3, 'subsample': 0.8}\n",
            "Mean squared error = 0.246 for {'learning_rate': 0.01, 'max_depth': 4, 'subsample': 1.0}\n",
            "Mean squared error = 0.246 for {'learning_rate': 0.01, 'max_depth': 4, 'subsample': 0.9}\n",
            "Mean squared error = 0.246 for {'learning_rate': 0.01, 'max_depth': 4, 'subsample': 0.8}\n",
            "Mean squared error = 0.245 for {'learning_rate': 0.01, 'max_depth': 5, 'subsample': 1.0}\n",
            "Mean squared error = 0.244 for {'learning_rate': 0.01, 'max_depth': 5, 'subsample': 0.9}\n",
            "Mean squared error = 0.243 for {'learning_rate': 0.01, 'max_depth': 5, 'subsample': 0.8}\n"
          ]
        }
      ]
    },
    {
      "cell_type": "code",
      "metadata": {
        "id": "fXdiAQ4-10UK"
      },
      "source": [
        "best_estimator = clf.best_estimator_"
      ],
      "execution_count": 54,
      "outputs": []
    },
    {
      "cell_type": "code",
      "metadata": {
        "colab": {
          "base_uri": "https://localhost:8080/"
        },
        "id": "PvjjN1_312T3",
        "outputId": "77fb7c5b-ec36-4a46-e153-b0673ea2803b"
      },
      "source": [
        "# Make predictions using the train/testing set\n",
        "y_pred_train = best_estimator.predict(X_train)\n",
        "y_pred_test = best_estimator.predict(X_test)\n",
        "\n",
        "# The mean squared error\n",
        "print(\"Mean squared error (train): %.2f\"\n",
        "      % mean_squared_error(y_train, y_pred_train))\n",
        "print(\"Mean squared error (test): %.2f\"\n",
        "      % mean_squared_error(y_test, y_pred_test))\n",
        "\n",
        "# R-squared on training set: 1 is perfect prediction\n",
        "print('R-squared (train): %.2f' % r2_score(y_train, y_pred_train))\n",
        "# R-squared on test set: 1 is perfect prediction\n",
        "print('R-squared (test): %.2f' % r2_score(y_test, y_pred_test))"
      ],
      "execution_count": 55,
      "outputs": [
        {
          "output_type": "stream",
          "name": "stdout",
          "text": [
            "Mean squared error (train): 0.19\n",
            "Mean squared error (test): 0.20\n",
            "R-squared (train): 0.31\n",
            "R-squared (test): 0.15\n"
          ]
        }
      ]
    },
    {
      "cell_type": "code",
      "metadata": {
        "id": "lKXIVQhQ14im"
      },
      "source": [
        "best_n_estimators = best_estimator.get_params()[\"n_estimators\"]"
      ],
      "execution_count": 56,
      "outputs": []
    },
    {
      "cell_type": "code",
      "metadata": {
        "colab": {
          "base_uri": "https://localhost:8080/",
          "height": 404
        },
        "id": "wJ7pAXPB1-hX",
        "outputId": "63f4c2b2-c3ad-41a6-aa98-c97049ad2970"
      },
      "source": [
        "# Plot training deviance\n",
        "\n",
        "# Compute test set deviance\n",
        "test_score = np.zeros((best_n_estimators,), dtype=np.float64)\n",
        " \n",
        "for i, y_pred_test in enumerate(best_estimator.staged_predict(X_test)):\n",
        "    test_score[i] = best_estimator.loss_(y_test, y_pred_test)\n",
        "    \n",
        "plt.figure(figsize=(12, 6))\n",
        "plt.subplot(1, 2, 1)\n",
        "plt.subplots_adjust(wspace=.5)\n",
        "plt.title('Deviance')\n",
        "plt.plot(np.arange(best_n_estimators) + 1, best_estimator.train_score_, 'b-',\n",
        "         label='Training Set Deviance')\n",
        "plt.plot(np.arange(best_n_estimators) + 1, test_score, 'r-',\n",
        "         label='Test Set Deviance')\n",
        "plt.legend(loc='upper right')\n",
        "plt.xlabel('Boosting Iterations')\n",
        "plt.ylabel('Deviance')\n",
        "\n",
        "# Plot feature importance\n",
        "feature_importance = best_estimator.feature_importances_\n",
        "num_top_features = 20\n",
        "\n",
        "# Make importances relative to max importance\n",
        "feature_importance = 100.0 * (feature_importance / feature_importance.max())\n",
        "sorted_idx = np.argsort(feature_importance)[::-1][0:num_top_features]\n",
        "pos = np.arange(sorted_idx.shape[0]) + .5\n",
        "plt.subplot(1, 2, 2)\n",
        "plt.barh(pos, feature_importance[sorted_idx], align='center')\n",
        "plt.yticks(pos, X_train.columns[sorted_idx])\n",
        "plt.xlabel('Relative Importance')\n",
        "plt.title('Variable Importance')\n",
        "plt.show()"
      ],
      "execution_count": 57,
      "outputs": [
        {
          "output_type": "display_data",
          "data": {
            "image/png": "[encoded data removed]",
            "text/plain": [
              "<Figure size 864x432 with 2 Axes>"
            ]
          },
          "metadata": {
            "needs_background": "light"
          }
        }
      ]
    },
    {
      "cell_type": "code",
      "metadata": {
        "colab": {
          "base_uri": "https://localhost:8080/",
          "height": 422
        },
        "id": "9bzpmZ3V2Bg1",
        "outputId": "63a7b6c2-8f03-4160-ddce-6884785cc4fa"
      },
      "source": [
        "# Plot partial dependence\n",
        "num_top_features = 5\n",
        "fig, ax = plot_partial_dependence(best_estimator, X_train, sorted_idx[0:num_top_features], \n",
        "                                  n_cols=5, feature_names=X_train.columns, percentiles=(0.1, 0.9))\n",
        "fig.set_figwidth(16)"
      ],
      "execution_count": 58,
      "outputs": [
        {
          "output_type": "stream",
          "name": "stderr",
          "text": [
            "/usr/local/lib/python3.7/dist-packages/sklearn/utils/deprecation.py:87: FutureWarning: Function plot_partial_dependence is deprecated; The function ensemble.plot_partial_dependence has been deprecated in favour of sklearn.inspection.plot_partial_dependence in  0.21 and will be removed in 0.23.\n",
            "  warnings.warn(msg, category=FutureWarning)\n",
            "/usr/local/lib/python3.7/dist-packages/sklearn/utils/deprecation.py:87: FutureWarning: Function partial_dependence is deprecated; The function ensemble.partial_dependence has been deprecated in favour of inspection.partial_dependence in 0.21 and will be removed in 0.23.\n",
            "  warnings.warn(msg, category=FutureWarning)\n",
            "/usr/local/lib/python3.7/dist-packages/sklearn/utils/deprecation.py:87: FutureWarning: Function partial_dependence is deprecated; The function ensemble.partial_dependence has been deprecated in favour of inspection.partial_dependence in 0.21 and will be removed in 0.23.\n",
            "  warnings.warn(msg, category=FutureWarning)\n",
            "/usr/local/lib/python3.7/dist-packages/sklearn/utils/deprecation.py:87: FutureWarning: Function partial_dependence is deprecated; The function ensemble.partial_dependence has been deprecated in favour of inspection.partial_dependence in 0.21 and will be removed in 0.23.\n",
            "  warnings.warn(msg, category=FutureWarning)\n",
            "/usr/local/lib/python3.7/dist-packages/sklearn/utils/deprecation.py:87: FutureWarning: Function partial_dependence is deprecated; The function ensemble.partial_dependence has been deprecated in favour of inspection.partial_dependence in 0.21 and will be removed in 0.23.\n",
            "  warnings.warn(msg, category=FutureWarning)\n",
            "/usr/local/lib/python3.7/dist-packages/sklearn/utils/deprecation.py:87: FutureWarning: Function partial_dependence is deprecated; The function ensemble.partial_dependence has been deprecated in favour of inspection.partial_dependence in 0.21 and will be removed in 0.23.\n",
            "  warnings.warn(msg, category=FutureWarning)\n"
          ]
        },
        {
          "output_type": "display_data",
          "data": {
            "image/png": "[encoded data removed]",
            "text/plain": [
              "<Figure size 1152x288 with 5 Axes>"
            ]
          },
          "metadata": {
            "needs_background": "light"
          }
        }
      ]
    },
    {
      "cell_type": "code",
      "metadata": {
        "colab": {
          "base_uri": "https://localhost:8080/"
        },
        "id": "lPfE8fsE2FbJ",
        "outputId": "8804cc33-9ddb-4eff-8288-6eb2bf1b0afe"
      },
      "source": [
        "threshold = np.percentile(y_train, 20)\n",
        "threshold"
      ],
      "execution_count": 59,
      "outputs": [
        {
          "output_type": "execute_result",
          "data": {
            "text/plain": [
              "3.8999999999999995"
            ]
          },
          "metadata": {},
          "execution_count": 59
        }
      ]
    },
    {
      "cell_type": "code",
      "metadata": {
        "id": "4zw40wi72ZMm"
      },
      "source": [
        "# Transform ratings into binary labels\n",
        "y_train_binary = (y_train < threshold).astype(int)\n",
        "y_test_binary = (y_test < threshold).astype(int)"
      ],
      "execution_count": 60,
      "outputs": []
    },
    {
      "cell_type": "code",
      "metadata": {
        "colab": {
          "base_uri": "https://localhost:8080/"
        },
        "id": "QRlYWmX32a1a",
        "outputId": "2ac0ee3c-51be-4f94-863f-0688c4ad6280"
      },
      "source": [
        "# Set the parameters by cross-validation\n",
        "tuned_parameters = [\n",
        "    {\n",
        "        'max_depth': [3, 4, 5], \n",
        "        'learning_rate': [0.3, 0.2, 0.1],\n",
        "        'subsample': [1.0, 0.9, 0.8]\n",
        "    }\n",
        "]\n",
        "\n",
        "print(\"# Tuning hyper-parameters\")\n",
        "\n",
        "# Train a GDBT classifier\n",
        "clf = GridSearchCV(GradientBoostingClassifier(n_estimators=300), tuned_parameters, cv=5, scoring=\"f1\")\n",
        "clf.fit(X_train, y_train_binary)"
      ],
      "execution_count": 61,
      "outputs": [
        {
          "output_type": "stream",
          "name": "stdout",
          "text": [
            "# Tuning hyper-parameters\n"
          ]
        },
        {
          "output_type": "execute_result",
          "data": {
            "text/plain": [
              "GridSearchCV(cv=5, error_score=nan,\n",
              "             estimator=GradientBoostingClassifier(ccp_alpha=0.0,\n",
              "                                                  criterion='friedman_mse',\n",
              "                                                  init=None, learning_rate=0.1,\n",
              "                                                  loss='deviance', max_depth=3,\n",
              "                                                  max_features=None,\n",
              "                                                  max_leaf_nodes=None,\n",
              "                                                  min_impurity_decrease=0.0,\n",
              "                                                  min_impurity_split=None,\n",
              "                                                  min_samples_leaf=1,\n",
              "                                                  min_samples_split=2,\n",
              "                                                  min_weight_fraction_leaf=0.0,\n",
              "                                                  n_estimators=300,\n",
              "                                                  n_iter_no_change=None,\n",
              "                                                  presort='deprecated',\n",
              "                                                  random_state=None,\n",
              "                                                  subsample=1.0, tol=0.0001,\n",
              "                                                  validation_fraction=0.1,\n",
              "                                                  verbose=0, warm_start=False),\n",
              "             iid='deprecated', n_jobs=None,\n",
              "             param_grid=[{'learning_rate': [0.3, 0.2, 0.1],\n",
              "                          'max_depth': [3, 4, 5],\n",
              "                          'subsample': [1.0, 0.9, 0.8]}],\n",
              "             pre_dispatch='2*n_jobs', refit=True, return_train_score=False,\n",
              "             scoring='f1', verbose=0)"
            ]
          },
          "metadata": {},
          "execution_count": 61
        }
      ]
    },
    {
      "cell_type": "code",
      "metadata": {
        "colab": {
          "base_uri": "https://localhost:8080/"
        },
        "id": "e7d161ew2dUj",
        "outputId": "530bcc49-0af6-4500-ca93-66c71897d6af"
      },
      "source": [
        "print(\"Best parameters set found on training set:\")\n",
        "print(clf.best_params_)"
      ],
      "execution_count": 62,
      "outputs": [
        {
          "output_type": "stream",
          "name": "stdout",
          "text": [
            "Best parameters set found on training set:\n",
            "{'learning_rate': 0.3, 'max_depth': 5, 'subsample': 1.0}\n"
          ]
        }
      ]
    },
    {
      "cell_type": "code",
      "metadata": {
        "colab": {
          "base_uri": "https://localhost:8080/"
        },
        "id": "HGl2ZoG22fmE",
        "outputId": "f5496d33-11ae-4319-f3c8-792f668e877c"
      },
      "source": [
        "means = clf.cv_results_['mean_test_score']\n",
        "stds = clf.cv_results_['std_test_score']\n",
        "for mean, std, params in zip(means, stds, clf.cv_results_['params']):\n",
        "    print(\"F1 score = %0.3f for %r\" % (mean, params))"
      ],
      "execution_count": 63,
      "outputs": [
        {
          "output_type": "stream",
          "name": "stdout",
          "text": [
            "F1 score = 0.296 for {'learning_rate': 0.3, 'max_depth': 3, 'subsample': 1.0}\n",
            "F1 score = 0.320 for {'learning_rate': 0.3, 'max_depth': 3, 'subsample': 0.9}\n",
            "F1 score = 0.315 for {'learning_rate': 0.3, 'max_depth': 3, 'subsample': 0.8}\n",
            "F1 score = 0.356 for {'learning_rate': 0.3, 'max_depth': 4, 'subsample': 1.0}\n",
            "F1 score = 0.347 for {'learning_rate': 0.3, 'max_depth': 4, 'subsample': 0.9}\n",
            "F1 score = 0.355 for {'learning_rate': 0.3, 'max_depth': 4, 'subsample': 0.8}\n",
            "F1 score = 0.362 for {'learning_rate': 0.3, 'max_depth': 5, 'subsample': 1.0}\n",
            "F1 score = 0.359 for {'learning_rate': 0.3, 'max_depth': 5, 'subsample': 0.9}\n",
            "F1 score = 0.360 for {'learning_rate': 0.3, 'max_depth': 5, 'subsample': 0.8}\n",
            "F1 score = 0.260 for {'learning_rate': 0.2, 'max_depth': 3, 'subsample': 1.0}\n",
            "F1 score = 0.289 for {'learning_rate': 0.2, 'max_depth': 3, 'subsample': 0.9}\n",
            "F1 score = 0.292 for {'learning_rate': 0.2, 'max_depth': 3, 'subsample': 0.8}\n",
            "F1 score = 0.305 for {'learning_rate': 0.2, 'max_depth': 4, 'subsample': 1.0}\n",
            "F1 score = 0.334 for {'learning_rate': 0.2, 'max_depth': 4, 'subsample': 0.9}\n",
            "F1 score = 0.343 for {'learning_rate': 0.2, 'max_depth': 4, 'subsample': 0.8}\n",
            "F1 score = 0.347 for {'learning_rate': 0.2, 'max_depth': 5, 'subsample': 1.0}\n",
            "F1 score = 0.350 for {'learning_rate': 0.2, 'max_depth': 5, 'subsample': 0.9}\n",
            "F1 score = 0.347 for {'learning_rate': 0.2, 'max_depth': 5, 'subsample': 0.8}\n",
            "F1 score = 0.172 for {'learning_rate': 0.1, 'max_depth': 3, 'subsample': 1.0}\n",
            "F1 score = 0.203 for {'learning_rate': 0.1, 'max_depth': 3, 'subsample': 0.9}\n",
            "F1 score = 0.212 for {'learning_rate': 0.1, 'max_depth': 3, 'subsample': 0.8}\n",
            "F1 score = 0.228 for {'learning_rate': 0.1, 'max_depth': 4, 'subsample': 1.0}\n",
            "F1 score = 0.270 for {'learning_rate': 0.1, 'max_depth': 4, 'subsample': 0.9}\n",
            "F1 score = 0.284 for {'learning_rate': 0.1, 'max_depth': 4, 'subsample': 0.8}\n",
            "F1 score = 0.284 for {'learning_rate': 0.1, 'max_depth': 5, 'subsample': 1.0}\n",
            "F1 score = 0.315 for {'learning_rate': 0.1, 'max_depth': 5, 'subsample': 0.9}\n",
            "F1 score = 0.310 for {'learning_rate': 0.1, 'max_depth': 5, 'subsample': 0.8}\n"
          ]
        }
      ]
    },
    {
      "cell_type": "code",
      "metadata": {
        "id": "UWNtJ7Pv2hxO"
      },
      "source": [
        "best_estimator = clf.best_estimator_"
      ],
      "execution_count": 64,
      "outputs": []
    },
    {
      "cell_type": "code",
      "metadata": {
        "id": "kew5ydm32mC4"
      },
      "source": [
        "# Make predictions using the train/testing set\n",
        "y_pred_train = best_estimator.predict(X_train)\n",
        "y_pred_test = best_estimator.predict(X_test)\n",
        "\n",
        "# Accuracy\n",
        "print(\"Accuracy (train): %.2f\"\n",
        "      % accuracy_score(y_train_binary, y_pred_train))\n",
        "print(\"Accuracy (test): %.2f\"\n",
        "      % accuracy_score(y_test_binary, y_pred_test))\n",
        "\n",
        "# Precision\n",
        "print(\"Precision (train): %.2f\"\n",
        "      % precision_score(y_train_binary, y_pred_train))\n",
        "print(\"Precision (test): %.2f\"\n",
        "      % precision_score(y_test_binary, y_pred_test))\n",
        "\n",
        "# Recall\n",
        "print(\"Recall (train): %.2f\"\n",
        "      % recall_score(y_train_binary, y_pred_train))\n",
        "print(\"Recall (test): %.2f\"\n",
        "      % recall_score(y_test_binary, y_pred_test))\n",
        "\n",
        "# F1 score\n",
        "print(\"F1 score (train): %.2f\"\n",
        "      % f1_score(y_train_binary, y_pred_train))\n",
        "print(\"F1 score (test): %.2f\"\n",
        "      % f1_score(y_test_binary, y_pred_test))"
      ],
      "execution_count": 64,
      "outputs": []
    },
    {
      "cell_type": "code",
      "metadata": {
        "id": "fIGGBfOy3fUz"
      },
      "source": [
        "best_n_estimators = best_estimator.get_params()[\"n_estimators\"]"
      ],
      "execution_count": 65,
      "outputs": []
    },
    {
      "cell_type": "code",
      "metadata": {
        "id": "nc7RHfaZ3h5i",
        "outputId": "bf5b7f70-8a4d-43a8-8175-ac6d541a18e4",
        "colab": {
          "base_uri": "https://localhost:8080/",
          "height": 404
        }
      },
      "source": [
        "# Plot training deviance\n",
        "\n",
        "# Compute test set deviance\n",
        "test_score = np.zeros((best_n_estimators,), dtype=np.float64)\n",
        " \n",
        "for i, y_pred_test in enumerate(best_estimator.staged_predict(X_test)):\n",
        "    test_score[i] = best_estimator.loss_(y_test, y_pred_test)\n",
        "    \n",
        "plt.figure(figsize=(12, 6))\n",
        "plt.subplot(1, 2, 1)\n",
        "plt.subplots_adjust(wspace=.5)\n",
        "plt.title('Deviance')\n",
        "plt.plot(np.arange(best_n_estimators) + 1, best_estimator.train_score_, 'b-',\n",
        "         label='Training Set Deviance')\n",
        "plt.plot(np.arange(best_n_estimators) + 1, test_score, 'r-',\n",
        "         label='Test Set Deviance')\n",
        "plt.legend(loc='upper right')\n",
        "plt.xlabel('Boosting Iterations')\n",
        "plt.ylabel('Deviance')\n",
        "\n",
        "# Plot feature importance\n",
        "feature_importance = best_estimator.feature_importances_\n",
        "num_top_features = 20\n",
        "\n",
        "# Make importances relative to max importance\n",
        "feature_importance = 100.0 * (feature_importance / feature_importance.max())\n",
        "sorted_idx = np.argsort(feature_importance)[::-1][0:num_top_features]\n",
        "pos = np.arange(sorted_idx.shape[0]) + .5\n",
        "plt.subplot(1, 2, 2)\n",
        "plt.barh(pos, feature_importance[sorted_idx], align='center')\n",
        "plt.yticks(pos, X_train.columns[sorted_idx])\n",
        "plt.xlabel('Relative Importance')\n",
        "plt.title('Variable Importance')\n",
        "plt.show()"
      ],
      "execution_count": 66,
      "outputs": [
        {
          "output_type": "display_data",
          "data": {
            "image/png": "[encoded data removed]",
            "text/plain": [
              "<Figure size 864x432 with 2 Axes>"
            ]
          },
          "metadata": {
            "needs_background": "light"
          }
        }
      ]
    },
    {
      "cell_type": "code",
      "metadata": {
        "id": "URa6UWSU3kcq",
        "outputId": "41e687a2-9714-446c-e2f4-8bdfc4d0911f",
        "colab": {
          "base_uri": "https://localhost:8080/",
          "height": 427
        }
      },
      "source": [
        "# Plot partial dependence\n",
        "num_top_features = 5\n",
        "fig, ax = plot_partial_dependence(best_estimator, X_train, sorted_idx[0:num_top_features], \n",
        "                                  n_cols=5, feature_names=X_train.columns, percentiles=(0.1, 0.9))\n",
        "fig.set_figwidth(16)"
      ],
      "execution_count": 67,
      "outputs": [
        {
          "output_type": "stream",
          "name": "stderr",
          "text": [
            "/usr/local/lib/python3.7/dist-packages/sklearn/utils/deprecation.py:87: FutureWarning: Function plot_partial_dependence is deprecated; The function ensemble.plot_partial_dependence has been deprecated in favour of sklearn.inspection.plot_partial_dependence in  0.21 and will be removed in 0.23.\n",
            "  warnings.warn(msg, category=FutureWarning)\n",
            "/usr/local/lib/python3.7/dist-packages/sklearn/utils/deprecation.py:87: FutureWarning: Function partial_dependence is deprecated; The function ensemble.partial_dependence has been deprecated in favour of inspection.partial_dependence in 0.21 and will be removed in 0.23.\n",
            "  warnings.warn(msg, category=FutureWarning)\n",
            "/usr/local/lib/python3.7/dist-packages/sklearn/utils/deprecation.py:87: FutureWarning: Function partial_dependence is deprecated; The function ensemble.partial_dependence has been deprecated in favour of inspection.partial_dependence in 0.21 and will be removed in 0.23.\n",
            "  warnings.warn(msg, category=FutureWarning)\n",
            "/usr/local/lib/python3.7/dist-packages/sklearn/utils/deprecation.py:87: FutureWarning: Function partial_dependence is deprecated; The function ensemble.partial_dependence has been deprecated in favour of inspection.partial_dependence in 0.21 and will be removed in 0.23.\n",
            "  warnings.warn(msg, category=FutureWarning)\n",
            "/usr/local/lib/python3.7/dist-packages/sklearn/utils/deprecation.py:87: FutureWarning: Function partial_dependence is deprecated; The function ensemble.partial_dependence has been deprecated in favour of inspection.partial_dependence in 0.21 and will be removed in 0.23.\n",
            "  warnings.warn(msg, category=FutureWarning)\n",
            "/usr/local/lib/python3.7/dist-packages/sklearn/utils/deprecation.py:87: FutureWarning: Function partial_dependence is deprecated; The function ensemble.partial_dependence has been deprecated in favour of inspection.partial_dependence in 0.21 and will be removed in 0.23.\n",
            "  warnings.warn(msg, category=FutureWarning)\n"
          ]
        },
        {
          "output_type": "display_data",
          "data": {
            "image/png": "[encoded data removed]",
            "text/plain": [
              "<Figure size 1152x288 with 5 Axes>"
            ]
          },
          "metadata": {
            "needs_background": "light"
          }
        }
      ]
    },
    {
      "cell_type": "code",
      "metadata": {
        "id": "amFIB4h33muY"
      },
      "source": [
        ""
      ],
      "execution_count": null,
      "outputs": []
    }
  ]
}