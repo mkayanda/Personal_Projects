{
 "cells": [
  {
   "attachments": {},
   "cell_type": "markdown",
   "metadata": {},
   "source": [
    "These are unsupervised learning algorithms where the class labels are unknown. We draw inferences from datasets consisting of input data where the answer is unknown. \n",
    "\n",
    "Dimensionality reduction compressed the data by finding a smaller, different set of variables that capture what matters most in the orignial features, while minimizing the loss of information. It helps mitigate problems associated with high dimensionality and permits the visualization of salient aspects of higher-dimensional data that is otherwise difficult to explore. \n",
    "\n",
    "Three most frequently used techniques for dimensionality reduction:\n",
    "\n",
    "    1. principal component analysis(PCA)\n",
    "    2. kernel principal component analysis (KPCA)\n",
    "    3. t-distributed stochastic neighbor embedding (t-SNE)\n",
    "    \n",
    "    \n",
    "**PCA** aims to reduce the dimensionality of a dataset with a large number of variables while retaining as much variance in the data as possible. It finds a set of new variables that through a linear combination. The new variables are called *principal components (PCs)*. These principal components are orthogonal (or independent) and can represent the original data. The number of components is a hyperparameter of the PCA algorithm that sets the target dimensionality.\n",
    "\n",
    "**How does PCA Algorithm work?** The PCA algorithm works by projecting the original data onto the principal component space. It then identifies a sequence of principal components, each of which aligns with the direction of maximum variance in the data (after accounting for variation captured by previously computed components). The sequential optimization also ensures that new components are not correlated with existing components. Thus the resulting set constitutes an orthogonal basis for a vector space.  \n",
    "\n",
    "The decline in the amount of variance of the original data explained by each principal component reflects the extent of correlation among the original features. The number of components that capture, for example, 95% of the original variation relative to the total number of features provides an insight into the linearly independent information of the original data.\n",
    "\n"
   ]
  },
  {
   "cell_type": "markdown",
   "metadata": {},
   "source": [
    "## Coding "
   ]
  },
  {
   "cell_type": "markdown",
   "metadata": {},
   "source": [
    "#### Import PCA Algorithm\n",
    "from sklearn.decomposition import PCA\n",
    "#### Initialize the algorithm and set the number of PC's\n",
    "pca = PCA(n_components=2)\n",
    "#### Fit the model to data\n",
    "pca.fit(data)\n",
    "#### Get list of PC's\n",
    "pca.components_\n",
    "#### Transform the model to data\n",
    "pca.transform(data)\n",
    "#### Get the eigenvalues\n",
    "pca.explained_variance_ratio"
   ]
  },
  {
   "cell_type": "code",
   "execution_count": 9,
   "metadata": {},
   "outputs": [],
   "source": [
    "from sklearn.decomposition import PCA\n",
    "from sklearn.decomposition import TruncatedSVD\n",
    "from numpy.linalg import inv, eig, svd\n",
    "from sklearn.manifold import TSNE\n",
    "from sklearn.decomposition import KernelPCA\n",
    "\n",
    "#data processing and visualization\n",
    "import numpy as np\n",
    "import pandas as pd\n",
    "import matplotlib.pyplot as plt\n",
    "from pandas import read_csv, set_option\n",
    "from pandas.plotting import scatter_matrix\n",
    "from sklearn.preprocessing import StandardScaler"
   ]
  },
  {
   "cell_type": "code",
   "execution_count": 12,
   "metadata": {},
   "outputs": [],
   "source": [
    "#loading the dataset\n",
    "dataset = read_csv('Dow_adjcloses.csv',index_col=0)"
   ]
  },
  {
   "cell_type": "markdown",
   "metadata": {},
   "source": [
    "## EDA"
   ]
  },
  {
   "cell_type": "code",
   "execution_count": 13,
   "metadata": {},
   "outputs": [
    {
     "data": {
      "text/plain": [
       "(4804, 30)"
      ]
     },
     "execution_count": 13,
     "metadata": {},
     "output_type": "execute_result"
    }
   ],
   "source": [
    "dataset.shape"
   ]
  },
  {
   "cell_type": "code",
   "execution_count": 14,
   "metadata": {},
   "outputs": [
    {
     "data": {
      "text/html": [
       "<div>\n",
       "<style scoped>\n",
       "    .dataframe tbody tr th:only-of-type {\n",
       "        vertical-align: middle;\n",
       "    }\n",
       "\n",
       "    .dataframe tbody tr th {\n",
       "        vertical-align: top;\n",
       "    }\n",
       "\n",
       "    .dataframe thead th {\n",
       "        text-align: right;\n",
       "    }\n",
       "</style>\n",
       "<table border=\"1\" class=\"dataframe\">\n",
       "  <thead>\n",
       "    <tr style=\"text-align: right;\">\n",
       "      <th></th>\n",
       "      <th>MMM</th>\n",
       "      <th>AXP</th>\n",
       "      <th>AAPL</th>\n",
       "      <th>BA</th>\n",
       "      <th>CAT</th>\n",
       "      <th>CVX</th>\n",
       "      <th>CSCO</th>\n",
       "      <th>KO</th>\n",
       "      <th>DIS</th>\n",
       "      <th>DWDP</th>\n",
       "      <th>...</th>\n",
       "      <th>NKE</th>\n",
       "      <th>PFE</th>\n",
       "      <th>PG</th>\n",
       "      <th>TRV</th>\n",
       "      <th>UTX</th>\n",
       "      <th>UNH</th>\n",
       "      <th>VZ</th>\n",
       "      <th>V</th>\n",
       "      <th>WMT</th>\n",
       "      <th>WBA</th>\n",
       "    </tr>\n",
       "    <tr>\n",
       "      <th>Date</th>\n",
       "      <th></th>\n",
       "      <th></th>\n",
       "      <th></th>\n",
       "      <th></th>\n",
       "      <th></th>\n",
       "      <th></th>\n",
       "      <th></th>\n",
       "      <th></th>\n",
       "      <th></th>\n",
       "      <th></th>\n",
       "      <th></th>\n",
       "      <th></th>\n",
       "      <th></th>\n",
       "      <th></th>\n",
       "      <th></th>\n",
       "      <th></th>\n",
       "      <th></th>\n",
       "      <th></th>\n",
       "      <th></th>\n",
       "      <th></th>\n",
       "      <th></th>\n",
       "    </tr>\n",
       "  </thead>\n",
       "  <tbody>\n",
       "    <tr>\n",
       "      <th>2000-01-03</th>\n",
       "      <td>29.847043</td>\n",
       "      <td>35.476634</td>\n",
       "      <td>3.530576</td>\n",
       "      <td>26.650218</td>\n",
       "      <td>14.560887</td>\n",
       "      <td>21.582046</td>\n",
       "      <td>43.003876</td>\n",
       "      <td>16.983583</td>\n",
       "      <td>23.522220</td>\n",
       "      <td>NaN</td>\n",
       "      <td>...</td>\n",
       "      <td>4.701180</td>\n",
       "      <td>16.746856</td>\n",
       "      <td>32.227726</td>\n",
       "      <td>20.158885</td>\n",
       "      <td>21.319030</td>\n",
       "      <td>5.841355</td>\n",
       "      <td>22.564221</td>\n",
       "      <td>NaN</td>\n",
       "      <td>47.337599</td>\n",
       "      <td>21.713237</td>\n",
       "    </tr>\n",
       "    <tr>\n",
       "      <th>2000-01-04</th>\n",
       "      <td>28.661131</td>\n",
       "      <td>34.134275</td>\n",
       "      <td>3.232839</td>\n",
       "      <td>26.610431</td>\n",
       "      <td>14.372251</td>\n",
       "      <td>21.582046</td>\n",
       "      <td>40.577200</td>\n",
       "      <td>17.040950</td>\n",
       "      <td>24.899860</td>\n",
       "      <td>NaN</td>\n",
       "      <td>...</td>\n",
       "      <td>4.445214</td>\n",
       "      <td>16.121738</td>\n",
       "      <td>31.596399</td>\n",
       "      <td>19.890099</td>\n",
       "      <td>20.445803</td>\n",
       "      <td>5.766368</td>\n",
       "      <td>21.833915</td>\n",
       "      <td>NaN</td>\n",
       "      <td>45.566248</td>\n",
       "      <td>20.907354</td>\n",
       "    </tr>\n",
       "    <tr>\n",
       "      <th>2000-01-05</th>\n",
       "      <td>30.122175</td>\n",
       "      <td>33.959430</td>\n",
       "      <td>3.280149</td>\n",
       "      <td>28.473758</td>\n",
       "      <td>14.914205</td>\n",
       "      <td>22.049145</td>\n",
       "      <td>40.895453</td>\n",
       "      <td>17.228147</td>\n",
       "      <td>25.781550</td>\n",
       "      <td>NaN</td>\n",
       "      <td>...</td>\n",
       "      <td>4.702157</td>\n",
       "      <td>16.415912</td>\n",
       "      <td>31.325831</td>\n",
       "      <td>20.085579</td>\n",
       "      <td>20.254784</td>\n",
       "      <td>5.753327</td>\n",
       "      <td>22.564221</td>\n",
       "      <td>NaN</td>\n",
       "      <td>44.503437</td>\n",
       "      <td>21.097421</td>\n",
       "    </tr>\n",
       "    <tr>\n",
       "      <th>2000-01-06</th>\n",
       "      <td>31.877325</td>\n",
       "      <td>33.959430</td>\n",
       "      <td>2.996290</td>\n",
       "      <td>28.553331</td>\n",
       "      <td>15.459153</td>\n",
       "      <td>22.903343</td>\n",
       "      <td>39.781569</td>\n",
       "      <td>17.210031</td>\n",
       "      <td>24.899860</td>\n",
       "      <td>NaN</td>\n",
       "      <td>...</td>\n",
       "      <td>4.677733</td>\n",
       "      <td>16.972739</td>\n",
       "      <td>32.438168</td>\n",
       "      <td>20.122232</td>\n",
       "      <td>20.998392</td>\n",
       "      <td>5.964159</td>\n",
       "      <td>22.449405</td>\n",
       "      <td>NaN</td>\n",
       "      <td>45.126952</td>\n",
       "      <td>20.527220</td>\n",
       "    </tr>\n",
       "    <tr>\n",
       "      <th>2000-01-07</th>\n",
       "      <td>32.509812</td>\n",
       "      <td>34.433913</td>\n",
       "      <td>3.138219</td>\n",
       "      <td>29.382213</td>\n",
       "      <td>15.962182</td>\n",
       "      <td>23.305926</td>\n",
       "      <td>42.128682</td>\n",
       "      <td>18.342270</td>\n",
       "      <td>24.506249</td>\n",
       "      <td>NaN</td>\n",
       "      <td>...</td>\n",
       "      <td>4.677733</td>\n",
       "      <td>18.123166</td>\n",
       "      <td>35.023602</td>\n",
       "      <td>20.922479</td>\n",
       "      <td>21.830687</td>\n",
       "      <td>6.662948</td>\n",
       "      <td>22.282692</td>\n",
       "      <td>NaN</td>\n",
       "      <td>48.535033</td>\n",
       "      <td>21.051805</td>\n",
       "    </tr>\n",
       "  </tbody>\n",
       "</table>\n",
       "<p>5 rows × 30 columns</p>\n",
       "</div>"
      ],
      "text/plain": [
       "                  MMM        AXP      AAPL         BA        CAT        CVX  \\\n",
       "Date                                                                          \n",
       "2000-01-03  29.847043  35.476634  3.530576  26.650218  14.560887  21.582046   \n",
       "2000-01-04  28.661131  34.134275  3.232839  26.610431  14.372251  21.582046   \n",
       "2000-01-05  30.122175  33.959430  3.280149  28.473758  14.914205  22.049145   \n",
       "2000-01-06  31.877325  33.959430  2.996290  28.553331  15.459153  22.903343   \n",
       "2000-01-07  32.509812  34.433913  3.138219  29.382213  15.962182  23.305926   \n",
       "\n",
       "                 CSCO         KO        DIS  DWDP  ...       NKE        PFE  \\\n",
       "Date                                               ...                        \n",
       "2000-01-03  43.003876  16.983583  23.522220   NaN  ...  4.701180  16.746856   \n",
       "2000-01-04  40.577200  17.040950  24.899860   NaN  ...  4.445214  16.121738   \n",
       "2000-01-05  40.895453  17.228147  25.781550   NaN  ...  4.702157  16.415912   \n",
       "2000-01-06  39.781569  17.210031  24.899860   NaN  ...  4.677733  16.972739   \n",
       "2000-01-07  42.128682  18.342270  24.506249   NaN  ...  4.677733  18.123166   \n",
       "\n",
       "                   PG        TRV        UTX       UNH         VZ   V  \\\n",
       "Date                                                                   \n",
       "2000-01-03  32.227726  20.158885  21.319030  5.841355  22.564221 NaN   \n",
       "2000-01-04  31.596399  19.890099  20.445803  5.766368  21.833915 NaN   \n",
       "2000-01-05  31.325831  20.085579  20.254784  5.753327  22.564221 NaN   \n",
       "2000-01-06  32.438168  20.122232  20.998392  5.964159  22.449405 NaN   \n",
       "2000-01-07  35.023602  20.922479  21.830687  6.662948  22.282692 NaN   \n",
       "\n",
       "                  WMT        WBA  \n",
       "Date                              \n",
       "2000-01-03  47.337599  21.713237  \n",
       "2000-01-04  45.566248  20.907354  \n",
       "2000-01-05  44.503437  21.097421  \n",
       "2000-01-06  45.126952  20.527220  \n",
       "2000-01-07  48.535033  21.051805  \n",
       "\n",
       "[5 rows x 30 columns]"
      ]
     },
     "execution_count": 14,
     "metadata": {},
     "output_type": "execute_result"
    }
   ],
   "source": [
    "dataset.head()"
   ]
  },
  {
   "cell_type": "code",
   "execution_count": 15,
   "metadata": {},
   "outputs": [
    {
     "name": "stdout",
     "output_type": "stream",
     "text": [
      "<class 'pandas.core.frame.DataFrame'>\n",
      "Index: 4804 entries, 2000-01-03 to 2019-02-06\n",
      "Data columns (total 30 columns):\n",
      " #   Column  Non-Null Count  Dtype  \n",
      "---  ------  --------------  -----  \n",
      " 0   MMM     4804 non-null   float64\n",
      " 1   AXP     4804 non-null   float64\n",
      " 2   AAPL    4804 non-null   float64\n",
      " 3   BA      4804 non-null   float64\n",
      " 4   CAT     4804 non-null   float64\n",
      " 5   CVX     4804 non-null   float64\n",
      " 6   CSCO    4804 non-null   float64\n",
      " 7   KO      4804 non-null   float64\n",
      " 8   DIS     4804 non-null   float64\n",
      " 9   DWDP    363 non-null    float64\n",
      " 10  XOM     4804 non-null   float64\n",
      " 11  GS      4804 non-null   float64\n",
      " 12  HD      4804 non-null   float64\n",
      " 13  IBM     4804 non-null   float64\n",
      " 14  INTC    4804 non-null   float64\n",
      " 15  JNJ     4804 non-null   float64\n",
      " 16  JPM     4804 non-null   float64\n",
      " 17  MCD     4804 non-null   float64\n",
      " 18  MRK     4804 non-null   float64\n",
      " 19  MSFT    4804 non-null   float64\n",
      " 20  NKE     4804 non-null   float64\n",
      " 21  PFE     4804 non-null   float64\n",
      " 22  PG      4804 non-null   float64\n",
      " 23  TRV     4804 non-null   float64\n",
      " 24  UTX     4804 non-null   float64\n",
      " 25  UNH     4804 non-null   float64\n",
      " 26  VZ      4804 non-null   float64\n",
      " 27  V       2741 non-null   float64\n",
      " 28  WMT     4804 non-null   float64\n",
      " 29  WBA     4804 non-null   float64\n",
      "dtypes: float64(30)\n",
      "memory usage: 1.1+ MB\n"
     ]
    }
   ],
   "source": [
    "dataset.info()"
   ]
  },
  {
   "cell_type": "code",
   "execution_count": 18,
   "metadata": {},
   "outputs": [
    {
     "ename": "ModuleNotFoundError",
     "evalue": "No module named 'seaborn'",
     "output_type": "error",
     "traceback": [
      "\u001b[0;31m---------------------------------------------------------------------------\u001b[0m",
      "\u001b[0;31mModuleNotFoundError\u001b[0m                       Traceback (most recent call last)",
      "\u001b[0;32m<ipython-input-18-1b5ff0b2701b>\u001b[0m in \u001b[0;36m<module>\u001b[0;34m\u001b[0m\n\u001b[1;32m      1\u001b[0m \u001b[0;31m#data visualization\u001b[0m\u001b[0;34m\u001b[0m\u001b[0;34m\u001b[0m\u001b[0;34m\u001b[0m\u001b[0m\n\u001b[0;32m----> 2\u001b[0;31m \u001b[0;32mimport\u001b[0m \u001b[0mseaborn\u001b[0m \u001b[0;32mas\u001b[0m \u001b[0msns\u001b[0m\u001b[0;34m\u001b[0m\u001b[0;34m\u001b[0m\u001b[0m\n\u001b[0m\u001b[1;32m      3\u001b[0m \u001b[0;34m\u001b[0m\u001b[0m\n\u001b[1;32m      4\u001b[0m \u001b[0mcorrelation\u001b[0m \u001b[0;34m=\u001b[0m \u001b[0mdataset\u001b[0m\u001b[0;34m.\u001b[0m\u001b[0mcorr\u001b[0m\u001b[0;34m(\u001b[0m\u001b[0;34m)\u001b[0m\u001b[0;34m\u001b[0m\u001b[0;34m\u001b[0m\u001b[0m\n\u001b[1;32m      5\u001b[0m \u001b[0mplt\u001b[0m\u001b[0;34m.\u001b[0m\u001b[0mfigure\u001b[0m\u001b[0;34m(\u001b[0m\u001b[0mfigsize\u001b[0m\u001b[0;34m=\u001b[0m\u001b[0;34m(\u001b[0m\u001b[0;36m15\u001b[0m\u001b[0;34m,\u001b[0m \u001b[0;36m15\u001b[0m\u001b[0;34m)\u001b[0m\u001b[0;34m)\u001b[0m\u001b[0;34m\u001b[0m\u001b[0;34m\u001b[0m\u001b[0m\n",
      "\u001b[0;31mModuleNotFoundError\u001b[0m: No module named 'seaborn'"
     ]
    }
   ],
   "source": [
    "#data visualization\n",
    "import seaborn as sns\n",
    "\n",
    "correlation = dataset.corr()\n",
    "plt.figure(figsize=(15, 15))\n",
    "plt.title('Correlation Matrix')\n",
    "sns.heatmap(correlation, vmax=1, square=True,annot=True, cmap='cubehelix')"
   ]
  },
  {
   "cell_type": "code",
   "execution_count": 19,
   "metadata": {},
   "outputs": [
    {
     "name": "stdout",
     "output_type": "stream",
     "text": [
      "Null Values = True\n"
     ]
    }
   ],
   "source": [
    "#Checking for any null values and removing the null values'''\n",
    "print('Null Values =',dataset.isnull().values.any())"
   ]
  },
  {
   "cell_type": "code",
   "execution_count": 20,
   "metadata": {},
   "outputs": [
    {
     "data": {
      "text/plain": [
       "(4804, 28)"
      ]
     },
     "execution_count": 20,
     "metadata": {},
     "output_type": "execute_result"
    }
   ],
   "source": [
    "missing_fractions = dataset.isnull().mean().sort_values(ascending=False)\n",
    "missing_fractions.head(10)\n",
    "drop_list = sorted(list(missing_fractions[missing_fractions > 0.3].index))\n",
    "dataset.drop(labels=drop_list, axis=1, inplace=True)\n",
    "dataset.shape"
   ]
  },
  {
   "cell_type": "code",
   "execution_count": null,
   "metadata": {},
   "outputs": [],
   "source": [
    "# Fill the missing values with the last value available in the dataset.\n",
    "dataset=dataset.fillna(method='ffill')"
   ]
  }
 ],
 "metadata": {
  "kernelspec": {
   "display_name": "Python 3",
   "language": "python",
   "name": "python3"
  },
  "language_info": {
   "codemirror_mode": {
    "name": "ipython",
    "version": 3
   },
   "file_extension": ".py",
   "mimetype": "text/x-python",
   "name": "python",
   "nbconvert_exporter": "python",
   "pygments_lexer": "ipython3",
   "version": "3.7.10"
  }
 },
 "nbformat": 4,
 "nbformat_minor": 4
}
