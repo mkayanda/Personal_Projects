{
 "metadata": {
  "language_info": {
   "codemirror_mode": {
    "name": "ipython",
    "version": 3
   },
   "file_extension": ".py",
   "mimetype": "text/x-python",
   "name": "python",
   "nbconvert_exporter": "python",
   "pygments_lexer": "ipython3",
   "version": "3.8.5-final"
  },
  "orig_nbformat": 2,
  "kernelspec": {
   "name": "python3",
   "display_name": "Python 3",
   "language": "python"
  }
 },
 "nbformat": 4,
 "nbformat_minor": 2,
 "cells": [
  {
   "source": [
    "### Consider a scenerio where you would want to get top features from given dataset. We'll explore the **movies** dataset in this example"
   ],
   "cell_type": "markdown",
   "metadata": {}
  },
  {
   "cell_type": "code",
   "execution_count": 1,
   "metadata": {},
   "outputs": [],
   "source": [
    "import pandas as pd \n",
    "import numpy as np "
   ]
  },
  {
   "cell_type": "code",
   "execution_count": 4,
   "metadata": {},
   "outputs": [
    {
     "output_type": "execute_result",
     "data": {
      "text/plain": [
       "                                  movie_title  imdb_score       budget\n",
       "0                                      Avatar         7.9  237000000.0\n",
       "1    Pirates of the Caribbean: At World's End         7.1  300000000.0\n",
       "2                                     Spectre         6.8  245000000.0\n",
       "3                       The Dark Knight Rises         8.5  250000000.0\n",
       "4  Star Wars: Episode VII - The Force Awakens         7.1          NaN"
      ],
      "text/html": "<div>\n<style scoped>\n    .dataframe tbody tr th:only-of-type {\n        vertical-align: middle;\n    }\n\n    .dataframe tbody tr th {\n        vertical-align: top;\n    }\n\n    .dataframe thead th {\n        text-align: right;\n    }\n</style>\n<table border=\"1\" class=\"dataframe\">\n  <thead>\n    <tr style=\"text-align: right;\">\n      <th></th>\n      <th>movie_title</th>\n      <th>imdb_score</th>\n      <th>budget</th>\n    </tr>\n  </thead>\n  <tbody>\n    <tr>\n      <th>0</th>\n      <td>Avatar</td>\n      <td>7.9</td>\n      <td>237000000.0</td>\n    </tr>\n    <tr>\n      <th>1</th>\n      <td>Pirates of the Caribbean: At World's End</td>\n      <td>7.1</td>\n      <td>300000000.0</td>\n    </tr>\n    <tr>\n      <th>2</th>\n      <td>Spectre</td>\n      <td>6.8</td>\n      <td>245000000.0</td>\n    </tr>\n    <tr>\n      <th>3</th>\n      <td>The Dark Knight Rises</td>\n      <td>8.5</td>\n      <td>250000000.0</td>\n    </tr>\n    <tr>\n      <th>4</th>\n      <td>Star Wars: Episode VII - The Force Awakens</td>\n      <td>7.1</td>\n      <td>NaN</td>\n    </tr>\n  </tbody>\n</table>\n</div>"
     },
     "metadata": {},
     "execution_count": 4
    }
   ],
   "source": [
    "#Read in the movie dataset, and select the columns: movie_title, imdb_score, and budget\n",
    "\n",
    "movie = pd.read_csv(\"../data/movie.csv\")\n",
    "movie2 = movie[[\"movie_title\", \"imdb_score\", \"budget\"]]\n",
    "movie2.head()"
   ]
  },
  {
   "cell_type": "code",
   "execution_count": 5,
   "metadata": {},
   "outputs": [
    {
     "output_type": "execute_result",
     "data": {
      "text/plain": [
       "                   movie_title  imdb_score      budget\n",
       "2725          Towering Inferno         9.5         NaN\n",
       "1920  The Shawshank Redemption         9.3  25000000.0\n",
       "3402             The Godfather         9.2   6000000.0\n",
       "2779                   Dekalog         9.1         NaN\n",
       "4312      Kickboxer: Vengeance         9.1  17000000.0"
      ],
      "text/html": "<div>\n<style scoped>\n    .dataframe tbody tr th:only-of-type {\n        vertical-align: middle;\n    }\n\n    .dataframe tbody tr th {\n        vertical-align: top;\n    }\n\n    .dataframe thead th {\n        text-align: right;\n    }\n</style>\n<table border=\"1\" class=\"dataframe\">\n  <thead>\n    <tr style=\"text-align: right;\">\n      <th></th>\n      <th>movie_title</th>\n      <th>imdb_score</th>\n      <th>budget</th>\n    </tr>\n  </thead>\n  <tbody>\n    <tr>\n      <th>2725</th>\n      <td>Towering Inferno</td>\n      <td>9.5</td>\n      <td>NaN</td>\n    </tr>\n    <tr>\n      <th>1920</th>\n      <td>The Shawshank Redemption</td>\n      <td>9.3</td>\n      <td>25000000.0</td>\n    </tr>\n    <tr>\n      <th>3402</th>\n      <td>The Godfather</td>\n      <td>9.2</td>\n      <td>6000000.0</td>\n    </tr>\n    <tr>\n      <th>2779</th>\n      <td>Dekalog</td>\n      <td>9.1</td>\n      <td>NaN</td>\n    </tr>\n    <tr>\n      <th>4312</th>\n      <td>Kickboxer: Vengeance</td>\n      <td>9.1</td>\n      <td>17000000.0</td>\n    </tr>\n  </tbody>\n</table>\n</div>"
     },
     "metadata": {},
     "execution_count": 5
    }
   ],
   "source": [
    "#select top 100 movies by imdb_score\n",
    "\n",
    "movie2.nlargest(100, \"imdb_score\").head()"
   ]
  },
  {
   "cell_type": "code",
   "execution_count": 6,
   "metadata": {},
   "outputs": [
    {
     "output_type": "execute_result",
     "data": {
      "text/plain": [
       "               movie_title  imdb_score    budget\n",
       "4804        Butterfly Girl         8.7  180000.0\n",
       "4801    Children of Heaven         8.5  180000.0\n",
       "4706          12 Angry Men         8.9  350000.0\n",
       "4550          A Separation         8.4  500000.0\n",
       "4636  The Other Dream Team         8.4  500000.0"
      ],
      "text/html": "<div>\n<style scoped>\n    .dataframe tbody tr th:only-of-type {\n        vertical-align: middle;\n    }\n\n    .dataframe tbody tr th {\n        vertical-align: top;\n    }\n\n    .dataframe thead th {\n        text-align: right;\n    }\n</style>\n<table border=\"1\" class=\"dataframe\">\n  <thead>\n    <tr style=\"text-align: right;\">\n      <th></th>\n      <th>movie_title</th>\n      <th>imdb_score</th>\n      <th>budget</th>\n    </tr>\n  </thead>\n  <tbody>\n    <tr>\n      <th>4804</th>\n      <td>Butterfly Girl</td>\n      <td>8.7</td>\n      <td>180000.0</td>\n    </tr>\n    <tr>\n      <th>4801</th>\n      <td>Children of Heaven</td>\n      <td>8.5</td>\n      <td>180000.0</td>\n    </tr>\n    <tr>\n      <th>4706</th>\n      <td>12 Angry Men</td>\n      <td>8.9</td>\n      <td>350000.0</td>\n    </tr>\n    <tr>\n      <th>4550</th>\n      <td>A Separation</td>\n      <td>8.4</td>\n      <td>500000.0</td>\n    </tr>\n    <tr>\n      <th>4636</th>\n      <td>The Other Dream Team</td>\n      <td>8.4</td>\n      <td>500000.0</td>\n    </tr>\n  </tbody>\n</table>\n</div>"
     },
     "metadata": {},
     "execution_count": 6
    }
   ],
   "source": [
    "# return the five lowest budget films among those with a top 100 score\n",
    "\n",
    "(\n",
    "    movie2.nlargest(100, \"imdb_score\").nsmallest(\n",
    "        5, \"budget\"\n",
    "    )\n",
    ")"
   ]
  },
  {
   "cell_type": "code",
   "execution_count": null,
   "metadata": {},
   "outputs": [],
   "source": []
  }
 ]
}