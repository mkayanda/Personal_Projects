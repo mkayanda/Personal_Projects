{
 "metadata": {
  "language_info": {
   "codemirror_mode": {
    "name": "ipython",
    "version": 3
   },
   "file_extension": ".py",
   "mimetype": "text/x-python",
   "name": "python",
   "nbconvert_exporter": "python",
   "pygments_lexer": "ipython3",
   "version": "3.8.5-final"
  },
  "orig_nbformat": 2,
  "kernelspec": {
   "name": "python3",
   "display_name": "Python 3",
   "language": "python"
  }
 },
 "nbformat": 4,
 "nbformat_minor": 2,
 "cells": [
  {
   "source": [
    "### Consider a scenerio where you would want to get top features from given dataset. We'll explore the **movies** dataset in this example"
   ],
   "cell_type": "markdown",
   "metadata": {}
  },
  {
   "cell_type": "code",
   "execution_count": 1,
   "metadata": {},
   "outputs": [],
   "source": [
    "import pandas as pd \n",
    "import numpy as np "
   ]
  },
  {
   "cell_type": "code",
   "execution_count": 4,
   "metadata": {},
   "outputs": [
    {
     "output_type": "execute_result",
     "data": {
      "text/plain": [
       "                                  movie_title  imdb_score       budget\n",
       "0                                      Avatar         7.9  237000000.0\n",
       "1    Pirates of the Caribbean: At World's End         7.1  300000000.0\n",
       "2                                     Spectre         6.8  245000000.0\n",
       "3                       The Dark Knight Rises         8.5  250000000.0\n",
       "4  Star Wars: Episode VII - The Force Awakens         7.1          NaN"
      ],
      "text/html": "<div>\n<style scoped>\n    .dataframe tbody tr th:only-of-type {\n        vertical-align: middle;\n    }\n\n    .dataframe tbody tr th {\n        vertical-align: top;\n    }\n\n    .dataframe thead th {\n        text-align: right;\n    }\n</style>\n<table border=\"1\" class=\"dataframe\">\n  <thead>\n    <tr style=\"text-align: right;\">\n      <th></th>\n      <th>movie_title</th>\n      <th>imdb_score</th>\n      <th>budget</th>\n    </tr>\n  </thead>\n  <tbody>\n    <tr>\n      <th>0</th>\n      <td>Avatar</td>\n      <td>7.9</td>\n      <td>237000000.0</td>\n    </tr>\n    <tr>\n      <th>1</th>\n      <td>Pirates of the Caribbean: At World's End</td>\n      <td>7.1</td>\n      <td>300000000.0</td>\n    </tr>\n    <tr>\n      <th>2</th>\n      <td>Spectre</td>\n      <td>6.8</td>\n      <td>245000000.0</td>\n    </tr>\n    <tr>\n      <th>3</th>\n      <td>The Dark Knight Rises</td>\n      <td>8.5</td>\n      <td>250000000.0</td>\n    </tr>\n    <tr>\n      <th>4</th>\n      <td>Star Wars: Episode VII - The Force Awakens</td>\n      <td>7.1</td>\n      <td>NaN</td>\n    </tr>\n  </tbody>\n</table>\n</div>"
     },
     "metadata": {},
     "execution_count": 4
    }
   ],
   "source": [
    "#Read in the movie dataset, and select the columns: movie_title, imdb_score, and budget\n",
    "\n",
    "movie = pd.read_csv(\"../data/movie.csv\")\n",
    "movie2 = movie[[\"movie_title\", \"imdb_score\", \"budget\"]]\n",
    "movie2.head()"
   ]
  },
  {
   "cell_type": "code",
   "execution_count": 5,
   "metadata": {},
   "outputs": [
    {
     "output_type": "execute_result",
     "data": {
      "text/plain": [
       "                   movie_title  imdb_score      budget\n",
       "2725          Towering Inferno         9.5         NaN\n",
       "1920  The Shawshank Redemption         9.3  25000000.0\n",
       "3402             The Godfather         9.2   6000000.0\n",
       "2779                   Dekalog         9.1         NaN\n",
       "4312      Kickboxer: Vengeance         9.1  17000000.0"
      ],
      "text/html": "<div>\n<style scoped>\n    .dataframe tbody tr th:only-of-type {\n        vertical-align: middle;\n    }\n\n    .dataframe tbody tr th {\n        vertical-align: top;\n    }\n\n    .dataframe thead th {\n        text-align: right;\n    }\n</style>\n<table border=\"1\" class=\"dataframe\">\n  <thead>\n    <tr style=\"text-align: right;\">\n      <th></th>\n      <th>movie_title</th>\n      <th>imdb_score</th>\n      <th>budget</th>\n    </tr>\n  </thead>\n  <tbody>\n    <tr>\n      <th>2725</th>\n      <td>Towering Inferno</td>\n      <td>9.5</td>\n      <td>NaN</td>\n    </tr>\n    <tr>\n      <th>1920</th>\n      <td>The Shawshank Redemption</td>\n      <td>9.3</td>\n      <td>25000000.0</td>\n    </tr>\n    <tr>\n      <th>3402</th>\n      <td>The Godfather</td>\n      <td>9.2</td>\n      <td>6000000.0</td>\n    </tr>\n    <tr>\n      <th>2779</th>\n      <td>Dekalog</td>\n      <td>9.1</td>\n      <td>NaN</td>\n    </tr>\n    <tr>\n      <th>4312</th>\n      <td>Kickboxer: Vengeance</td>\n      <td>9.1</td>\n      <td>17000000.0</td>\n    </tr>\n  </tbody>\n</table>\n</div>"
     },
     "metadata": {},
     "execution_count": 5
    }
   ],
   "source": [
    "#select top 100 movies by imdb_score\n",
    "\n",
    "movie2.nlargest(100, \"imdb_score\").head()"
   ]
  },
  {
   "cell_type": "code",
   "execution_count": 7,
   "metadata": {},
   "outputs": [
    {
     "output_type": "execute_result",
     "data": {
      "text/plain": [
       "               movie_title  imdb_score    budget\n",
       "4804        Butterfly Girl         8.7  180000.0\n",
       "4801    Children of Heaven         8.5  180000.0\n",
       "4706          12 Angry Men         8.9  350000.0\n",
       "4550          A Separation         8.4  500000.0\n",
       "4636  The Other Dream Team         8.4  500000.0"
      ],
      "text/html": "<div>\n<style scoped>\n    .dataframe tbody tr th:only-of-type {\n        vertical-align: middle;\n    }\n\n    .dataframe tbody tr th {\n        vertical-align: top;\n    }\n\n    .dataframe thead th {\n        text-align: right;\n    }\n</style>\n<table border=\"1\" class=\"dataframe\">\n  <thead>\n    <tr style=\"text-align: right;\">\n      <th></th>\n      <th>movie_title</th>\n      <th>imdb_score</th>\n      <th>budget</th>\n    </tr>\n  </thead>\n  <tbody>\n    <tr>\n      <th>4804</th>\n      <td>Butterfly Girl</td>\n      <td>8.7</td>\n      <td>180000.0</td>\n    </tr>\n    <tr>\n      <th>4801</th>\n      <td>Children of Heaven</td>\n      <td>8.5</td>\n      <td>180000.0</td>\n    </tr>\n    <tr>\n      <th>4706</th>\n      <td>12 Angry Men</td>\n      <td>8.9</td>\n      <td>350000.0</td>\n    </tr>\n    <tr>\n      <th>4550</th>\n      <td>A Separation</td>\n      <td>8.4</td>\n      <td>500000.0</td>\n    </tr>\n    <tr>\n      <th>4636</th>\n      <td>The Other Dream Team</td>\n      <td>8.4</td>\n      <td>500000.0</td>\n    </tr>\n  </tbody>\n</table>\n</div>"
     },
     "metadata": {},
     "execution_count": 7
    }
   ],
   "source": [
    "# return the five lowest budget films among those with a top 100 score\n",
    "\n",
    "(\n",
    "    movie2.nlargest(100, \"imdb_score\").nsmallest(\n",
    "        5, \"budget\"\n",
    "    )\n",
    ")"
   ]
  },
  {
   "cell_type": "code",
   "execution_count": 13,
   "metadata": {},
   "outputs": [
    {
     "output_type": "execute_result",
     "data": {
      "text/plain": [
       "                                           movie_title  title_year  imdb_score\n",
       "4695  Intolerance: Love's Struggle Throughout the Ages      1916.0         8.0\n",
       "4833                    Over the Hill to the Poorhouse      1920.0         4.8\n",
       "4767                                    The Big Parade      1925.0         8.3\n",
       "2694                                        Metropolis      1927.0         8.3\n",
       "4697                               The Broadway Melody      1929.0         6.3\n",
       "...                                                ...         ...         ...\n",
       "4683                                            Heroes         NaN         7.7\n",
       "4688                                       Home Movies         NaN         8.2\n",
       "4704                                        Revolution         NaN         6.7\n",
       "4752                                      Happy Valley         NaN         8.5\n",
       "4912                                     The Following         NaN         7.5\n",
       "\n",
       "[4916 rows x 3 columns]"
      ],
      "text/html": "<div>\n<style scoped>\n    .dataframe tbody tr th:only-of-type {\n        vertical-align: middle;\n    }\n\n    .dataframe tbody tr th {\n        vertical-align: top;\n    }\n\n    .dataframe thead th {\n        text-align: right;\n    }\n</style>\n<table border=\"1\" class=\"dataframe\">\n  <thead>\n    <tr style=\"text-align: right;\">\n      <th></th>\n      <th>movie_title</th>\n      <th>title_year</th>\n      <th>imdb_score</th>\n    </tr>\n  </thead>\n  <tbody>\n    <tr>\n      <th>4695</th>\n      <td>Intolerance: Love's Struggle Throughout the Ages</td>\n      <td>1916.0</td>\n      <td>8.0</td>\n    </tr>\n    <tr>\n      <th>4833</th>\n      <td>Over the Hill to the Poorhouse</td>\n      <td>1920.0</td>\n      <td>4.8</td>\n    </tr>\n    <tr>\n      <th>4767</th>\n      <td>The Big Parade</td>\n      <td>1925.0</td>\n      <td>8.3</td>\n    </tr>\n    <tr>\n      <th>2694</th>\n      <td>Metropolis</td>\n      <td>1927.0</td>\n      <td>8.3</td>\n    </tr>\n    <tr>\n      <th>4697</th>\n      <td>The Broadway Melody</td>\n      <td>1929.0</td>\n      <td>6.3</td>\n    </tr>\n    <tr>\n      <th>...</th>\n      <td>...</td>\n      <td>...</td>\n      <td>...</td>\n    </tr>\n    <tr>\n      <th>4683</th>\n      <td>Heroes</td>\n      <td>NaN</td>\n      <td>7.7</td>\n    </tr>\n    <tr>\n      <th>4688</th>\n      <td>Home Movies</td>\n      <td>NaN</td>\n      <td>8.2</td>\n    </tr>\n    <tr>\n      <th>4704</th>\n      <td>Revolution</td>\n      <td>NaN</td>\n      <td>6.7</td>\n    </tr>\n    <tr>\n      <th>4752</th>\n      <td>Happy Valley</td>\n      <td>NaN</td>\n      <td>8.5</td>\n    </tr>\n    <tr>\n      <th>4912</th>\n      <td>The Following</td>\n      <td>NaN</td>\n      <td>7.5</td>\n    </tr>\n  </tbody>\n</table>\n<p>4916 rows × 3 columns</p>\n</div>"
     },
     "metadata": {},
     "execution_count": 13
    }
   ],
   "source": [
    "# sort the dataframe by title_year\n",
    "(\n",
    "        movie[\n",
    "             [\"movie_title\", \"title_year\", \"imdb_score\"]\n",
    "         ].sort_values(\"title_year\", ascending=True)\n",
    " )"
   ]
  },
  {
   "cell_type": "code",
   "execution_count": 14,
   "metadata": {},
   "outputs": [
    {
     "output_type": "execute_result",
     "data": {
      "text/plain": [
       "                      movie_title  title_year  imdb_score\n",
       "4312         Kickboxer: Vengeance      2016.0         9.1\n",
       "4277  A Beginner's Guide to Snuff      2016.0         8.7\n",
       "3798                      Airlift      2016.0         8.5\n",
       "27     Captain America: Civil War      2016.0         8.2\n",
       "98            Godzilla Resurgence      2016.0         8.2\n",
       "...                           ...         ...         ...\n",
       "1391                    Rush Hour         NaN         5.8\n",
       "4031                     Creature         NaN         5.0\n",
       "2165              Meet the Browns         NaN         3.5\n",
       "3246   The Bold and the Beautiful         NaN         3.5\n",
       "2119                 The Bachelor         NaN         2.9\n",
       "\n",
       "[4916 rows x 3 columns]"
      ],
      "text/html": "<div>\n<style scoped>\n    .dataframe tbody tr th:only-of-type {\n        vertical-align: middle;\n    }\n\n    .dataframe tbody tr th {\n        vertical-align: top;\n    }\n\n    .dataframe thead th {\n        text-align: right;\n    }\n</style>\n<table border=\"1\" class=\"dataframe\">\n  <thead>\n    <tr style=\"text-align: right;\">\n      <th></th>\n      <th>movie_title</th>\n      <th>title_year</th>\n      <th>imdb_score</th>\n    </tr>\n  </thead>\n  <tbody>\n    <tr>\n      <th>4312</th>\n      <td>Kickboxer: Vengeance</td>\n      <td>2016.0</td>\n      <td>9.1</td>\n    </tr>\n    <tr>\n      <th>4277</th>\n      <td>A Beginner's Guide to Snuff</td>\n      <td>2016.0</td>\n      <td>8.7</td>\n    </tr>\n    <tr>\n      <th>3798</th>\n      <td>Airlift</td>\n      <td>2016.0</td>\n      <td>8.5</td>\n    </tr>\n    <tr>\n      <th>27</th>\n      <td>Captain America: Civil War</td>\n      <td>2016.0</td>\n      <td>8.2</td>\n    </tr>\n    <tr>\n      <th>98</th>\n      <td>Godzilla Resurgence</td>\n      <td>2016.0</td>\n      <td>8.2</td>\n    </tr>\n    <tr>\n      <th>...</th>\n      <td>...</td>\n      <td>...</td>\n      <td>...</td>\n    </tr>\n    <tr>\n      <th>1391</th>\n      <td>Rush Hour</td>\n      <td>NaN</td>\n      <td>5.8</td>\n    </tr>\n    <tr>\n      <th>4031</th>\n      <td>Creature</td>\n      <td>NaN</td>\n      <td>5.0</td>\n    </tr>\n    <tr>\n      <th>2165</th>\n      <td>Meet the Browns</td>\n      <td>NaN</td>\n      <td>3.5</td>\n    </tr>\n    <tr>\n      <th>3246</th>\n      <td>The Bold and the Beautiful</td>\n      <td>NaN</td>\n      <td>3.5</td>\n    </tr>\n    <tr>\n      <th>2119</th>\n      <td>The Bachelor</td>\n      <td>NaN</td>\n      <td>2.9</td>\n    </tr>\n  </tbody>\n</table>\n<p>4916 rows × 3 columns</p>\n</div>"
     },
     "metadata": {},
     "execution_count": 14
    }
   ],
   "source": [
    "# Notice how only the year was sorted. To sort multiple columns at once, use a list. Let's look at how to sort both year and score\n",
    "\n",
    "(\n",
    "        movie[\n",
    "             [\"movie_title\", \"title_year\", \"imdb_score\"]\n",
    "         ].sort_values(\n",
    "             [\"title_year\", \"imdb_score\"], ascending=False)\n",
    " )"
   ]
  },
  {
   "cell_type": "code",
   "execution_count": 15,
   "metadata": {},
   "outputs": [
    {
     "output_type": "execute_result",
     "data": {
      "text/plain": [
       "                                           movie_title  title_year  imdb_score\n",
       "4312                              Kickboxer: Vengeance      2016.0         9.1\n",
       "3745                                   Running Forever      2015.0         8.6\n",
       "4369                            Queen of the Mountains      2014.0         8.7\n",
       "3935           Batman: The Dark Knight Returns, Part 2      2013.0         8.4\n",
       "3                                The Dark Knight Rises      2012.0         8.5\n",
       "...                                                ...         ...         ...\n",
       "2694                                        Metropolis      1927.0         8.3\n",
       "4767                                    The Big Parade      1925.0         8.3\n",
       "4833                    Over the Hill to the Poorhouse      1920.0         4.8\n",
       "4695  Intolerance: Love's Struggle Throughout the Ages      1916.0         8.0\n",
       "2725                                  Towering Inferno         NaN         9.5\n",
       "\n",
       "[92 rows x 3 columns]"
      ],
      "text/html": "<div>\n<style scoped>\n    .dataframe tbody tr th:only-of-type {\n        vertical-align: middle;\n    }\n\n    .dataframe tbody tr th {\n        vertical-align: top;\n    }\n\n    .dataframe thead th {\n        text-align: right;\n    }\n</style>\n<table border=\"1\" class=\"dataframe\">\n  <thead>\n    <tr style=\"text-align: right;\">\n      <th></th>\n      <th>movie_title</th>\n      <th>title_year</th>\n      <th>imdb_score</th>\n    </tr>\n  </thead>\n  <tbody>\n    <tr>\n      <th>4312</th>\n      <td>Kickboxer: Vengeance</td>\n      <td>2016.0</td>\n      <td>9.1</td>\n    </tr>\n    <tr>\n      <th>3745</th>\n      <td>Running Forever</td>\n      <td>2015.0</td>\n      <td>8.6</td>\n    </tr>\n    <tr>\n      <th>4369</th>\n      <td>Queen of the Mountains</td>\n      <td>2014.0</td>\n      <td>8.7</td>\n    </tr>\n    <tr>\n      <th>3935</th>\n      <td>Batman: The Dark Knight Returns, Part 2</td>\n      <td>2013.0</td>\n      <td>8.4</td>\n    </tr>\n    <tr>\n      <th>3</th>\n      <td>The Dark Knight Rises</td>\n      <td>2012.0</td>\n      <td>8.5</td>\n    </tr>\n    <tr>\n      <th>...</th>\n      <td>...</td>\n      <td>...</td>\n      <td>...</td>\n    </tr>\n    <tr>\n      <th>2694</th>\n      <td>Metropolis</td>\n      <td>1927.0</td>\n      <td>8.3</td>\n    </tr>\n    <tr>\n      <th>4767</th>\n      <td>The Big Parade</td>\n      <td>1925.0</td>\n      <td>8.3</td>\n    </tr>\n    <tr>\n      <th>4833</th>\n      <td>Over the Hill to the Poorhouse</td>\n      <td>1920.0</td>\n      <td>4.8</td>\n    </tr>\n    <tr>\n      <th>4695</th>\n      <td>Intolerance: Love's Struggle Throughout the Ages</td>\n      <td>1916.0</td>\n      <td>8.0</td>\n    </tr>\n    <tr>\n      <th>2725</th>\n      <td>Towering Inferno</td>\n      <td>NaN</td>\n      <td>9.5</td>\n    </tr>\n  </tbody>\n</table>\n<p>92 rows × 3 columns</p>\n</div>"
     },
     "metadata": {},
     "execution_count": 15
    }
   ],
   "source": [
    "# we use the .drop_duplicates method to keep only the first row of every year\n",
    "\n",
    "(\n",
    "        movie[\n",
    "             [\"movie_title\", \"title_year\", \"imdb_score\"]\n",
    "         ].sort_values(\n",
    "             [\"title_year\", \"imdb_score\"], ascending=False)\n",
    "             .drop_duplicates(subset=\"title_year\")\n",
    " )"
   ]
  },
  {
   "cell_type": "code",
   "execution_count": 20,
   "metadata": {},
   "outputs": [
    {
     "output_type": "execute_result",
     "data": {
      "text/plain": [
       "                                           movie_title  title_year  imdb_score\n",
       "4312                              Kickboxer: Vengeance      2016.0         9.1\n",
       "3745                                   Running Forever      2015.0         8.6\n",
       "4369                            Queen of the Mountains      2014.0         8.7\n",
       "3935           Batman: The Dark Knight Returns, Part 2      2013.0         8.4\n",
       "3                                The Dark Knight Rises      2012.0         8.5\n",
       "...                                                ...         ...         ...\n",
       "4555                                     Pandora's Box      1929.0         8.0\n",
       "2694                                        Metropolis      1927.0         8.3\n",
       "4767                                    The Big Parade      1925.0         8.3\n",
       "4833                    Over the Hill to the Poorhouse      1920.0         4.8\n",
       "4695  Intolerance: Love's Struggle Throughout the Ages      1916.0         8.0\n",
       "\n",
       "[91 rows x 3 columns]"
      ],
      "text/html": "<div>\n<style scoped>\n    .dataframe tbody tr th:only-of-type {\n        vertical-align: middle;\n    }\n\n    .dataframe tbody tr th {\n        vertical-align: top;\n    }\n\n    .dataframe thead th {\n        text-align: right;\n    }\n</style>\n<table border=\"1\" class=\"dataframe\">\n  <thead>\n    <tr style=\"text-align: right;\">\n      <th></th>\n      <th>movie_title</th>\n      <th>title_year</th>\n      <th>imdb_score</th>\n    </tr>\n  </thead>\n  <tbody>\n    <tr>\n      <th>4312</th>\n      <td>Kickboxer: Vengeance</td>\n      <td>2016.0</td>\n      <td>9.1</td>\n    </tr>\n    <tr>\n      <th>3745</th>\n      <td>Running Forever</td>\n      <td>2015.0</td>\n      <td>8.6</td>\n    </tr>\n    <tr>\n      <th>4369</th>\n      <td>Queen of the Mountains</td>\n      <td>2014.0</td>\n      <td>8.7</td>\n    </tr>\n    <tr>\n      <th>3935</th>\n      <td>Batman: The Dark Knight Returns, Part 2</td>\n      <td>2013.0</td>\n      <td>8.4</td>\n    </tr>\n    <tr>\n      <th>3</th>\n      <td>The Dark Knight Rises</td>\n      <td>2012.0</td>\n      <td>8.5</td>\n    </tr>\n    <tr>\n      <th>...</th>\n      <td>...</td>\n      <td>...</td>\n      <td>...</td>\n    </tr>\n    <tr>\n      <th>4555</th>\n      <td>Pandora's Box</td>\n      <td>1929.0</td>\n      <td>8.0</td>\n    </tr>\n    <tr>\n      <th>2694</th>\n      <td>Metropolis</td>\n      <td>1927.0</td>\n      <td>8.3</td>\n    </tr>\n    <tr>\n      <th>4767</th>\n      <td>The Big Parade</td>\n      <td>1925.0</td>\n      <td>8.3</td>\n    </tr>\n    <tr>\n      <th>4833</th>\n      <td>Over the Hill to the Poorhouse</td>\n      <td>1920.0</td>\n      <td>4.8</td>\n    </tr>\n    <tr>\n      <th>4695</th>\n      <td>Intolerance: Love's Struggle Throughout the Ages</td>\n      <td>1916.0</td>\n      <td>8.0</td>\n    </tr>\n  </tbody>\n</table>\n<p>91 rows × 3 columns</p>\n</div>"
     },
     "metadata": {},
     "execution_count": 20
    }
   ],
   "source": [
    "# The above operation can also be done using groupby\n",
    "\n",
    "(\n",
    "    movie[[\"movie_title\", \"title_year\", \"imdb_score\"]]\n",
    "    .groupby(\"title_year\", as_index=False)\n",
    "    .apply(\n",
    "        lambda df:df.sort_values(\n",
    "            \"imdb_score\", ascending=False\n",
    "        ).head(1)\n",
    "    )\n",
    "    .droplevel(0)\n",
    "    .sort_values(\"title_year\", ascending=False)\n",
    ")\n"
   ]
  },
  {
   "source": [
    "### It is possible to sort one column in ascending order while simultaneously sorting another column in descending order. To accomplish this, pass in a list of Booleans to the ascending parameter that corresponds to how you would like each column sorted. "
   ],
   "cell_type": "markdown",
   "metadata": {}
  },
  {
   "cell_type": "code",
   "execution_count": 21,
   "metadata": {},
   "outputs": [
    {
     "output_type": "execute_result",
     "data": {
      "text/plain": [
       "                         movie_title  title_year content_rating      budget\n",
       "4026                       Compadres      2016.0              R   3000000.0\n",
       "4658             Fight to the Finish      2016.0          PG-13    150000.0\n",
       "4661                      Rodeo Girl      2016.0             PG    500000.0\n",
       "3252                     The Wailing      2016.0      Not Rated         NaN\n",
       "4659  Alleluia! The Devil's Carnival      2016.0            NaN    500000.0\n",
       "...                              ...         ...            ...         ...\n",
       "2558                      Lilyhammer         NaN          TV-MA  34000000.0\n",
       "807       Sabrina, the Teenage Witch         NaN           TV-G   3000000.0\n",
       "848                    Stargate SG-1         NaN          TV-14   1400000.0\n",
       "2436                          Carlos         NaN      Not Rated         NaN\n",
       "2119                    The Bachelor         NaN            NaN   3000000.0\n",
       "\n",
       "[359 rows x 4 columns]"
      ],
      "text/html": "<div>\n<style scoped>\n    .dataframe tbody tr th:only-of-type {\n        vertical-align: middle;\n    }\n\n    .dataframe tbody tr th {\n        vertical-align: top;\n    }\n\n    .dataframe thead th {\n        text-align: right;\n    }\n</style>\n<table border=\"1\" class=\"dataframe\">\n  <thead>\n    <tr style=\"text-align: right;\">\n      <th></th>\n      <th>movie_title</th>\n      <th>title_year</th>\n      <th>content_rating</th>\n      <th>budget</th>\n    </tr>\n  </thead>\n  <tbody>\n    <tr>\n      <th>4026</th>\n      <td>Compadres</td>\n      <td>2016.0</td>\n      <td>R</td>\n      <td>3000000.0</td>\n    </tr>\n    <tr>\n      <th>4658</th>\n      <td>Fight to the Finish</td>\n      <td>2016.0</td>\n      <td>PG-13</td>\n      <td>150000.0</td>\n    </tr>\n    <tr>\n      <th>4661</th>\n      <td>Rodeo Girl</td>\n      <td>2016.0</td>\n      <td>PG</td>\n      <td>500000.0</td>\n    </tr>\n    <tr>\n      <th>3252</th>\n      <td>The Wailing</td>\n      <td>2016.0</td>\n      <td>Not Rated</td>\n      <td>NaN</td>\n    </tr>\n    <tr>\n      <th>4659</th>\n      <td>Alleluia! The Devil's Carnival</td>\n      <td>2016.0</td>\n      <td>NaN</td>\n      <td>500000.0</td>\n    </tr>\n    <tr>\n      <th>...</th>\n      <td>...</td>\n      <td>...</td>\n      <td>...</td>\n      <td>...</td>\n    </tr>\n    <tr>\n      <th>2558</th>\n      <td>Lilyhammer</td>\n      <td>NaN</td>\n      <td>TV-MA</td>\n      <td>34000000.0</td>\n    </tr>\n    <tr>\n      <th>807</th>\n      <td>Sabrina, the Teenage Witch</td>\n      <td>NaN</td>\n      <td>TV-G</td>\n      <td>3000000.0</td>\n    </tr>\n    <tr>\n      <th>848</th>\n      <td>Stargate SG-1</td>\n      <td>NaN</td>\n      <td>TV-14</td>\n      <td>1400000.0</td>\n    </tr>\n    <tr>\n      <th>2436</th>\n      <td>Carlos</td>\n      <td>NaN</td>\n      <td>Not Rated</td>\n      <td>NaN</td>\n    </tr>\n    <tr>\n      <th>2119</th>\n      <td>The Bachelor</td>\n      <td>NaN</td>\n      <td>NaN</td>\n      <td>3000000.0</td>\n    </tr>\n  </tbody>\n</table>\n<p>359 rows × 4 columns</p>\n</div>"
     },
     "metadata": {},
     "execution_count": 21
    }
   ],
   "source": [
    "(\n",
    "     movie[\n",
    "         [\n",
    "             \"movie_title\",\n",
    "             \"title_year\",\n",
    "             \"content_rating\",\n",
    "             \"budget\",\n",
    "         ]\n",
    "              ]\n",
    "     .sort_values(\n",
    "         [\"title_year\", \"content_rating\", \"budget\"],\n",
    "         ascending=[False, False, True],\n",
    "     )\n",
    "     .drop_duplicates(\n",
    "         subset=[\"title_year\", \"content_rating\"]\n",
    "     )\n",
    ")"
   ]
  },
  {
   "source": [
    "### By default, .drop_duplicates keeps the very first appearance of a value, but this behavior may be modified by passing keep='last' to select the last row of each group or keep=False to drop all duplicates entirely."
   ],
   "cell_type": "markdown",
   "metadata": {}
  },
  {
   "cell_type": "code",
   "execution_count": null,
   "metadata": {},
   "outputs": [],
   "source": []
  }
 ]
}